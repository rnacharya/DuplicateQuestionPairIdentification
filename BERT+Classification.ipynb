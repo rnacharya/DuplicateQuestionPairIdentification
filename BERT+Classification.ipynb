{
  "nbformat": 4,
  "nbformat_minor": 0,
  "metadata": {
    "colab": {
      "name": "BERT+Classification.ipynb",
      "provenance": [],
      "collapsed_sections": [],
      "machine_shape": "hm"
    },
    "kernelspec": {
      "name": "python3",
      "display_name": "Python 3"
    },
    "accelerator": "GPU"
  },
  "cells": [
    {
      "cell_type": "code",
      "metadata": {
        "id": "v9Z4FEUggBQz",
        "colab_type": "code",
        "outputId": "783aa39c-e5c6-44f9-a9b3-ddaf158ec730",
        "colab": {
          "base_uri": "https://localhost:8080/",
          "height": 245
        }
      },
      "source": [
        "!ln -sf /opt/bin/nvidia-smi /usr/bin/nvidia-smi\n",
        "!pip install gputil\n",
        "!pip install psutil\n",
        "!pip install humanize\n",
        "import psutil\n",
        "import humanize\n",
        "import os\n",
        "import GPUtil as GPU\n",
        "GPUs = GPU.getGPUs()\n",
        "# XXX: only one GPU on Colab and isn’t guaranteed\n",
        "gpu = GPUs[0]\n",
        "print(\"My GPU Name is: \",gpu.name)\n",
        "def printm():\n",
        " process = psutil.Process(os.getpid())\n",
        " \n",
        " print(\"Gen RAM Free: \" + humanize.naturalsize( psutil.virtual_memory().available ), \" | Proc size: \" + humanize.naturalsize( process.memory_info().rss))\n",
        " print(\"GPU RAM Free: {0:.0f}MB | Used: {1:.0f}MB | Util {2:3.0f}% | Total {3:.0f}MB\".format(gpu.memoryFree, gpu.memoryUsed, gpu.memoryUtil*100, gpu.memoryTotal))\n",
        "printm() "
      ],
      "execution_count": 1,
      "outputs": [
        {
          "output_type": "stream",
          "text": [
            "Collecting gputil\n",
            "  Downloading https://files.pythonhosted.org/packages/ed/0e/5c61eedde9f6c87713e89d794f01e378cfd9565847d4576fa627d758c554/GPUtil-1.4.0.tar.gz\n",
            "Building wheels for collected packages: gputil\n",
            "  Building wheel for gputil (setup.py) ... \u001b[?25l\u001b[?25hdone\n",
            "  Created wheel for gputil: filename=GPUtil-1.4.0-cp36-none-any.whl size=7410 sha256=19198b33547eea56835a030579a59c7276e9d30e0bf2e9dbd15b58fe614f501b\n",
            "  Stored in directory: /root/.cache/pip/wheels/3d/77/07/80562de4bb0786e5ea186911a2c831fdd0018bda69beab71fd\n",
            "Successfully built gputil\n",
            "Installing collected packages: gputil\n",
            "Successfully installed gputil-1.4.0\n",
            "Requirement already satisfied: psutil in /usr/local/lib/python3.6/dist-packages (5.4.8)\n",
            "Requirement already satisfied: humanize in /usr/local/lib/python3.6/dist-packages (0.5.1)\n",
            "My GPU Name is:  Tesla P100-PCIE-16GB\n",
            "Gen RAM Free: 26.4 GB  | Proc size: 155.9 MB\n",
            "GPU RAM Free: 16280MB | Used: 0MB | Util   0% | Total 16280MB\n"
          ],
          "name": "stdout"
        }
      ]
    },
    {
      "cell_type": "code",
      "metadata": {
        "id": "kaZLqI1LgEPw",
        "colab_type": "code",
        "colab": {}
      },
      "source": [
        "!kill -9 -1"
      ],
      "execution_count": 0,
      "outputs": []
    },
    {
      "cell_type": "code",
      "metadata": {
        "id": "fLfYlh4FIpsu",
        "colab_type": "code",
        "colab": {}
      },
      "source": [
        "import torch"
      ],
      "execution_count": 0,
      "outputs": []
    },
    {
      "cell_type": "code",
      "metadata": {
        "id": "ePIaLYKFIvRr",
        "colab_type": "code",
        "outputId": "dae7aacc-bea5-4e72-d2d0-0f5207c921d1",
        "colab": {
          "base_uri": "https://localhost:8080/",
          "height": 82
        }
      },
      "source": [
        "# do I have GPU:\n",
        "gpu_available = torch.cuda.is_available()\n",
        "print(gpu_available)\n",
        "device = torch.device(\"cuda\" if gpu_available else \"cpu\")\n",
        "# number of GPUs I have:\n",
        "num = torch.cuda.device_count()\n",
        "print(f'I have {num} GPUs')\n",
        "\n",
        "# current device index\n",
        "idx = torch.cuda.current_device()\n",
        "print(f'My current device has index {idx}')\n",
        "\n",
        "# GPU's name\n",
        "name = torch.cuda.get_device_name(idx)\n",
        "print(f'My GPU is {name}')"
      ],
      "execution_count": 3,
      "outputs": [
        {
          "output_type": "stream",
          "text": [
            "True\n",
            "I have 1 GPUs\n",
            "My current device has index 0\n",
            "My GPU is Tesla P100-PCIE-16GB\n"
          ],
          "name": "stdout"
        }
      ]
    },
    {
      "cell_type": "code",
      "metadata": {
        "id": "xHSioiTkIzGb",
        "colab_type": "code",
        "outputId": "03276bdb-659b-48f2-a2e0-089315921762",
        "colab": {
          "base_uri": "https://localhost:8080/",
          "height": 586
        }
      },
      "source": [
        "!pip install transformers"
      ],
      "execution_count": 4,
      "outputs": [
        {
          "output_type": "stream",
          "text": [
            "Collecting transformers\n",
            "\u001b[?25l  Downloading https://files.pythonhosted.org/packages/d1/08/4a6768ca1a7a4fa37e5ee08077c5d02b8d83876bd36caa5fc24d98992ac2/transformers-2.2.2-py3-none-any.whl (387kB)\n",
            "\u001b[K     |████████████████████████████████| 389kB 2.8MB/s \n",
            "\u001b[?25hCollecting sentencepiece\n",
            "\u001b[?25l  Downloading https://files.pythonhosted.org/packages/74/f4/2d5214cbf13d06e7cb2c20d84115ca25b53ea76fa1f0ade0e3c9749de214/sentencepiece-0.1.85-cp36-cp36m-manylinux1_x86_64.whl (1.0MB)\n",
            "\u001b[K     |████████████████████████████████| 1.0MB 8.9MB/s \n",
            "\u001b[?25hRequirement already satisfied: numpy in /usr/local/lib/python3.6/dist-packages (from transformers) (1.17.4)\n",
            "Collecting regex\n",
            "\u001b[?25l  Downloading https://files.pythonhosted.org/packages/91/0e/84041e5245d0bfc0f6c6431b36f8d7e1668ee0ce5f8184e0e1f9ee1082b6/regex-2019.12.19-cp36-cp36m-manylinux2010_x86_64.whl (689kB)\n",
            "\u001b[K     |████████████████████████████████| 696kB 17.5MB/s \n",
            "\u001b[?25hRequirement already satisfied: requests in /usr/local/lib/python3.6/dist-packages (from transformers) (2.21.0)\n",
            "Requirement already satisfied: tqdm in /usr/local/lib/python3.6/dist-packages (from transformers) (4.28.1)\n",
            "Requirement already satisfied: boto3 in /usr/local/lib/python3.6/dist-packages (from transformers) (1.10.36)\n",
            "Collecting sacremoses\n",
            "\u001b[?25l  Downloading https://files.pythonhosted.org/packages/1f/8e/ed5364a06a9ba720fddd9820155cc57300d28f5f43a6fd7b7e817177e642/sacremoses-0.0.35.tar.gz (859kB)\n",
            "\u001b[K     |████████████████████████████████| 860kB 22.8MB/s \n",
            "\u001b[?25hRequirement already satisfied: urllib3<1.25,>=1.21.1 in /usr/local/lib/python3.6/dist-packages (from requests->transformers) (1.24.3)\n",
            "Requirement already satisfied: idna<2.9,>=2.5 in /usr/local/lib/python3.6/dist-packages (from requests->transformers) (2.8)\n",
            "Requirement already satisfied: certifi>=2017.4.17 in /usr/local/lib/python3.6/dist-packages (from requests->transformers) (2019.11.28)\n",
            "Requirement already satisfied: chardet<3.1.0,>=3.0.2 in /usr/local/lib/python3.6/dist-packages (from requests->transformers) (3.0.4)\n",
            "Requirement already satisfied: jmespath<1.0.0,>=0.7.1 in /usr/local/lib/python3.6/dist-packages (from boto3->transformers) (0.9.4)\n",
            "Requirement already satisfied: s3transfer<0.3.0,>=0.2.0 in /usr/local/lib/python3.6/dist-packages (from boto3->transformers) (0.2.1)\n",
            "Requirement already satisfied: botocore<1.14.0,>=1.13.36 in /usr/local/lib/python3.6/dist-packages (from boto3->transformers) (1.13.36)\n",
            "Requirement already satisfied: six in /usr/local/lib/python3.6/dist-packages (from sacremoses->transformers) (1.12.0)\n",
            "Requirement already satisfied: click in /usr/local/lib/python3.6/dist-packages (from sacremoses->transformers) (7.0)\n",
            "Requirement already satisfied: joblib in /usr/local/lib/python3.6/dist-packages (from sacremoses->transformers) (0.14.1)\n",
            "Requirement already satisfied: python-dateutil<2.8.1,>=2.1; python_version >= \"2.7\" in /usr/local/lib/python3.6/dist-packages (from botocore<1.14.0,>=1.13.36->boto3->transformers) (2.6.1)\n",
            "Requirement already satisfied: docutils<0.16,>=0.10 in /usr/local/lib/python3.6/dist-packages (from botocore<1.14.0,>=1.13.36->boto3->transformers) (0.15.2)\n",
            "Building wheels for collected packages: sacremoses\n",
            "  Building wheel for sacremoses (setup.py) ... \u001b[?25l\u001b[?25hdone\n",
            "  Created wheel for sacremoses: filename=sacremoses-0.0.35-cp36-none-any.whl size=883999 sha256=241c64835e56d8a4c41275cd0c7c29b1563e48a5b14b3001b10e4fe894179ef5\n",
            "  Stored in directory: /root/.cache/pip/wheels/63/2a/db/63e2909042c634ef551d0d9ac825b2b0b32dede4a6d87ddc94\n",
            "Successfully built sacremoses\n",
            "Installing collected packages: sentencepiece, regex, sacremoses, transformers\n",
            "Successfully installed regex-2019.12.19 sacremoses-0.0.35 sentencepiece-0.1.85 transformers-2.2.2\n"
          ],
          "name": "stdout"
        }
      ]
    },
    {
      "cell_type": "code",
      "metadata": {
        "id": "TJZ8jOIjI4ca",
        "colab_type": "code",
        "outputId": "69ef688d-ecc4-405b-b9cc-cb39075fcdd7",
        "colab": {
          "base_uri": "https://localhost:8080/",
          "height": 110
        }
      },
      "source": [
        "from torch.utils.data import TensorDataset, DataLoader, RandomSampler, SequentialSampler\n",
        "from keras.preprocessing.sequence import pad_sequences\n",
        "#from sklearn.model_selection import train_test_split\n",
        "#from pytorch_pretrained_bert import BertAdam\n",
        "#from pytorch_pretrained_bert.modeling import BertForPreTraining, BertPreTrainedModel, BertModel, BertConfig, BertForMaskedLM, BertForSequenceClassification\n",
        "from tqdm import tqdm, trange\n",
        "from torch.nn import CrossEntropyLoss\n",
        "import pandas as pd\n",
        "import io\n",
        "import numpy as np\n",
        "import nltk\n",
        "from nltk.corpus import stopwords\n",
        "nltk.download('stopwords')\n",
        "stop=stopwords.words('english')\n",
        "import matplotlib.pyplot as plt\n",
        "% matplotlib inline"
      ],
      "execution_count": 5,
      "outputs": [
        {
          "output_type": "stream",
          "text": [
            "Using TensorFlow backend.\n"
          ],
          "name": "stderr"
        },
        {
          "output_type": "display_data",
          "data": {
            "text/html": [
              "<p style=\"color: red;\">\n",
              "The default version of TensorFlow in Colab will soon switch to TensorFlow 2.x.<br>\n",
              "We recommend you <a href=\"https://www.tensorflow.org/guide/migrate\" target=\"_blank\">upgrade</a> now \n",
              "or ensure your notebook will continue to use TensorFlow 1.x via the <code>%tensorflow_version 1.x</code> magic:\n",
              "<a href=\"https://colab.research.google.com/notebooks/tensorflow_version.ipynb\" target=\"_blank\">more info</a>.</p>\n"
            ],
            "text/plain": [
              "<IPython.core.display.HTML object>"
            ]
          },
          "metadata": {
            "tags": []
          }
        },
        {
          "output_type": "stream",
          "text": [
            "[nltk_data] Downloading package stopwords to /root/nltk_data...\n",
            "[nltk_data]   Unzipping corpora/stopwords.zip.\n"
          ],
          "name": "stdout"
        }
      ]
    },
    {
      "cell_type": "code",
      "metadata": {
        "id": "7mkcVROrCQhC",
        "colab_type": "code",
        "colab": {}
      },
      "source": [
        "from transformers import BertTokenizer"
      ],
      "execution_count": 0,
      "outputs": []
    },
    {
      "cell_type": "code",
      "metadata": {
        "id": "_d-4pe4VI6v5",
        "colab_type": "code",
        "outputId": "7a32f6d7-ab6f-40cd-982b-3d59dffa5460",
        "colab": {
          "resources": {
            "http://localhost:8080/nbextensions/google.colab/files.js": {
              "data": "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",
              "ok": true,
              "headers": [
                [
                  "content-type",
                  "application/javascript"
                ]
              ],
              "status": 200,
              "status_text": ""
            }
          },
          "base_uri": "https://localhost:8080/",
          "height": 37
        }
      },
      "source": [
        "from google.colab import files\n",
        "uploaded = files.upload()"
      ],
      "execution_count": 0,
      "outputs": [
        {
          "output_type": "display_data",
          "data": {
            "text/html": [
              "\n",
              "     <input type=\"file\" id=\"files-b2ececb5-f719-4e49-973b-bcf0957f7869\" name=\"files[]\" multiple disabled />\n",
              "     <output id=\"result-b2ececb5-f719-4e49-973b-bcf0957f7869\">\n",
              "      Upload widget is only available when the cell has been executed in the\n",
              "      current browser session. Please rerun this cell to enable.\n",
              "      </output>\n",
              "      <script src=\"/nbextensions/google.colab/files.js\"></script> "
            ],
            "text/plain": [
              "<IPython.core.display.HTML object>"
            ]
          },
          "metadata": {
            "tags": []
          }
        }
      ]
    },
    {
      "cell_type": "code",
      "metadata": {
        "id": "cKJFzsuwt_9v",
        "colab_type": "code",
        "outputId": "c43a40d7-fe0c-4869-be6f-4d9bc06b2d36",
        "colab": {
          "base_uri": "https://localhost:8080/",
          "height": 118
        }
      },
      "source": [
        "from google.colab import drive\n",
        "drive.mount('/content/drive')"
      ],
      "execution_count": 7,
      "outputs": [
        {
          "output_type": "stream",
          "text": [
            "Go to this URL in a browser: https://accounts.google.com/o/oauth2/auth?client_id=947318989803-6bn6qk8qdgf4n4g3pfee6491hc0brc4i.apps.googleusercontent.com&redirect_uri=urn%3aietf%3awg%3aoauth%3a2.0%3aoob&response_type=code&scope=email%20https%3a%2f%2fwww.googleapis.com%2fauth%2fdocs.test%20https%3a%2f%2fwww.googleapis.com%2fauth%2fdrive%20https%3a%2f%2fwww.googleapis.com%2fauth%2fdrive.photos.readonly%20https%3a%2f%2fwww.googleapis.com%2fauth%2fpeopleapi.readonly\n",
            "\n",
            "Enter your authorization code:\n",
            "··········\n",
            "Mounted at /content/drive\n"
          ],
          "name": "stdout"
        }
      ]
    },
    {
      "cell_type": "code",
      "metadata": {
        "id": "UlSLbYR7aJCx",
        "colab_type": "code",
        "colab": {}
      },
      "source": [
        "def balancedf(df, size):\n",
        "  size=int(size/2)\n",
        "  df['is_duplicate']=pd.to_numeric(df['is_duplicate'], errors='coerce')\n",
        "  df.dropna(inplace=True)\n",
        "  so_pos=df.loc[df['is_duplicate'] == 1]\n",
        "  so_neg=df.loc[df['is_duplicate'] == 0]\n",
        "  so_pos=so_pos.head(size)\n",
        "  so_neg=so_neg.head(size)\n",
        "  #print(\"Positive: \", so_pos.shape)\n",
        "  #print(\"Negative: \", so_neg.shape)\n",
        "  df=pd.concat([so_pos, so_neg])\n",
        "  #df=df.sample(frac=1)\n",
        "  return df"
      ],
      "execution_count": 0,
      "outputs": []
    },
    {
      "cell_type": "code",
      "metadata": {
        "id": "sodFlhpQI82V",
        "colab_type": "code",
        "outputId": "d690acff-a61c-4c5a-bcd1-bbe2954759f7",
        "colab": {
          "base_uri": "https://localhost:8080/",
          "height": 228
        }
      },
      "source": [
        "quora_df = pd.read_csv(\"drive/My Drive/Colab Notebooks/train.csv\", names=['qid1', 'qid2', 'question1', 'question2', 'is_duplicate'])\n",
        "#1. quora_df=balancedf(quora_df, 32000)\n",
        "#4. Only quora, in domain\n",
        "quora_df=balancedf(quora_df, 7000)\n",
        "q_pos=quora_df.loc[quora_df['is_duplicate']==1]\n",
        "q_neg=quora_df.loc[quora_df['is_duplicate']==0]\n",
        "print(\"Positive examples:\", q_pos.shape)\n",
        "print(\"Negative examples:\", q_neg.shape)\n",
        "q_train=pd.concat([q_pos.head(3000), au_neg.head(3000)])\n",
        "q_test=pd.concat([q_pos.tail(500), au_neg.tail(500)])\n",
        "df=q_train\n",
        "test_df=q_test\n",
        "\n",
        "\n",
        "\n",
        "\n",
        "so_df=pd.read_csv(\"drive/My Drive/Colab Notebooks/stackoverflow1-title_only.csv\", names=['qid1', 'qid2', 'question1', 'question2', 'is_duplicate'])\n",
        "#1. so_df=balancedf(so_df, 4000)\n",
        "so_df=balancedf(so_df, 3000)\n",
        "#3 Cross domain, but related genresso_df=balancedf(so_df, 6000)\n",
        "\n",
        "au_df=pd.read_csv(\"drive/My Drive/Colab Notebooks/askubuntu-title_only.csv\", names=['qid1', 'qid2', 'question1', 'question2', 'is_duplicate'])\n",
        "#1,2 \n",
        "au_df=balancedf(au_df, 4000)\n",
        "#3 Cross domain, but related genresau_df=balancedf(au_df, 1000)\n",
        "\n",
        "po_df=pd.read_csv(\"drive/My Drive/Colab Notebooks/politics-title_only.csv\", names=['qid1', 'qid2', 'question1', 'question2', 'is_duplicate'])\n",
        "po_df=balancedf(po_df, 1000)\n",
        "\n",
        "mo_df=pd.read_csv(\"drive/My Drive/Colab Notebooks/money-title_only.csv\", names=['qid1', 'qid2', 'question1', 'question2', 'is_duplicate'])\n",
        "mo_df=balancedf(mo_df, 1000)\n",
        "\n",
        "'''1. All MIX:df=pd.concat([au_df,quora_df])\n",
        "df=df.sample(frac=1)\n",
        "test_df=pd.concat([so_df,po_df,mo_df])\n",
        "test_df=test_df.sample(frac=1)\n",
        "print(df.shape)\n",
        "print(test_df.shape)'''\n",
        "\n",
        "#3. Cross domain but related genres\n",
        "'''df=so_df\n",
        "df=df.sample(frac=1)\n",
        "test_df=au_df\n",
        "test_df=test_df.sample(frac=1)\n",
        "print(df.shape)\n",
        "print(test_df.shape)'''\n",
        "\n",
        "\n",
        "#2. Joint training but related genres mic: \n",
        "'''au_pos=au_df.loc[au_df['is_duplicate'] == 1]\n",
        "au_neg=au_df.loc[au_df['is_duplicate'] == 0]\n",
        "au_train=pd.concat([au_pos.head(1500), au_neg.head(1500)])\n",
        "au_test=pd.concat([au_pos.tail(500), au_neg.tail(500)])\n",
        "df=pd.concat([au_train,so_df])\n",
        "df=df.sample(frac=1)\n",
        "\n",
        "test_df=pd.concat([au_test])\n",
        "test_df=test_df.sample(frac=1)\n",
        "print(df.shape)\n",
        "print(test_df.shape)'''\n",
        "\n",
        "print(\"Shapes:\")\n",
        "print(df.shape)\n",
        "print(test_df.shape)\n",
        "\n",
        "df['question1']=df['question1'].astype(str)\n",
        "df['question2']=df['question2'].astype(str)\n",
        "df['is_duplicate']=df['is_duplicate'].astype(str)\n",
        "test_df['question1']=test_df['question1'].astype(str)\n",
        "test_df['question2']=test_df['question2'].astype(str)\n",
        "test_df['is_duplicate']=test_df['is_duplicate'].astype(str)\n",
        "dtypeCount =[df.iloc[:,i].apply(type).value_counts() for i in range(df.shape[1])]\n",
        "print(dtypeCount)"
      ],
      "execution_count": 135,
      "outputs": [
        {
          "output_type": "stream",
          "text": [
            "/usr/local/lib/python3.6/dist-packages/IPython/core/interactiveshell.py:2718: DtypeWarning: Columns (0,1,2,5) have mixed types. Specify dtype option on import or set low_memory=False.\n",
            "  interactivity=interactivity, compiler=compiler, result=result)\n"
          ],
          "name": "stderr"
        },
        {
          "output_type": "stream",
          "text": [
            "Positive examples: (3500, 5)\n",
            "Negative examples: (3500, 5)\n",
            "Shapes:\n",
            "(5000, 5)\n",
            "(1000, 5)\n",
            "[<class 'str'>    5000\n",
            "Name: qid1, dtype: int64, <class 'str'>    5000\n",
            "Name: qid2, dtype: int64, <class 'str'>    5000\n",
            "Name: question1, dtype: int64, <class 'str'>    5000\n",
            "Name: question2, dtype: int64, <class 'str'>    5000\n",
            "Name: is_duplicate, dtype: int64]\n"
          ],
          "name": "stdout"
        }
      ]
    },
    {
      "cell_type": "code",
      "metadata": {
        "id": "lPuOdK8QlGA5",
        "colab_type": "code",
        "colab": {}
      },
      "source": [
        "def preprocessdf(df):\n",
        "  numrows,numcols=df.shape\n",
        "  numrows*=2\n",
        "  sumlen=0\n",
        "  vocab=set()\n",
        "  num_duplicates=0\n",
        "  df['question1']=df['question1'].str.lower()\n",
        "  df['question1']=df['question1'].apply(lambda x: \" \".join(x for x in x.split() if x not in stop))\n",
        "  df['question1']=df['question1'].str.replace('[^\\w\\s]','')\n",
        "  df['question2']=df['question2'].apply(lambda x: \" \".join(x for x in x.split() if x not in stop))\n",
        "  df['question2']=df['question2'].str.replace('[^\\w\\s]','')\n",
        "  df['question2']=df['question2'].str.lower()\n",
        "  for idx, row in df.iterrows():\n",
        "  #print(row)\n",
        "    q1=row[\"question1\"]\n",
        "    if(q1==\"question1\"):\n",
        "      continue\n",
        "    q2=row[\"question2\"]\n",
        "  #print(q1)\n",
        "  #print(q2)\n",
        "    if(int(float(row[\"is_duplicate\"]))==1):\n",
        "      num_duplicates+=1\n",
        "    sumlen+=len(str(q1))\n",
        "    sumlen+=len(str(q2))\n",
        "    if(\"float\" in str(type(q1)) or \"float\" in str(type(q2))):\n",
        "      continue\n",
        "    vocab.update(q1.split())\n",
        "    vocab.update(q2.split())\n",
        "  print(\"Size of vocabulary:\", len(vocab))  \n",
        "  print(\"Average sequence length: \", int(sumlen/numrows)) \n",
        "  print(\"Number of duplicate questions: \", num_duplicates) \n",
        "#print(df[\"question2\"][1]) \n",
        "  return df  "
      ],
      "execution_count": 0,
      "outputs": []
    },
    {
      "cell_type": "code",
      "metadata": {
        "id": "d_gocXkNlg5p",
        "colab_type": "code",
        "outputId": "782f97f6-cb7b-47e8-f341-a7867d327b32",
        "colab": {
          "base_uri": "https://localhost:8080/",
          "height": 82
        }
      },
      "source": [
        "df=preprocessdf(df)\n",
        "print(df.shape)"
      ],
      "execution_count": 137,
      "outputs": [
        {
          "output_type": "stream",
          "text": [
            "Size of vocabulary: 7419\n",
            "Average sequence length:  35\n",
            "Number of duplicate questions:  3000\n",
            "(5000, 5)\n"
          ],
          "name": "stdout"
        }
      ]
    },
    {
      "cell_type": "code",
      "metadata": {
        "id": "Hrz_wQa-I_Jq",
        "colab_type": "code",
        "outputId": "fe166bd3-795f-4d8a-8869-6cfe61df2515",
        "colab": {
          "base_uri": "https://localhost:8080/",
          "height": 50
        }
      },
      "source": [
        "# Create sentence and label lists\n",
        "text_a = df.question1\n",
        "text_b=df.question2\n",
        "is_dup=df.is_duplicate\n",
        "questions=[]\n",
        "# We need to add special tokens at the beginning and end of each sentence for BERT to work properly\n",
        "labels=list()\n",
        "m,n=df.shape\n",
        "print(m)\n",
        "for w in range(0, m):\n",
        "  q1=df.iloc[w,2]\n",
        "  #print(q1)\n",
        "  q2=df.iloc[w,3]\n",
        "  #print(q2)\n",
        "  is_d=int(float(df.iloc[w,4]))\n",
        "  #print(is_d)\n",
        "  if(q1==\"question1\"):\n",
        "    continue\n",
        "  questions.append(\"[CLS] \" + str(q1) + \" [SEP] \" +str(q2)+ \" [SEP]\")\n",
        "  #print(is_d)\n",
        "  labels.append(is_d)\n",
        "#labels = df.is_duplicate.values\n",
        "#labels=list(map(int, labels)) \n",
        "labels=np.asarray(labels)\n",
        "print(len(labels))\n",
        "#print(questions[1])"
      ],
      "execution_count": 138,
      "outputs": [
        {
          "output_type": "stream",
          "text": [
            "5000\n",
            "5000\n"
          ],
          "name": "stdout"
        }
      ]
    },
    {
      "cell_type": "code",
      "metadata": {
        "id": "nb67l2HsJDy_",
        "colab_type": "code",
        "colab": {}
      },
      "source": [
        "MAX_LEN = 80\n"
      ],
      "execution_count": 0,
      "outputs": []
    },
    {
      "cell_type": "code",
      "metadata": {
        "id": "HZoheTzWJBzM",
        "colab_type": "code",
        "outputId": "a8e02ca3-144b-47b9-fbde-cd271c78833f",
        "colab": {
          "base_uri": "https://localhost:8080/",
          "height": 33
        }
      },
      "source": [
        "from transformers import BertModel, BertTokenizer\n",
        "tokenizer = BertTokenizer.from_pretrained('bert-base-uncased', do_lower_case=True)\n",
        "\n",
        "input_ids = [tokenizer.encode(sent) for sent in questions]\n",
        "print (\"Tokenize the first sentence:\")\n"
      ],
      "execution_count": 140,
      "outputs": [
        {
          "output_type": "stream",
          "text": [
            "Tokenize the first sentence:\n"
          ],
          "name": "stdout"
        }
      ]
    },
    {
      "cell_type": "code",
      "metadata": {
        "id": "E_SN8bm2JJNE",
        "colab_type": "code",
        "outputId": "a5a4d689-e20d-40e3-8f4c-79116e6b7006",
        "colab": {
          "base_uri": "https://localhost:8080/",
          "height": 33
        }
      },
      "source": [
        "#print(tokenized_texts[0])\n",
        "##input_ids = [tokenizer.convert_tokens_to_ids(x) for x in tokenized_texts]\n",
        "#print(input_ids[0])"
      ],
      "execution_count": 0,
      "outputs": [
        {
          "output_type": "stream",
          "text": [
            "[101, 5328, 7221, 3156, 6694, 21766, 28084, 3964, 2634, 102, 2339, 2231, 9225, 21029, 3156, 21766, 28084, 2015, 6694, 21766, 28084, 2015, 9598, 3964, 2634, 102]\n"
          ],
          "name": "stdout"
        }
      ]
    },
    {
      "cell_type": "code",
      "metadata": {
        "id": "w_iCD0uEJNJd",
        "colab_type": "code",
        "outputId": "37563ac9-857b-4956-ce12-3eebc85deb09",
        "colab": {
          "base_uri": "https://localhost:8080/",
          "height": 33
        }
      },
      "source": [
        "input_ids = pad_sequences(input_ids, maxlen=MAX_LEN, dtype=\"long\", value=0, truncating=\"post\", padding=\"post\")\n",
        "print(input_ids.shape)"
      ],
      "execution_count": 141,
      "outputs": [
        {
          "output_type": "stream",
          "text": [
            "(5000, 80)\n"
          ],
          "name": "stdout"
        }
      ]
    },
    {
      "cell_type": "code",
      "metadata": {
        "id": "TYQRss27JN3V",
        "colab_type": "code",
        "outputId": "f6e6fba2-74f1-4a23-aab2-f8ce6488efc3",
        "colab": {
          "base_uri": "https://localhost:8080/",
          "height": 167
        }
      },
      "source": [
        "# Create attention masks\n",
        "attention_masks = []\n",
        "\n",
        "# Create a mask of 1s for each token followed by 0s for padding\n",
        "for seq in input_ids:\n",
        "  att_mask = [int(token_id > 0) for token_id in seq]\n",
        "  attention_masks.append(att_mask)\n",
        "  #print(seq_mask)\n",
        "  #print(seq)\n",
        "  #break\n",
        "#print(attention_masks[0]) \n",
        "print(input_ids[0]) \n",
        "print(attention_masks[0])"
      ],
      "execution_count": 142,
      "outputs": [
        {
          "output_type": "stream",
          "text": [
            "[  101   101  2350  2458 10381 12707  7315 13484   102  2029  2350  2458\n",
            " 10381 12707  7315 13484   102   102     0     0     0     0     0     0\n",
            "     0     0     0     0     0     0     0     0     0     0     0     0\n",
            "     0     0     0     0     0     0     0     0     0     0     0     0\n",
            "     0     0     0     0     0     0     0     0     0     0     0     0\n",
            "     0     0     0     0     0     0     0     0     0     0     0     0\n",
            "     0     0     0     0     0     0     0     0]\n",
            "[1, 1, 1, 1, 1, 1, 1, 1, 1, 1, 1, 1, 1, 1, 1, 1, 1, 1, 0, 0, 0, 0, 0, 0, 0, 0, 0, 0, 0, 0, 0, 0, 0, 0, 0, 0, 0, 0, 0, 0, 0, 0, 0, 0, 0, 0, 0, 0, 0, 0, 0, 0, 0, 0, 0, 0, 0, 0, 0, 0, 0, 0, 0, 0, 0, 0, 0, 0, 0, 0, 0, 0, 0, 0, 0, 0, 0, 0, 0, 0]\n"
          ],
          "name": "stdout"
        }
      ]
    },
    {
      "cell_type": "code",
      "metadata": {
        "id": "-5cQZCPTJU3L",
        "colab_type": "code",
        "colab": {}
      },
      "source": [
        "# Use train_test_split to split our data into train and validation sets for training\n",
        "from sklearn.model_selection import train_test_split\n",
        "train_inputs, validation_inputs, train_labels, validation_labels = train_test_split(input_ids, labels, \n",
        "                                                            random_state=2018, test_size=0.1)\n",
        "train_masks, validation_masks, _, _ = train_test_split(attention_masks, input_ids,\n",
        "                                             random_state=2018, test_size=0.1)"
      ],
      "execution_count": 0,
      "outputs": []
    },
    {
      "cell_type": "code",
      "metadata": {
        "id": "jvJbL9J-JXUu",
        "colab_type": "code",
        "colab": {}
      },
      "source": [
        "# Convert all of our data into torch tensors, the required datatype for our model\n",
        "train_inputs = torch.tensor(train_inputs)\n",
        "validation_inputs = torch.tensor(validation_inputs)\n",
        "train_labels = torch.tensor(train_labels)\n",
        "validation_labels = torch.tensor(validation_labels)\n",
        "train_masks = torch.tensor(train_masks)\n",
        "validation_masks = torch.tensor(validation_masks)\n"
      ],
      "execution_count": 0,
      "outputs": []
    },
    {
      "cell_type": "code",
      "metadata": {
        "id": "B5zCHaD4JZf5",
        "colab_type": "code",
        "colab": {}
      },
      "source": [
        "# Select a batch size for training. For fine-tuning BERT on a specific task, the authors recommend a batch size of 16 or 32\n",
        "batch_size = 16\n",
        "\n",
        "# Create an iterator of our data with torch DataLoader. This helps save on memory during training because, unlike a for loop, \n",
        "# with an iterator the entire dataset does not need to be loaded into memory\n",
        "\n",
        "train_data = TensorDataset(train_inputs, train_masks, train_labels)\n",
        "train_sampler = RandomSampler(train_data)\n",
        "train_dataloader = DataLoader(train_data, sampler=train_sampler, batch_size=batch_size)\n",
        "\n",
        "validation_data = TensorDataset(validation_inputs, validation_masks, validation_labels)\n",
        "validation_sampler = SequentialSampler(validation_data)\n",
        "validation_dataloader = DataLoader(validation_data, sampler=validation_sampler, batch_size=batch_size)"
      ],
      "execution_count": 0,
      "outputs": []
    },
    {
      "cell_type": "code",
      "metadata": {
        "id": "LebX2rBxJb_M",
        "colab_type": "code",
        "outputId": "2bdc71a5-12a6-412c-97d0-7993d50a0cbb",
        "colab": {
          "base_uri": "https://localhost:8080/",
          "height": 1000
        }
      },
      "source": [
        "from transformers import BertForSequenceClassification, AdamW, BertConfig\n",
        "\n",
        "# Load BertForSequenceClassification, the pretrained BERT model with a single \n",
        "# linear classification layer on top. \n",
        "model = BertForSequenceClassification.from_pretrained(\"bert-base-uncased\", num_labels=2)\n",
        "\n",
        "# Tell pytorch to run this model on the GPU.\n",
        "model.cuda()"
      ],
      "execution_count": 177,
      "outputs": [
        {
          "output_type": "execute_result",
          "data": {
            "text/plain": [
              "BertForSequenceClassification(\n",
              "  (bert): BertModel(\n",
              "    (embeddings): BertEmbeddings(\n",
              "      (word_embeddings): Embedding(30522, 768, padding_idx=0)\n",
              "      (position_embeddings): Embedding(512, 768)\n",
              "      (token_type_embeddings): Embedding(2, 768)\n",
              "      (LayerNorm): LayerNorm((768,), eps=1e-12, elementwise_affine=True)\n",
              "      (dropout): Dropout(p=0.1, inplace=False)\n",
              "    )\n",
              "    (encoder): BertEncoder(\n",
              "      (layer): ModuleList(\n",
              "        (0): BertLayer(\n",
              "          (attention): BertAttention(\n",
              "            (self): BertSelfAttention(\n",
              "              (query): Linear(in_features=768, out_features=768, bias=True)\n",
              "              (key): Linear(in_features=768, out_features=768, bias=True)\n",
              "              (value): Linear(in_features=768, out_features=768, bias=True)\n",
              "              (dropout): Dropout(p=0.1, inplace=False)\n",
              "            )\n",
              "            (output): BertSelfOutput(\n",
              "              (dense): Linear(in_features=768, out_features=768, bias=True)\n",
              "              (LayerNorm): LayerNorm((768,), eps=1e-12, elementwise_affine=True)\n",
              "              (dropout): Dropout(p=0.1, inplace=False)\n",
              "            )\n",
              "          )\n",
              "          (intermediate): BertIntermediate(\n",
              "            (dense): Linear(in_features=768, out_features=3072, bias=True)\n",
              "          )\n",
              "          (output): BertOutput(\n",
              "            (dense): Linear(in_features=3072, out_features=768, bias=True)\n",
              "            (LayerNorm): LayerNorm((768,), eps=1e-12, elementwise_affine=True)\n",
              "            (dropout): Dropout(p=0.1, inplace=False)\n",
              "          )\n",
              "        )\n",
              "        (1): BertLayer(\n",
              "          (attention): BertAttention(\n",
              "            (self): BertSelfAttention(\n",
              "              (query): Linear(in_features=768, out_features=768, bias=True)\n",
              "              (key): Linear(in_features=768, out_features=768, bias=True)\n",
              "              (value): Linear(in_features=768, out_features=768, bias=True)\n",
              "              (dropout): Dropout(p=0.1, inplace=False)\n",
              "            )\n",
              "            (output): BertSelfOutput(\n",
              "              (dense): Linear(in_features=768, out_features=768, bias=True)\n",
              "              (LayerNorm): LayerNorm((768,), eps=1e-12, elementwise_affine=True)\n",
              "              (dropout): Dropout(p=0.1, inplace=False)\n",
              "            )\n",
              "          )\n",
              "          (intermediate): BertIntermediate(\n",
              "            (dense): Linear(in_features=768, out_features=3072, bias=True)\n",
              "          )\n",
              "          (output): BertOutput(\n",
              "            (dense): Linear(in_features=3072, out_features=768, bias=True)\n",
              "            (LayerNorm): LayerNorm((768,), eps=1e-12, elementwise_affine=True)\n",
              "            (dropout): Dropout(p=0.1, inplace=False)\n",
              "          )\n",
              "        )\n",
              "        (2): BertLayer(\n",
              "          (attention): BertAttention(\n",
              "            (self): BertSelfAttention(\n",
              "              (query): Linear(in_features=768, out_features=768, bias=True)\n",
              "              (key): Linear(in_features=768, out_features=768, bias=True)\n",
              "              (value): Linear(in_features=768, out_features=768, bias=True)\n",
              "              (dropout): Dropout(p=0.1, inplace=False)\n",
              "            )\n",
              "            (output): BertSelfOutput(\n",
              "              (dense): Linear(in_features=768, out_features=768, bias=True)\n",
              "              (LayerNorm): LayerNorm((768,), eps=1e-12, elementwise_affine=True)\n",
              "              (dropout): Dropout(p=0.1, inplace=False)\n",
              "            )\n",
              "          )\n",
              "          (intermediate): BertIntermediate(\n",
              "            (dense): Linear(in_features=768, out_features=3072, bias=True)\n",
              "          )\n",
              "          (output): BertOutput(\n",
              "            (dense): Linear(in_features=3072, out_features=768, bias=True)\n",
              "            (LayerNorm): LayerNorm((768,), eps=1e-12, elementwise_affine=True)\n",
              "            (dropout): Dropout(p=0.1, inplace=False)\n",
              "          )\n",
              "        )\n",
              "        (3): BertLayer(\n",
              "          (attention): BertAttention(\n",
              "            (self): BertSelfAttention(\n",
              "              (query): Linear(in_features=768, out_features=768, bias=True)\n",
              "              (key): Linear(in_features=768, out_features=768, bias=True)\n",
              "              (value): Linear(in_features=768, out_features=768, bias=True)\n",
              "              (dropout): Dropout(p=0.1, inplace=False)\n",
              "            )\n",
              "            (output): BertSelfOutput(\n",
              "              (dense): Linear(in_features=768, out_features=768, bias=True)\n",
              "              (LayerNorm): LayerNorm((768,), eps=1e-12, elementwise_affine=True)\n",
              "              (dropout): Dropout(p=0.1, inplace=False)\n",
              "            )\n",
              "          )\n",
              "          (intermediate): BertIntermediate(\n",
              "            (dense): Linear(in_features=768, out_features=3072, bias=True)\n",
              "          )\n",
              "          (output): BertOutput(\n",
              "            (dense): Linear(in_features=3072, out_features=768, bias=True)\n",
              "            (LayerNorm): LayerNorm((768,), eps=1e-12, elementwise_affine=True)\n",
              "            (dropout): Dropout(p=0.1, inplace=False)\n",
              "          )\n",
              "        )\n",
              "        (4): BertLayer(\n",
              "          (attention): BertAttention(\n",
              "            (self): BertSelfAttention(\n",
              "              (query): Linear(in_features=768, out_features=768, bias=True)\n",
              "              (key): Linear(in_features=768, out_features=768, bias=True)\n",
              "              (value): Linear(in_features=768, out_features=768, bias=True)\n",
              "              (dropout): Dropout(p=0.1, inplace=False)\n",
              "            )\n",
              "            (output): BertSelfOutput(\n",
              "              (dense): Linear(in_features=768, out_features=768, bias=True)\n",
              "              (LayerNorm): LayerNorm((768,), eps=1e-12, elementwise_affine=True)\n",
              "              (dropout): Dropout(p=0.1, inplace=False)\n",
              "            )\n",
              "          )\n",
              "          (intermediate): BertIntermediate(\n",
              "            (dense): Linear(in_features=768, out_features=3072, bias=True)\n",
              "          )\n",
              "          (output): BertOutput(\n",
              "            (dense): Linear(in_features=3072, out_features=768, bias=True)\n",
              "            (LayerNorm): LayerNorm((768,), eps=1e-12, elementwise_affine=True)\n",
              "            (dropout): Dropout(p=0.1, inplace=False)\n",
              "          )\n",
              "        )\n",
              "        (5): BertLayer(\n",
              "          (attention): BertAttention(\n",
              "            (self): BertSelfAttention(\n",
              "              (query): Linear(in_features=768, out_features=768, bias=True)\n",
              "              (key): Linear(in_features=768, out_features=768, bias=True)\n",
              "              (value): Linear(in_features=768, out_features=768, bias=True)\n",
              "              (dropout): Dropout(p=0.1, inplace=False)\n",
              "            )\n",
              "            (output): BertSelfOutput(\n",
              "              (dense): Linear(in_features=768, out_features=768, bias=True)\n",
              "              (LayerNorm): LayerNorm((768,), eps=1e-12, elementwise_affine=True)\n",
              "              (dropout): Dropout(p=0.1, inplace=False)\n",
              "            )\n",
              "          )\n",
              "          (intermediate): BertIntermediate(\n",
              "            (dense): Linear(in_features=768, out_features=3072, bias=True)\n",
              "          )\n",
              "          (output): BertOutput(\n",
              "            (dense): Linear(in_features=3072, out_features=768, bias=True)\n",
              "            (LayerNorm): LayerNorm((768,), eps=1e-12, elementwise_affine=True)\n",
              "            (dropout): Dropout(p=0.1, inplace=False)\n",
              "          )\n",
              "        )\n",
              "        (6): BertLayer(\n",
              "          (attention): BertAttention(\n",
              "            (self): BertSelfAttention(\n",
              "              (query): Linear(in_features=768, out_features=768, bias=True)\n",
              "              (key): Linear(in_features=768, out_features=768, bias=True)\n",
              "              (value): Linear(in_features=768, out_features=768, bias=True)\n",
              "              (dropout): Dropout(p=0.1, inplace=False)\n",
              "            )\n",
              "            (output): BertSelfOutput(\n",
              "              (dense): Linear(in_features=768, out_features=768, bias=True)\n",
              "              (LayerNorm): LayerNorm((768,), eps=1e-12, elementwise_affine=True)\n",
              "              (dropout): Dropout(p=0.1, inplace=False)\n",
              "            )\n",
              "          )\n",
              "          (intermediate): BertIntermediate(\n",
              "            (dense): Linear(in_features=768, out_features=3072, bias=True)\n",
              "          )\n",
              "          (output): BertOutput(\n",
              "            (dense): Linear(in_features=3072, out_features=768, bias=True)\n",
              "            (LayerNorm): LayerNorm((768,), eps=1e-12, elementwise_affine=True)\n",
              "            (dropout): Dropout(p=0.1, inplace=False)\n",
              "          )\n",
              "        )\n",
              "        (7): BertLayer(\n",
              "          (attention): BertAttention(\n",
              "            (self): BertSelfAttention(\n",
              "              (query): Linear(in_features=768, out_features=768, bias=True)\n",
              "              (key): Linear(in_features=768, out_features=768, bias=True)\n",
              "              (value): Linear(in_features=768, out_features=768, bias=True)\n",
              "              (dropout): Dropout(p=0.1, inplace=False)\n",
              "            )\n",
              "            (output): BertSelfOutput(\n",
              "              (dense): Linear(in_features=768, out_features=768, bias=True)\n",
              "              (LayerNorm): LayerNorm((768,), eps=1e-12, elementwise_affine=True)\n",
              "              (dropout): Dropout(p=0.1, inplace=False)\n",
              "            )\n",
              "          )\n",
              "          (intermediate): BertIntermediate(\n",
              "            (dense): Linear(in_features=768, out_features=3072, bias=True)\n",
              "          )\n",
              "          (output): BertOutput(\n",
              "            (dense): Linear(in_features=3072, out_features=768, bias=True)\n",
              "            (LayerNorm): LayerNorm((768,), eps=1e-12, elementwise_affine=True)\n",
              "            (dropout): Dropout(p=0.1, inplace=False)\n",
              "          )\n",
              "        )\n",
              "        (8): BertLayer(\n",
              "          (attention): BertAttention(\n",
              "            (self): BertSelfAttention(\n",
              "              (query): Linear(in_features=768, out_features=768, bias=True)\n",
              "              (key): Linear(in_features=768, out_features=768, bias=True)\n",
              "              (value): Linear(in_features=768, out_features=768, bias=True)\n",
              "              (dropout): Dropout(p=0.1, inplace=False)\n",
              "            )\n",
              "            (output): BertSelfOutput(\n",
              "              (dense): Linear(in_features=768, out_features=768, bias=True)\n",
              "              (LayerNorm): LayerNorm((768,), eps=1e-12, elementwise_affine=True)\n",
              "              (dropout): Dropout(p=0.1, inplace=False)\n",
              "            )\n",
              "          )\n",
              "          (intermediate): BertIntermediate(\n",
              "            (dense): Linear(in_features=768, out_features=3072, bias=True)\n",
              "          )\n",
              "          (output): BertOutput(\n",
              "            (dense): Linear(in_features=3072, out_features=768, bias=True)\n",
              "            (LayerNorm): LayerNorm((768,), eps=1e-12, elementwise_affine=True)\n",
              "            (dropout): Dropout(p=0.1, inplace=False)\n",
              "          )\n",
              "        )\n",
              "        (9): BertLayer(\n",
              "          (attention): BertAttention(\n",
              "            (self): BertSelfAttention(\n",
              "              (query): Linear(in_features=768, out_features=768, bias=True)\n",
              "              (key): Linear(in_features=768, out_features=768, bias=True)\n",
              "              (value): Linear(in_features=768, out_features=768, bias=True)\n",
              "              (dropout): Dropout(p=0.1, inplace=False)\n",
              "            )\n",
              "            (output): BertSelfOutput(\n",
              "              (dense): Linear(in_features=768, out_features=768, bias=True)\n",
              "              (LayerNorm): LayerNorm((768,), eps=1e-12, elementwise_affine=True)\n",
              "              (dropout): Dropout(p=0.1, inplace=False)\n",
              "            )\n",
              "          )\n",
              "          (intermediate): BertIntermediate(\n",
              "            (dense): Linear(in_features=768, out_features=3072, bias=True)\n",
              "          )\n",
              "          (output): BertOutput(\n",
              "            (dense): Linear(in_features=3072, out_features=768, bias=True)\n",
              "            (LayerNorm): LayerNorm((768,), eps=1e-12, elementwise_affine=True)\n",
              "            (dropout): Dropout(p=0.1, inplace=False)\n",
              "          )\n",
              "        )\n",
              "        (10): BertLayer(\n",
              "          (attention): BertAttention(\n",
              "            (self): BertSelfAttention(\n",
              "              (query): Linear(in_features=768, out_features=768, bias=True)\n",
              "              (key): Linear(in_features=768, out_features=768, bias=True)\n",
              "              (value): Linear(in_features=768, out_features=768, bias=True)\n",
              "              (dropout): Dropout(p=0.1, inplace=False)\n",
              "            )\n",
              "            (output): BertSelfOutput(\n",
              "              (dense): Linear(in_features=768, out_features=768, bias=True)\n",
              "              (LayerNorm): LayerNorm((768,), eps=1e-12, elementwise_affine=True)\n",
              "              (dropout): Dropout(p=0.1, inplace=False)\n",
              "            )\n",
              "          )\n",
              "          (intermediate): BertIntermediate(\n",
              "            (dense): Linear(in_features=768, out_features=3072, bias=True)\n",
              "          )\n",
              "          (output): BertOutput(\n",
              "            (dense): Linear(in_features=3072, out_features=768, bias=True)\n",
              "            (LayerNorm): LayerNorm((768,), eps=1e-12, elementwise_affine=True)\n",
              "            (dropout): Dropout(p=0.1, inplace=False)\n",
              "          )\n",
              "        )\n",
              "        (11): BertLayer(\n",
              "          (attention): BertAttention(\n",
              "            (self): BertSelfAttention(\n",
              "              (query): Linear(in_features=768, out_features=768, bias=True)\n",
              "              (key): Linear(in_features=768, out_features=768, bias=True)\n",
              "              (value): Linear(in_features=768, out_features=768, bias=True)\n",
              "              (dropout): Dropout(p=0.1, inplace=False)\n",
              "            )\n",
              "            (output): BertSelfOutput(\n",
              "              (dense): Linear(in_features=768, out_features=768, bias=True)\n",
              "              (LayerNorm): LayerNorm((768,), eps=1e-12, elementwise_affine=True)\n",
              "              (dropout): Dropout(p=0.1, inplace=False)\n",
              "            )\n",
              "          )\n",
              "          (intermediate): BertIntermediate(\n",
              "            (dense): Linear(in_features=768, out_features=3072, bias=True)\n",
              "          )\n",
              "          (output): BertOutput(\n",
              "            (dense): Linear(in_features=3072, out_features=768, bias=True)\n",
              "            (LayerNorm): LayerNorm((768,), eps=1e-12, elementwise_affine=True)\n",
              "            (dropout): Dropout(p=0.1, inplace=False)\n",
              "          )\n",
              "        )\n",
              "      )\n",
              "    )\n",
              "    (pooler): BertPooler(\n",
              "      (dense): Linear(in_features=768, out_features=768, bias=True)\n",
              "      (activation): Tanh()\n",
              "    )\n",
              "  )\n",
              "  (dropout): Dropout(p=0.1, inplace=False)\n",
              "  (classifier): Linear(in_features=768, out_features=2, bias=True)\n",
              ")"
            ]
          },
          "metadata": {
            "tags": []
          },
          "execution_count": 177
        }
      ]
    },
    {
      "cell_type": "code",
      "metadata": {
        "id": "JwHh8sIKJhl6",
        "colab_type": "code",
        "colab": {}
      },
      "source": [
        "# Note: AdamW is a class from the huggingface library (as opposed to pytorch) \n",
        "# I believe the 'W' stands for 'Weight Decay fix\"\n",
        "optimizer = AdamW(model.parameters(),\n",
        "                  lr = 2e-5, # args.learning_rate - default is 5e-5, our notebook had 2e-5\n",
        "                  eps = 1e-8 # args.adam_epsilon  - default is 1e-8.\n",
        "                )\n"
      ],
      "execution_count": 0,
      "outputs": []
    },
    {
      "cell_type": "code",
      "metadata": {
        "id": "Yfw-eSYdOGCl",
        "colab_type": "code",
        "colab": {}
      },
      "source": [
        "def unfreeze_bert_encoder():\n",
        "  for param in model.parameters():\n",
        "    param.requires_grad = True"
      ],
      "execution_count": 0,
      "outputs": []
    },
    {
      "cell_type": "code",
      "metadata": {
        "id": "048N-B0AJj9f",
        "colab_type": "code",
        "colab": {}
      },
      "source": [
        "from transformers import get_linear_schedule_with_warmup\n",
        "\n",
        "# Number of training epochs (authors recommend between 2 and 4)\n",
        "epochs = 2\n",
        "\n",
        "# Total number of training steps is number of batches * number of epochs.\n",
        "total_steps = len(train_dataloader) * epochs\n",
        "\n",
        "# Create the learning rate scheduler.\n",
        "scheduler = get_linear_schedule_with_warmup(optimizer, \n",
        "                                            num_warmup_steps = 0, # Default value in run_glue.py\n",
        "                                            num_training_steps = total_steps)"
      ],
      "execution_count": 0,
      "outputs": []
    },
    {
      "cell_type": "code",
      "metadata": {
        "id": "q6ppI-kTJmIB",
        "colab_type": "code",
        "colab": {}
      },
      "source": [
        "from sklearn.metrics import accuracy_score\n",
        "from sklearn.metrics import recall_score\n",
        "from sklearn.metrics import precision_score\n",
        "import tensorflow as tf\n",
        "# Function to calculate the accuracy of our predictions vs labels\n",
        "def flat_accuracy(preds, labels):\n",
        "    pred_flat = np.argmax(preds, axis=1).flatten()\n",
        "    print(labels)\n",
        "    print(pred_flat)\n",
        "    labels_flat = labels.flatten()\n",
        "    \n",
        "    return accuracy_score(labels_flat, pred_flat)#tf.metrics.accuracy(labels=tf.argmax(labels_flat, 1),predictions=pred_flat)#accuracy_score(labels_flat, pred_flat)\n",
        "def flat_precision(preds, labels):\n",
        "    pred_flat = np.argmax(preds, axis=1).flatten()\n",
        "    labels_flat = labels.flatten()\n",
        "    p=precision_score(labels_flat, pred_flat)\n",
        "    \n",
        "    return p\n",
        "\n",
        "\n",
        "def flat_recall(preds, labels):\n",
        "    pred_flat = np.argmax(preds, axis=1).flatten()\n",
        "    labels_flat = labels.flatten()\n",
        "    print(labels_flat)\n",
        "    print(pred_flat)\n",
        "    r=recall_score(labels_flat, pred_flat)\n",
        "    \n",
        "    return r        "
      ],
      "execution_count": 0,
      "outputs": []
    },
    {
      "cell_type": "code",
      "metadata": {
        "id": "Rv78pkRItqC3",
        "colab_type": "code",
        "colab": {}
      },
      "source": [
        "import matplotlib.pyplot as plt\n",
        "#train_epochs=list()\n",
        "train_loss=list()\n",
        "#train_accuracy=list()"
      ],
      "execution_count": 0,
      "outputs": []
    },
    {
      "cell_type": "code",
      "metadata": {
        "id": "uqxBN1wIGVCc",
        "colab_type": "code",
        "colab": {}
      },
      "source": [
        "import time\n",
        "import datetime\n",
        "\n",
        "def format_time(elapsed):\n",
        "    '''\n",
        "    Takes a time in seconds and returns a string hh:mm:ss\n",
        "    '''\n",
        "    # Round to the nearest second.\n",
        "    elapsed_rounded = int(round((elapsed)))\n",
        "    \n",
        "    # Format as hh:mm:ss\n",
        "    return str(datetime.timedelta(seconds=elapsed_rounded))\n"
      ],
      "execution_count": 0,
      "outputs": []
    },
    {
      "cell_type": "code",
      "metadata": {
        "id": "YcVSZ9gTJoWK",
        "colab_type": "code",
        "outputId": "8375f423-198e-47b7-e3cd-65b321d178f2",
        "colab": {
          "base_uri": "https://localhost:8080/",
          "height": 1000
        }
      },
      "source": [
        "import random\n",
        "\n",
        "# Set the seed value all over the place to make this reproducible.\n",
        "seed_val = 42\n",
        "\n",
        "random.seed(seed_val)\n",
        "np.random.seed(seed_val)\n",
        "torch.manual_seed(seed_val)\n",
        "torch.cuda.manual_seed_all(seed_val)\n",
        "\n",
        "# Store the average loss after each epoch so we can plot them.\n",
        "loss_values = []\n",
        "\n",
        "model.zero_grad()\n",
        "#unfreeze_bert_encoder()\n",
        "# For each epoch...\n",
        "for epoch_i in range(0, epochs):\n",
        "    \n",
        "    # ========================================\n",
        "    #               Training\n",
        "    # ========================================\n",
        "    \n",
        "    # Perform one full pass over the training set.\n",
        "\n",
        "    print(\"\")\n",
        "    print('======== Epoch {:} / {:} ========'.format(epoch_i + 1, epochs))\n",
        "    print('Training...')\n",
        "\n",
        "    # Measure how long the training epoch takes.\n",
        "    t0 = time.time()\n",
        "\n",
        "    # Reset the total loss for this epoch.\n",
        "    total_loss = 0\n",
        "\n",
        "    # Set our model to training mode (as opposed to evaluation mode)\n",
        "    model.train()\n",
        "        \n",
        "    # This training code is based on the `run_glue.py` script here:\n",
        "    # https://github.com/huggingface/transformers/blob/5bfcd0485ece086ebcbed2d008813037968a9e58/examples/run_glue.py#L128\n",
        "\n",
        "    # For each batch of training data...\n",
        "    for step, batch in enumerate(train_dataloader):\n",
        "\n",
        "        # Progress update every 40 batches.\n",
        "        if step % 40 == 0 and not step == 0:\n",
        "            # Calculate elapsed time in minutes.\n",
        "            elapsed = format_time(time.time() - t0)\n",
        "            \n",
        "            # Report progress.\n",
        "            print('  Batch {:>5,}  of  {:>5,}.    Elapsed: {:}.'.format(step, len(train_dataloader), elapsed))\n",
        "\n",
        "        # Put the model into training mode.    \n",
        "        model.train()\n",
        "\n",
        "        # Unpack this training batch from our dataloader. \n",
        "        #\n",
        "        # As we unpack the batch, we'll also copy each tensor to the GPU using the \n",
        "        # `to` method.\n",
        "        #\n",
        "        # `batch` contains three pytorch tensors:\n",
        "        #   [0]: input ids \n",
        "        #   [1]: attention masks\n",
        "        #   [2]: labels \n",
        "        b_input_ids = batch[0].to(device)\n",
        "        b_input_mask = batch[1].to(device)\n",
        "        b_labels = batch[2].to(device)\n",
        "                \n",
        "        # Forward pass (evaluate the model on this training batch)\n",
        "        # `model` is of type: pytorch_pretrained_bert.modeling.BertForSequenceClassification\n",
        "        outputs = model(b_input_ids, \n",
        "                    token_type_ids=None, \n",
        "                    attention_mask=b_input_mask, \n",
        "                    labels=b_labels)\n",
        "        \n",
        "        loss = outputs[0]\n",
        "\n",
        "        # Accumulate the loss. `loss` is a Tensor containing a single value; \n",
        "        # the `.item()` function just returns the Python value from the tensor.\n",
        "        total_loss += loss.item()\n",
        "\n",
        "        # Perform a backward pass to calculate the gradients.\n",
        "        loss.backward()\n",
        "\n",
        "        # Clip the norm of the gradients to 1.0.\n",
        "        torch.nn.utils.clip_grad_norm_(model.parameters(), 1.0)\n",
        "\n",
        "        # Update parameters and take a step using the computed gradient\n",
        "        optimizer.step()\n",
        "\n",
        "        # Update the learning rate.\n",
        "        scheduler.step()\n",
        "\n",
        "        # Clear out the gradients (by default they accumulate)\n",
        "        model.zero_grad()\n",
        "\n",
        "    # Calculate the average loss over the training data.\n",
        "    avg_train_loss = total_loss / len(train_dataloader)            \n",
        "    \n",
        "    loss_values.append(avg_train_loss)\n",
        "\n",
        "    print(\"\")\n",
        "    print(\"  Average training loss: {0:.2f}\".format(avg_train_loss))\n",
        "    print(\"  Training epcoh took: {:}\".format(format_time(time.time() - t0)))\n",
        "        \n",
        "    # ========================================\n",
        "    #               Validation\n",
        "    # ========================================\n",
        "    # After the completion of each training epoch, measure our performance on\n",
        "    # our validation set.\n",
        "\n",
        "    print(\"\")\n",
        "    print(\"Running Validation...\")\n",
        "\n",
        "    t0 = time.time()\n",
        "\n",
        "    # Put model in evaluation mode to evaluate loss on the validation set\n",
        "    model.eval()\n",
        "\n",
        "    # Tracking variables \n",
        "    eval_loss, eval_accuracy = 0, 0\n",
        "    nb_eval_steps, nb_eval_examples = 0, 0\n",
        "\n",
        "    # Evaluate data for one epoch\n",
        "    for batch in validation_dataloader:\n",
        "        \n",
        "        # Add batch to GPU\n",
        "        batch = tuple(t.to(device) for t in batch)\n",
        "        \n",
        "        # Unpack the inputs from our dataloader\n",
        "        b_input_ids, b_input_mask, b_labels = batch\n",
        "        \n",
        "        # Telling the model not to compute or store gradients, saving memory and speeding up validation\n",
        "        with torch.no_grad():        \n",
        "            # Forward pass, calculate logit predictions\n",
        "            # token_type_ids is for the segment ids, but we only have a single sentence here.\n",
        "            # See https://github.com/huggingface/transformers/blob/5bfcd0485ece086ebcbed2d008813037968a9e58/examples/run_glue.py#L258 \n",
        "            outputs = model(b_input_ids, token_type_ids=None, attention_mask=b_input_mask)\n",
        "        \n",
        "        logits = outputs[0]\n",
        "\n",
        "        # Move logits and labels to CPU\n",
        "        logits = logits.detach().cpu().numpy()\n",
        "        label_ids = b_labels.to('cpu').numpy()\n",
        "        \n",
        "        # Calculate the accuracy for this batch of test sentences.\n",
        "        tmp_eval_accuracy = flat_accuracy(logits, label_ids)\n",
        "        \n",
        "        # Accumulate the total accuracy.\n",
        "        eval_accuracy += tmp_eval_accuracy\n",
        "\n",
        "        # Track the number of batches\n",
        "        nb_eval_steps += 1\n",
        "\n",
        "    # Report the final accuracy for this validation run.\n",
        "    print(\"  Accuracy: {0:.2f}\".format(eval_accuracy/nb_eval_steps))\n",
        "    print(\"  Validation took: {:}\".format(format_time(time.time() - t0)))\n",
        "\n",
        "print(\"\")\n",
        "print(\"Training complete!\")  "
      ],
      "execution_count": 184,
      "outputs": [
        {
          "output_type": "stream",
          "text": [
            "\n",
            "======== Epoch 1 / 2 ========\n",
            "Training...\n",
            "  Batch    40  of    282.    Elapsed: 0:00:07.\n",
            "  Batch    80  of    282.    Elapsed: 0:00:14.\n",
            "  Batch   120  of    282.    Elapsed: 0:00:20.\n",
            "  Batch   160  of    282.    Elapsed: 0:00:27.\n",
            "  Batch   200  of    282.    Elapsed: 0:00:34.\n",
            "  Batch   240  of    282.    Elapsed: 0:00:40.\n",
            "  Batch   280  of    282.    Elapsed: 0:00:47.\n",
            "\n",
            "  Average training loss: 0.06\n",
            "  Training epcoh took: 0:00:47\n",
            "\n",
            "Running Validation...\n",
            "[0 0 0 1 0 0 0 0 0 1 1 1 1 1 1 0]\n",
            "[0 0 0 1 0 0 0 0 0 1 1 1 1 1 1 0]\n",
            "[0 1 1 1 0 1 1 0 1 1 1 1 1 1 1 0]\n",
            "[0 1 1 1 0 1 1 0 1 1 1 1 1 1 1 0]\n",
            "[1 1 1 1 0 0 1 0 1 0 1 0 1 0 1 1]\n",
            "[1 1 1 1 0 0 1 0 1 0 1 0 1 0 1 1]\n",
            "[1 1 1 1 1 1 1 0 0 0 0 1 1 0 1 0]\n",
            "[1 1 1 1 1 1 1 0 0 0 0 1 1 0 1 0]\n",
            "[0 1 1 0 1 1 1 1 0 1 0 1 0 1 1 1]\n",
            "[0 1 1 0 1 1 1 1 0 1 0 1 0 1 1 1]\n",
            "[1 1 1 1 0 1 1 1 0 1 1 1 1 1 0 1]\n",
            "[1 1 1 1 0 1 1 1 0 1 1 1 1 1 0 1]\n",
            "[0 1 0 1 0 1 1 1 1 1 1 1 1 0 0 0]\n",
            "[0 1 0 1 0 1 1 1 1 1 1 1 1 0 0 0]\n",
            "[1 0 0 1 1 0 1 0 1 0 1 1 1 1 0 1]\n",
            "[1 0 0 1 1 0 1 0 1 0 1 1 1 1 0 1]\n",
            "[1 1 1 1 0 0 0 1 1 0 0 0 1 0 1 0]\n",
            "[1 1 1 1 0 0 0 1 1 0 0 0 1 0 1 0]\n",
            "[1 1 0 1 0 0 0 0 1 1 1 0 1 1 0 0]\n",
            "[1 1 0 1 0 0 0 0 1 1 1 0 1 1 0 0]\n",
            "[1 1 1 1 1 0 1 1 0 1 1 1 0 1 0 1]\n",
            "[1 1 1 1 1 0 1 1 0 1 1 1 0 1 0 1]\n",
            "[1 0 0 0 0 1 1 1 0 0 1 1 0 1 1 0]\n",
            "[1 0 0 0 0 1 1 1 0 0 1 1 0 1 1 0]\n",
            "[0 0 0 1 1 1 1 1 1 1 0 0 1 1 1 1]\n",
            "[0 0 0 1 1 1 1 1 1 1 0 0 1 1 1 1]\n",
            "[1 1 1 1 1 0 0 1 1 1 0 1 1 1 1 0]\n",
            "[1 1 1 1 1 0 0 1 1 1 0 1 1 1 1 0]\n",
            "[0 0 0 1 1 0 1 0 1 1 1 1 1 0 1 1]\n",
            "[0 0 0 1 1 0 1 0 1 1 1 1 1 0 1 1]\n",
            "[1 0 1 0 1 1 1 0 0 1 1 1 0 1 1 0]\n",
            "[1 0 1 0 1 1 1 0 0 1 1 1 0 1 1 0]\n",
            "[1 1 1 1 0 0 0 1 0 1 1 1 0 1 1 0]\n",
            "[1 1 1 1 0 0 0 1 0 1 1 1 0 1 1 0]\n",
            "[0 0 1 1 0 1 1 0 1 0 1 0 1 1 1 1]\n",
            "[0 0 1 1 0 1 1 0 1 0 1 0 1 1 1 1]\n",
            "[0 1 1 1 1 0 1 1 1 0 1 0 1 1 1 1]\n",
            "[0 1 1 1 1 0 1 1 1 0 1 0 1 1 1 1]\n",
            "[1 1 0 0 0 0 0 1 0 1 1 0 1 1 1 1]\n",
            "[1 1 0 0 0 0 0 1 0 1 1 0 1 1 1 1]\n",
            "[1 0 1 1 0 1 1 1 0 1 0 1 1 1 1 1]\n",
            "[1 0 1 1 0 1 1 1 0 1 0 1 1 1 1 1]\n",
            "[0 0 1 0 1 0 0 1 0 0 1 0 1 1 0 0]\n",
            "[0 0 1 0 1 0 0 1 0 0 1 0 1 1 0 0]\n",
            "[0 1 1 0 0 1 0 1 1 1 0 1 0 0 1 0]\n",
            "[0 1 1 0 0 1 0 1 1 1 0 1 0 0 1 0]\n",
            "[0 1 0 1 1 0 1 0 1 1 1 1 1 0 0 1]\n",
            "[0 1 0 1 1 0 1 0 1 1 1 1 1 0 0 1]\n",
            "[1 1 1 1 1 1 1 1 0 1 1 1 1 1 1 0]\n",
            "[1 1 1 1 1 1 1 1 0 1 1 1 1 1 1 0]\n",
            "[0 0 0 0 0 0 1 1 1 0 0 1 1 0 1 1]\n",
            "[0 0 0 0 0 0 1 1 1 0 0 1 1 0 1 1]\n",
            "[0 0 0 1 1 1 0 1 1 1 1 1 0 0 0 0]\n",
            "[0 0 0 1 1 1 0 1 1 1 1 1 0 0 0 0]\n",
            "[1 1 0 0 1 0 1 0 1 0 1 0 1 1 1 1]\n",
            "[1 1 0 0 1 0 1 0 1 0 1 0 1 1 1 1]\n",
            "[0 0 0 0 0 1 1 0 0 0 1 0 0 0 1 0]\n",
            "[0 0 0 0 0 1 1 0 0 0 1 0 0 0 1 0]\n",
            "[1 1 0 1 0 1 1 0 0 0 0 0 0 0 0 1]\n",
            "[1 1 0 1 0 1 1 0 0 0 0 0 0 0 0 1]\n",
            "[0 1 1 0 1 1 0 1 1 1 1 1 0 0 1 1]\n",
            "[0 1 1 0 1 1 0 1 1 1 1 1 0 0 1 1]\n",
            "[0 0 1 0]\n",
            "[0 0 1 0]\n",
            "  Accuracy: 1.00\n",
            "  Validation took: 0:00:01\n",
            "\n",
            "======== Epoch 2 / 2 ========\n",
            "Training...\n",
            "  Batch    40  of    282.    Elapsed: 0:00:07.\n",
            "  Batch    80  of    282.    Elapsed: 0:00:13.\n",
            "  Batch   120  of    282.    Elapsed: 0:00:20.\n",
            "  Batch   160  of    282.    Elapsed: 0:00:27.\n",
            "  Batch   200  of    282.    Elapsed: 0:00:33.\n",
            "  Batch   240  of    282.    Elapsed: 0:00:40.\n",
            "  Batch   280  of    282.    Elapsed: 0:00:47.\n",
            "\n",
            "  Average training loss: 0.00\n",
            "  Training epcoh took: 0:00:47\n",
            "\n",
            "Running Validation...\n",
            "[0 0 0 1 0 0 0 0 0 1 1 1 1 1 1 0]\n",
            "[0 0 0 1 0 0 0 0 0 1 1 1 1 1 1 0]\n",
            "[0 1 1 1 0 1 1 0 1 1 1 1 1 1 1 0]\n",
            "[0 1 1 1 0 1 1 0 1 1 1 1 1 1 1 0]\n",
            "[1 1 1 1 0 0 1 0 1 0 1 0 1 0 1 1]\n",
            "[1 1 1 1 0 0 1 0 1 0 1 0 1 0 1 1]\n",
            "[1 1 1 1 1 1 1 0 0 0 0 1 1 0 1 0]\n",
            "[1 1 1 1 1 1 1 0 0 0 0 1 1 0 1 0]\n",
            "[0 1 1 0 1 1 1 1 0 1 0 1 0 1 1 1]\n",
            "[0 1 1 0 1 1 1 1 0 1 0 1 0 1 1 1]\n",
            "[1 1 1 1 0 1 1 1 0 1 1 1 1 1 0 1]\n",
            "[1 1 1 1 0 1 1 1 0 1 1 1 1 1 0 1]\n",
            "[0 1 0 1 0 1 1 1 1 1 1 1 1 0 0 0]\n",
            "[0 1 0 1 0 1 1 1 1 1 1 1 1 0 0 0]\n",
            "[1 0 0 1 1 0 1 0 1 0 1 1 1 1 0 1]\n",
            "[1 0 0 1 1 0 1 0 1 0 1 1 1 1 0 1]\n",
            "[1 1 1 1 0 0 0 1 1 0 0 0 1 0 1 0]\n",
            "[1 1 1 1 0 0 0 1 1 0 0 0 1 0 1 0]\n",
            "[1 1 0 1 0 0 0 0 1 1 1 0 1 1 0 0]\n",
            "[1 1 0 1 0 0 0 0 1 1 1 0 1 1 0 0]\n",
            "[1 1 1 1 1 0 1 1 0 1 1 1 0 1 0 1]\n",
            "[1 1 1 1 1 0 1 1 0 1 1 1 0 1 0 1]\n",
            "[1 0 0 0 0 1 1 1 0 0 1 1 0 1 1 0]\n",
            "[1 0 0 0 0 1 1 1 0 0 1 1 0 1 1 0]\n",
            "[0 0 0 1 1 1 1 1 1 1 0 0 1 1 1 1]\n",
            "[0 0 0 1 1 1 1 1 1 1 0 0 1 1 1 1]\n",
            "[1 1 1 1 1 0 0 1 1 1 0 1 1 1 1 0]\n",
            "[1 1 1 1 1 0 0 1 1 1 0 1 1 1 1 0]\n",
            "[0 0 0 1 1 0 1 0 1 1 1 1 1 0 1 1]\n",
            "[0 0 0 1 1 0 1 0 1 1 1 1 1 0 1 1]\n",
            "[1 0 1 0 1 1 1 0 0 1 1 1 0 1 1 0]\n",
            "[1 0 1 0 1 1 1 0 0 1 1 1 0 1 1 0]\n",
            "[1 1 1 1 0 0 0 1 0 1 1 1 0 1 1 0]\n",
            "[1 1 1 1 0 0 0 1 0 1 1 1 0 1 1 0]\n",
            "[0 0 1 1 0 1 1 0 1 0 1 0 1 1 1 1]\n",
            "[0 0 1 1 0 1 1 0 1 0 1 0 1 1 1 1]\n",
            "[0 1 1 1 1 0 1 1 1 0 1 0 1 1 1 1]\n",
            "[0 1 1 1 1 0 1 1 1 0 1 0 1 1 1 1]\n",
            "[1 1 0 0 0 0 0 1 0 1 1 0 1 1 1 1]\n",
            "[1 1 0 0 0 0 0 1 0 1 1 0 1 1 1 1]\n",
            "[1 0 1 1 0 1 1 1 0 1 0 1 1 1 1 1]\n",
            "[1 0 1 1 0 1 1 1 0 1 0 1 1 1 1 1]\n",
            "[0 0 1 0 1 0 0 1 0 0 1 0 1 1 0 0]\n",
            "[0 0 1 0 1 0 0 1 0 0 1 0 1 1 0 0]\n",
            "[0 1 1 0 0 1 0 1 1 1 0 1 0 0 1 0]\n",
            "[0 1 1 0 0 1 0 1 1 1 0 1 0 0 1 0]\n",
            "[0 1 0 1 1 0 1 0 1 1 1 1 1 0 0 1]\n",
            "[0 1 0 1 1 0 1 0 1 1 1 1 1 0 0 1]\n",
            "[1 1 1 1 1 1 1 1 0 1 1 1 1 1 1 0]\n",
            "[1 1 1 1 1 1 1 1 0 1 1 1 1 1 1 0]\n",
            "[0 0 0 0 0 0 1 1 1 0 0 1 1 0 1 1]\n",
            "[0 0 0 0 0 0 1 1 1 0 0 1 1 0 1 1]\n",
            "[0 0 0 1 1 1 0 1 1 1 1 1 0 0 0 0]\n",
            "[0 0 0 1 1 1 0 1 1 1 1 1 0 0 0 0]\n",
            "[1 1 0 0 1 0 1 0 1 0 1 0 1 1 1 1]\n",
            "[1 1 0 0 1 0 1 0 1 0 1 0 1 1 1 1]\n",
            "[0 0 0 0 0 1 1 0 0 0 1 0 0 0 1 0]\n",
            "[0 0 0 0 0 1 1 0 0 0 1 0 0 0 1 0]\n",
            "[1 1 0 1 0 1 1 0 0 0 0 0 0 0 0 1]\n",
            "[1 1 0 1 0 1 1 0 0 0 0 0 0 0 0 1]\n",
            "[0 1 1 0 1 1 0 1 1 1 1 1 0 0 1 1]\n",
            "[0 1 1 0 1 1 0 1 1 1 1 1 0 0 1 1]\n",
            "[0 0 1 0]\n",
            "[0 0 1 0]\n",
            "  Accuracy: 1.00\n",
            "  Validation took: 0:00:01\n",
            "\n",
            "Training complete!\n"
          ],
          "name": "stdout"
        }
      ]
    },
    {
      "cell_type": "code",
      "metadata": {
        "id": "ODSWJk7OvfGZ",
        "colab_type": "code",
        "outputId": "83b5c250-c983-4bb0-df49-de5f526a033d",
        "colab": {
          "base_uri": "https://localhost:8080/",
          "height": 427
        }
      },
      "source": [
        "import matplotlib.pyplot as plt\n",
        "% matplotlib inline\n",
        "\n",
        "import seaborn as sns\n",
        "\n",
        "# Use plot styling from seaborn.\n",
        "sns.set(style='darkgrid')\n",
        "\n",
        "# Increase the plot size and font size.\n",
        "sns.set(font_scale=1.5)\n",
        "plt.rcParams[\"figure.figsize\"] = (12,6)\n",
        "\n",
        "# Plot the learning curve.\n",
        "plt.plot(loss_values, 'b-o')\n",
        "\n",
        "# Label the plot.\n",
        "plt.title(\"Training loss\")\n",
        "plt.xlabel(\"Batch\")\n",
        "plt.ylabel(\"Loss\")\n",
        "\n",
        "plt.show()"
      ],
      "execution_count": 185,
      "outputs": [
        {
          "output_type": "display_data",
          "data": {
            "image/png": "[encoded data removed]",
            "text/plain": [
              "<Figure size 864x432 with 1 Axes>"
            ]
          },
          "metadata": {
            "tags": []
          }
        }
      ]
    },
    {
      "cell_type": "code",
      "metadata": {
        "id": "F1OL2pKp_fbK",
        "colab_type": "code",
        "colab": {}
      },
      "source": [
        "model_save_name = 'classifier-justQuora-nofinetune-balanced.pt'\n",
        "path = F\"drive/My Drive/Colab Notebooks/{model_save_name}\" \n",
        "torch.save(model.state_dict(), path)"
      ],
      "execution_count": 0,
      "outputs": []
    },
    {
      "cell_type": "code",
      "metadata": {
        "id": "AvIWUtgwot4Y",
        "colab_type": "code",
        "outputId": "d239699f-b68d-4889-e37d-62a7145abf70",
        "colab": {
          "base_uri": "https://localhost:8080/",
          "height": 66
        }
      },
      "source": [
        "test_df['question1']=test_df['question1'].astype(str)\n",
        "test_df['question2']=test_df['question2'].astype(str)\n",
        "test_df['is_duplicate']=test_df['is_duplicate'].astype(str)\n",
        "test_df=preprocessdf(test_df)\n",
        "\n",
        "# Create sentence and label lists\n",
        "text_a = test_df.question1\n",
        "text_b=test_df.question2\n",
        "is_dup=test_df.is_duplicate\n",
        "#print(text_a)\n",
        "# We need to add special tokens at the beginning and end of each sentence for BERT to work properly\n",
        "labels=list()\n",
        "questions=list()\n",
        "m,n=test_df.shape\n",
        "for w in range(m):\n",
        "  q1=test_df.iloc[w,2]\n",
        "  #print(q1)\n",
        "  q2=test_df.iloc[w,3]\n",
        "  #print(q2)\n",
        "  is_d=int(float(test_df.iloc[w,4]))\n",
        "  #print(is_d)\n",
        "  if(q1==\"question1\"):\n",
        "    continue\n",
        "  questions.append(\"[CLS] \" + str(q1) + \" [SEP] \" +str(q2)+ \" [SEP]\")\n",
        "  #print(is_d)\n",
        "  labels.append(is_d)\n",
        "#labels = df.is_duplicate.values\n",
        "labels=np.asarray(labels)\n"
      ],
      "execution_count": 187,
      "outputs": [
        {
          "output_type": "stream",
          "text": [
            "Size of vocabulary: 2854\n",
            "Average sequence length:  33\n",
            "Number of duplicate questions:  500\n"
          ],
          "name": "stdout"
        }
      ]
    },
    {
      "cell_type": "code",
      "metadata": {
        "id": "wf7Can-1Eus7",
        "colab_type": "code",
        "outputId": "9e59a4f4-3399-4be4-eedd-921c17bebcfd",
        "colab": {
          "base_uri": "https://localhost:8080/",
          "height": 50
        }
      },
      "source": [
        "print(test_df.shape)\n",
        "print(len(questions))"
      ],
      "execution_count": 188,
      "outputs": [
        {
          "output_type": "stream",
          "text": [
            "(1000, 5)\n",
            "1000\n"
          ],
          "name": "stdout"
        }
      ]
    },
    {
      "cell_type": "code",
      "metadata": {
        "id": "bXBYMc0No5r0",
        "colab_type": "code",
        "outputId": "672adc05-ffaf-4a96-cbde-7926f685f06b",
        "colab": {
          "base_uri": "https://localhost:8080/",
          "height": 33
        }
      },
      "source": [
        "tokenizer = BertTokenizer.from_pretrained('bert-base-uncased', do_lower_case=True)\n",
        "\n",
        "tokenized_texts = [tokenizer.encode(sent[:MAX_LEN]) for sent in questions]\n",
        "print (\"Tokenize the first sentence:\")\n",
        "#print (tokenized_texts[1])"
      ],
      "execution_count": 189,
      "outputs": [
        {
          "output_type": "stream",
          "text": [
            "Tokenize the first sentence:\n"
          ],
          "name": "stdout"
        }
      ]
    },
    {
      "cell_type": "code",
      "metadata": {
        "id": "pnpqFqYnpm1E",
        "colab_type": "code",
        "colab": {}
      },
      "source": [
        "input_ids = pad_sequences(tokenized_texts, maxlen=MAX_LEN, dtype=\"long\",value=0, truncating=\"post\", padding=\"post\")"
      ],
      "execution_count": 0,
      "outputs": []
    },
    {
      "cell_type": "code",
      "metadata": {
        "id": "sP6M206eqFgB",
        "colab_type": "code",
        "colab": {}
      },
      "source": [
        "# Create attention masks\n",
        "attention_masks = []\n",
        "\n",
        "# Create a mask of 1s for each token followed by 0s for padding\n",
        "for seq in input_ids:\n",
        "  att_mask = [int(token_id > 0) for token_id in seq]\n",
        "  attention_masks.append(att_mask)\n",
        " "
      ],
      "execution_count": 0,
      "outputs": []
    },
    {
      "cell_type": "code",
      "metadata": {
        "id": "RfSXRRfYqLXw",
        "colab_type": "code",
        "outputId": "238f79e8-bc32-4444-b295-ff76407dbdd2",
        "colab": {
          "base_uri": "https://localhost:8080/",
          "height": 66
        }
      },
      "source": [
        "# Use train_test_split to split our data into train and validation sets for training\n",
        "\n",
        "prediction_inputs=input_ids\n",
        "prediction_labels=labels\n",
        "prediction_masks=attention_masks\n",
        "print(prediction_inputs.shape)\n",
        "print(prediction_labels.shape)\n",
        "print(len(prediction_masks))\n"
      ],
      "execution_count": 192,
      "outputs": [
        {
          "output_type": "stream",
          "text": [
            "(1000, 80)\n",
            "(1000,)\n",
            "1000\n"
          ],
          "name": "stdout"
        }
      ]
    },
    {
      "cell_type": "code",
      "metadata": {
        "id": "MOEUZRfso-UL",
        "colab_type": "code",
        "colab": {}
      },
      "source": [
        "# Convert all of our data into torch tensors, the required datatype for our model\n",
        "prediction_inputs = torch.tensor(prediction_inputs)\n",
        "prediction_labels = torch.tensor(prediction_labels)\n",
        "prediction_masks = torch.tensor(prediction_masks)"
      ],
      "execution_count": 0,
      "outputs": []
    },
    {
      "cell_type": "code",
      "metadata": {
        "id": "qsPRebtXTfjf",
        "colab_type": "code",
        "colab": {}
      },
      "source": [
        "# Select a batch size for training. For fine-tuning BERT on a specific task, the authors recommend a batch size of 16 or 32\n",
        "batch_size = 8\n",
        "\n",
        "# Create an iterator of our data with torch DataLoader. This helps save on memory during training because, unlike a for loop, \n",
        "# with an iterator the entire dataset does not need to be loaded into memory\n",
        "\n",
        "\n",
        "prediction_data = TensorDataset(prediction_inputs, prediction_masks, prediction_labels)\n",
        "prediction_sampler = SequentialSampler(prediction_data)\n",
        "prediction_dataloader = DataLoader(prediction_data, sampler=prediction_sampler, batch_size=batch_size)"
      ],
      "execution_count": 0,
      "outputs": []
    },
    {
      "cell_type": "code",
      "metadata": {
        "id": "7EmsdXHpR_Qr",
        "colab_type": "code",
        "outputId": "1d9f69f1-b6f8-434a-ab26-c9ccbb919365",
        "colab": {
          "base_uri": "https://localhost:8080/",
          "height": 50
        }
      },
      "source": [
        "# Prediction on test set\n",
        "\n",
        "print('Predicting labels for {:,} test sentences...'.format(len(prediction_inputs)))\n",
        "\n",
        "# Put model in evaluation mode\n",
        "model.eval()\n",
        "\n",
        "# Tracking variables \n",
        "predictions , true_labels = [], []\n",
        "\n",
        "# Predict \n",
        "for batch in prediction_dataloader:\n",
        "  # Add batch to GPU\n",
        "  batch = tuple(t.to(device) for t in batch)\n",
        "  \n",
        "  # Unpack the inputs from our dataloader\n",
        "  b_input_ids, b_input_mask, b_labels = batch\n",
        "  \n",
        "  # Telling the model not to compute or store gradients, saving memory and \n",
        "  # speeding up prediction\n",
        "  with torch.no_grad():\n",
        "      # Forward pass, calculate logit predictions\n",
        "      outputs = model(b_input_ids, token_type_ids=None, \n",
        "                      attention_mask=b_input_mask)\n",
        "\n",
        "  logits = outputs[0]\n",
        "\n",
        "  # Move logits and labels to CPU\n",
        "  logits = logits.detach().cpu().numpy()\n",
        "  label_ids = b_labels.to('cpu').numpy()\n",
        "  \n",
        "  # Store predictions and true labels\n",
        "  predictions.append(logits)\n",
        "  true_labels.append(label_ids)\n",
        "\n",
        "print('    DONE.')"
      ],
      "execution_count": 195,
      "outputs": [
        {
          "output_type": "stream",
          "text": [
            "Predicting labels for 1,000 test sentences...\n",
            "    DONE.\n"
          ],
          "name": "stdout"
        }
      ]
    },
    {
      "cell_type": "code",
      "metadata": {
        "id": "qti7EByKPkEu",
        "colab_type": "code",
        "outputId": "bf1b1941-eb4c-4adf-95fd-f9265e6bfb86",
        "colab": {
          "base_uri": "https://localhost:8080/",
          "height": 66
        }
      },
      "source": [
        "\n",
        "flat_predictions = [item for sublist in predictions for item in sublist]\n",
        "flat_predictions = np.argmax(flat_predictions, axis=1).flatten()\n",
        "\n",
        "# Combine the correct labels for each batch into a single list.\n",
        "flat_true_labels = [item for sublist in true_labels for item in sublist]\n",
        "print(\"Final Accuracy: \",accuracy_score(flat_true_labels, flat_predictions))\n",
        "print(\"Precision: \", precision_score(flat_true_labels, flat_predictions))\n",
        "print(\"Recall: \", recall_score(flat_true_labels, flat_predictions))"
      ],
      "execution_count": 196,
      "outputs": [
        {
          "output_type": "stream",
          "text": [
            "Final Accuracy:  0.993\n",
            "Precision:  1.0\n",
            "Recall:  0.986\n"
          ],
          "name": "stdout"
        }
      ]
    },
    {
      "cell_type": "code",
      "metadata": {
        "id": "7Pxf47CvS6E4",
        "colab_type": "code",
        "outputId": "7e332764-5a41-4400-ca60-748a9950446f",
        "colab": {
          "base_uri": "https://localhost:8080/",
          "height": 635
        }
      },
      "source": [
        "k=0\n",
        "total_incorrect=0\n",
        "for i in range(len(flat_predictions)):\n",
        "  if(int(float(flat_true_labels[i]))!=int(float(test_df.iloc[i,4]))):\n",
        "    print(\"Not correct\")  \n",
        "wrpos=0\n",
        "wrneg=0\n",
        "for i in range(len(flat_predictions)):\n",
        "  pred=int(float(flat_predictions[i]))\n",
        "  real=int(float(flat_true_labels[i]))\n",
        "  if(pred!=real):\n",
        "    total_incorrect+=1\n",
        "    if(flat_true_labels[i]==1):\n",
        "      wrpos+=1\n",
        "    else:\n",
        "      wrneg+=1  \n",
        "    if(k<=11):\n",
        "      print(\"\\n-----------------------------\\n\",test_df.iloc[i,2]+\"\\n\",test_df.iloc[i,3]+\"\\nActual Value: \",test_df.iloc[i,4]+\", \",flat_true_labels[i])\n",
        "    k+=1\n",
        "print(\"Incorrect examples: \",total_incorrect) \n",
        "print(\"Incorrect positive examples: \",wrpos)\n",
        "print(\"incorrect negative examples: \",wrneg)\n"
      ],
      "execution_count": 197,
      "outputs": [
        {
          "output_type": "stream",
          "text": [
            "\n",
            "-----------------------------\n",
            " would happen unblurred nongoogle street view europe suddenly appeared online\n",
            " suddenly became legal make google street view european countries delete unblurred backups afterwards would happen next\n",
            "Actual Value:  1.0,  1\n",
            "\n",
            "-----------------------------\n",
            " monetize youtube videos upload copyright content chances google may block account\n",
            " upload movies youtube monetize issue copyright\n",
            "Actual Value:  1.0,  1\n",
            "\n",
            "-----------------------------\n",
            " shepherdretriever mixed puppy chewing shoes\n",
            " stop beaglepointer mix puppy biting shoes\n",
            "Actual Value:  1.0,  1\n",
            "\n",
            "-----------------------------\n",
            " array allocate dynamic memory\n",
            " dynamic allocations array allowed c\n",
            "Actual Value:  1.0,  1\n",
            "\n",
            "-----------------------------\n",
            " write effective cover letter job software engineer\n",
            " would recommend write cvcover letter software engineer\n",
            "Actual Value:  1.0,  1\n",
            "\n",
            "-----------------------------\n",
            " create new shell new terminal using c programming linux terminal\n",
            " create new terminal new shell linux using c programming\n",
            "Actual Value:  1.0,  1\n",
            "\n",
            "-----------------------------\n",
            " java considered pure objectoriented programming language\n",
            " java 100 object oriented programming language\n",
            "Actual Value:  1.0,  1\n",
            "Incorrect examples:  7\n",
            "Incorrect positive examples:  7\n",
            "incorrect negative examples:  0\n"
          ],
          "name": "stdout"
        }
      ]
    },
    {
      "cell_type": "code",
      "metadata": {
        "id": "D-h4UBzKiam5",
        "colab_type": "code",
        "outputId": "cfde3e7b-15d0-40ac-e5a3-7dfd134a23d6",
        "colab": {
          "base_uri": "https://localhost:8080/",
          "height": 223
        }
      },
      "source": [
        "k=0\n",
        "for i in range(len(flat_predictions)):\n",
        "  if(int(flat_true_labels[i])!=int(test_df.iloc[i,4])):\n",
        "    print(\"Not correct\")  \n",
        "wrpos=0\n",
        "wrneg=0\n",
        "for i in range(len(flat_predictions)):\n",
        "  pred=int(float(flat_predictions[i]))\n",
        "  real=int(float(flat_true_labels[i]))\n",
        "  if(pred!=real):\n",
        "    if(flat_true_labels[i]==1):\n",
        "      wrpos+=1\n",
        "    else:\n",
        "      wrneg+=1  \n",
        "    if(k<=11):\n",
        "      print(\"\\n-----------------------------\\n\",test_df.iloc[i,2]+\"\\n\",test_df.iloc[i,3]+\"\\nActual Value: \",test_df.iloc[i,4]+\", \",flat_true_labels[i])\n",
        "    k+=1\n",
        "print(\"Incorrect examples: \",k) \n",
        "print(\"Incorrect positive examples: \",wrpos)\n",
        "print(\"incorrect negative examples: \",wrneg)"
      ],
      "execution_count": 131,
      "outputs": [
        {
          "output_type": "error",
          "ename": "ValueError",
          "evalue": "ignored",
          "traceback": [
            "\u001b[0;31m---------------------------------------------------------------------------\u001b[0m",
            "\u001b[0;31mValueError\u001b[0m                                Traceback (most recent call last)",
            "\u001b[0;32m<ipython-input-131-dd6314647774>\u001b[0m in \u001b[0;36m<module>\u001b[0;34m()\u001b[0m\n\u001b[1;32m      1\u001b[0m \u001b[0mk\u001b[0m\u001b[0;34m=\u001b[0m\u001b[0;36m0\u001b[0m\u001b[0;34m\u001b[0m\u001b[0;34m\u001b[0m\u001b[0m\n\u001b[1;32m      2\u001b[0m \u001b[0;32mfor\u001b[0m \u001b[0mi\u001b[0m \u001b[0;32min\u001b[0m \u001b[0mrange\u001b[0m\u001b[0;34m(\u001b[0m\u001b[0mlen\u001b[0m\u001b[0;34m(\u001b[0m\u001b[0mflat_predictions\u001b[0m\u001b[0;34m)\u001b[0m\u001b[0;34m)\u001b[0m\u001b[0;34m:\u001b[0m\u001b[0;34m\u001b[0m\u001b[0;34m\u001b[0m\u001b[0m\n\u001b[0;32m----> 3\u001b[0;31m   \u001b[0;32mif\u001b[0m\u001b[0;34m(\u001b[0m\u001b[0mint\u001b[0m\u001b[0;34m(\u001b[0m\u001b[0mflat_true_labels\u001b[0m\u001b[0;34m[\u001b[0m\u001b[0mi\u001b[0m\u001b[0;34m]\u001b[0m\u001b[0;34m)\u001b[0m\u001b[0;34m!=\u001b[0m\u001b[0mint\u001b[0m\u001b[0;34m(\u001b[0m\u001b[0mtest_df\u001b[0m\u001b[0;34m.\u001b[0m\u001b[0miloc\u001b[0m\u001b[0;34m[\u001b[0m\u001b[0mi\u001b[0m\u001b[0;34m,\u001b[0m\u001b[0;36m4\u001b[0m\u001b[0;34m]\u001b[0m\u001b[0;34m)\u001b[0m\u001b[0;34m)\u001b[0m\u001b[0;34m:\u001b[0m\u001b[0;34m\u001b[0m\u001b[0;34m\u001b[0m\u001b[0m\n\u001b[0m\u001b[1;32m      4\u001b[0m     \u001b[0mprint\u001b[0m\u001b[0;34m(\u001b[0m\u001b[0;34m\"Not correct\"\u001b[0m\u001b[0;34m)\u001b[0m\u001b[0;34m\u001b[0m\u001b[0;34m\u001b[0m\u001b[0m\n\u001b[1;32m      5\u001b[0m \u001b[0mwrpos\u001b[0m\u001b[0;34m=\u001b[0m\u001b[0;36m0\u001b[0m\u001b[0;34m\u001b[0m\u001b[0;34m\u001b[0m\u001b[0m\n",
            "\u001b[0;31mValueError\u001b[0m: invalid literal for int() with base 10: '0.0'"
          ]
        }
      ]
    }
  ]
}