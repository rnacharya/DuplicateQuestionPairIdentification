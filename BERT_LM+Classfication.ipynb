{
  "nbformat": 4,
  "nbformat_minor": 0,
  "metadata": {
    "colab": {
      "name": "BERT LM+Classfication.ipynb",
      "provenance": [],
      "collapsed_sections": [],
      "machine_shape": "hm"
    },
    "kernelspec": {
      "name": "python3",
      "display_name": "Python 3"
    },
    "accelerator": "GPU"
  },
  "cells": [
    {
      "cell_type": "code",
      "metadata": {
        "id": "v9Z4FEUggBQz",
        "colab_type": "code",
        "outputId": "af03223e-99cc-4605-9b88-94babb5dcf8e",
        "colab": {
          "base_uri": "https://localhost:8080/",
          "height": 245
        }
      },
      "source": [
        "!ln -sf /opt/bin/nvidia-smi /usr/bin/nvidia-smi\n",
        "!pip install gputil\n",
        "!pip install psutil\n",
        "!pip install humanize\n",
        "import psutil\n",
        "import humanize\n",
        "import os\n",
        "import GPUtil as GPU\n",
        "GPUs = GPU.getGPUs()\n",
        "# XXX: only one GPU on Colab and isn’t guaranteed\n",
        "gpu = GPUs[0]\n",
        "print(\"My GPU Name is: \",gpu.name)\n",
        "def printm():\n",
        " process = psutil.Process(os.getpid())\n",
        " \n",
        " print(\"Gen RAM Free: \" + humanize.naturalsize( psutil.virtual_memory().available ), \" | Proc size: \" + humanize.naturalsize( process.memory_info().rss))\n",
        " print(\"GPU RAM Free: {0:.0f}MB | Used: {1:.0f}MB | Util {2:3.0f}% | Total {3:.0f}MB\".format(gpu.memoryFree, gpu.memoryUsed, gpu.memoryUtil*100, gpu.memoryTotal))\n",
        "printm() "
      ],
      "execution_count": 1,
      "outputs": [
        {
          "output_type": "stream",
          "text": [
            "Collecting gputil\n",
            "  Downloading https://files.pythonhosted.org/packages/ed/0e/5c61eedde9f6c87713e89d794f01e378cfd9565847d4576fa627d758c554/GPUtil-1.4.0.tar.gz\n",
            "Building wheels for collected packages: gputil\n",
            "  Building wheel for gputil (setup.py) ... \u001b[?25l\u001b[?25hdone\n",
            "  Created wheel for gputil: filename=GPUtil-1.4.0-cp36-none-any.whl size=7410 sha256=1bb06d4c413ed6e458da0506939d5a1e84d24279ea7a293276137cee862f2322\n",
            "  Stored in directory: /root/.cache/pip/wheels/3d/77/07/80562de4bb0786e5ea186911a2c831fdd0018bda69beab71fd\n",
            "Successfully built gputil\n",
            "Installing collected packages: gputil\n",
            "Successfully installed gputil-1.4.0\n",
            "Requirement already satisfied: psutil in /usr/local/lib/python3.6/dist-packages (5.4.8)\n",
            "Requirement already satisfied: humanize in /usr/local/lib/python3.6/dist-packages (0.5.1)\n",
            "My GPU Name is:  Tesla P100-PCIE-16GB\n",
            "Gen RAM Free: 26.4 GB  | Proc size: 155.8 MB\n",
            "GPU RAM Free: 16280MB | Used: 0MB | Util   0% | Total 16280MB\n"
          ],
          "name": "stdout"
        }
      ]
    },
    {
      "cell_type": "code",
      "metadata": {
        "id": "kaZLqI1LgEPw",
        "colab_type": "code",
        "colab": {}
      },
      "source": [
        "!kill -9 -1"
      ],
      "execution_count": 0,
      "outputs": []
    },
    {
      "cell_type": "code",
      "metadata": {
        "id": "fLfYlh4FIpsu",
        "colab_type": "code",
        "colab": {}
      },
      "source": [
        "import torch"
      ],
      "execution_count": 0,
      "outputs": []
    },
    {
      "cell_type": "code",
      "metadata": {
        "id": "ePIaLYKFIvRr",
        "colab_type": "code",
        "outputId": "7eba00e3-da58-4b14-f94f-c8fa5fda73a5",
        "colab": {
          "base_uri": "https://localhost:8080/",
          "height": 82
        }
      },
      "source": [
        "# do I have GPU:\n",
        "gpu_available = torch.cuda.is_available()\n",
        "print(gpu_available)\n",
        "device = torch.device(\"cuda\" if gpu_available else \"cpu\")\n",
        "# number of GPUs I have:\n",
        "num = torch.cuda.device_count()\n",
        "print(f'I have {num} GPUs')\n",
        "\n",
        "# current device index\n",
        "idx = torch.cuda.current_device()\n",
        "print(f'My current device has index {idx}')\n",
        "\n",
        "# GPU's name\n",
        "name = torch.cuda.get_device_name(idx)\n",
        "print(f'My GPU is {name}')"
      ],
      "execution_count": 3,
      "outputs": [
        {
          "output_type": "stream",
          "text": [
            "True\n",
            "I have 1 GPUs\n",
            "My current device has index 0\n",
            "My GPU is Tesla P100-PCIE-16GB\n"
          ],
          "name": "stdout"
        }
      ]
    },
    {
      "cell_type": "code",
      "metadata": {
        "id": "xHSioiTkIzGb",
        "colab_type": "code",
        "outputId": "dbeeb993-3ef9-41b1-d923-0c08af8b5dd4",
        "colab": {
          "base_uri": "https://localhost:8080/",
          "height": 553
        }
      },
      "source": [
        "!pip install transformers"
      ],
      "execution_count": 4,
      "outputs": [
        {
          "output_type": "stream",
          "text": [
            "Collecting transformers\n",
            "\u001b[?25l  Downloading https://files.pythonhosted.org/packages/d1/08/4a6768ca1a7a4fa37e5ee08077c5d02b8d83876bd36caa5fc24d98992ac2/transformers-2.2.2-py3-none-any.whl (387kB)\n",
            "\u001b[K     |████████████████████████████████| 389kB 2.9MB/s \n",
            "\u001b[?25hCollecting sentencepiece\n",
            "\u001b[?25l  Downloading https://files.pythonhosted.org/packages/74/f4/2d5214cbf13d06e7cb2c20d84115ca25b53ea76fa1f0ade0e3c9749de214/sentencepiece-0.1.85-cp36-cp36m-manylinux1_x86_64.whl (1.0MB)\n",
            "\u001b[K     |████████████████████████████████| 1.0MB 45.0MB/s \n",
            "\u001b[?25hRequirement already satisfied: requests in /usr/local/lib/python3.6/dist-packages (from transformers) (2.21.0)\n",
            "Requirement already satisfied: numpy in /usr/local/lib/python3.6/dist-packages (from transformers) (1.17.4)\n",
            "Requirement already satisfied: regex in /usr/local/lib/python3.6/dist-packages (from transformers) (2019.12.9)\n",
            "Requirement already satisfied: tqdm in /usr/local/lib/python3.6/dist-packages (from transformers) (4.28.1)\n",
            "Requirement already satisfied: boto3 in /usr/local/lib/python3.6/dist-packages (from transformers) (1.10.40)\n",
            "Collecting sacremoses\n",
            "\u001b[?25l  Downloading https://files.pythonhosted.org/packages/1f/8e/ed5364a06a9ba720fddd9820155cc57300d28f5f43a6fd7b7e817177e642/sacremoses-0.0.35.tar.gz (859kB)\n",
            "\u001b[K     |████████████████████████████████| 860kB 37.4MB/s \n",
            "\u001b[?25hRequirement already satisfied: urllib3<1.25,>=1.21.1 in /usr/local/lib/python3.6/dist-packages (from requests->transformers) (1.24.3)\n",
            "Requirement already satisfied: chardet<3.1.0,>=3.0.2 in /usr/local/lib/python3.6/dist-packages (from requests->transformers) (3.0.4)\n",
            "Requirement already satisfied: certifi>=2017.4.17 in /usr/local/lib/python3.6/dist-packages (from requests->transformers) (2019.11.28)\n",
            "Requirement already satisfied: idna<2.9,>=2.5 in /usr/local/lib/python3.6/dist-packages (from requests->transformers) (2.8)\n",
            "Requirement already satisfied: s3transfer<0.3.0,>=0.2.0 in /usr/local/lib/python3.6/dist-packages (from boto3->transformers) (0.2.1)\n",
            "Requirement already satisfied: botocore<1.14.0,>=1.13.40 in /usr/local/lib/python3.6/dist-packages (from boto3->transformers) (1.13.40)\n",
            "Requirement already satisfied: jmespath<1.0.0,>=0.7.1 in /usr/local/lib/python3.6/dist-packages (from boto3->transformers) (0.9.4)\n",
            "Requirement already satisfied: six in /usr/local/lib/python3.6/dist-packages (from sacremoses->transformers) (1.12.0)\n",
            "Requirement already satisfied: click in /usr/local/lib/python3.6/dist-packages (from sacremoses->transformers) (7.0)\n",
            "Requirement already satisfied: joblib in /usr/local/lib/python3.6/dist-packages (from sacremoses->transformers) (0.14.1)\n",
            "Requirement already satisfied: python-dateutil<2.8.1,>=2.1; python_version >= \"2.7\" in /usr/local/lib/python3.6/dist-packages (from botocore<1.14.0,>=1.13.40->boto3->transformers) (2.6.1)\n",
            "Requirement already satisfied: docutils<0.16,>=0.10 in /usr/local/lib/python3.6/dist-packages (from botocore<1.14.0,>=1.13.40->boto3->transformers) (0.15.2)\n",
            "Building wheels for collected packages: sacremoses\n",
            "  Building wheel for sacremoses (setup.py) ... \u001b[?25l\u001b[?25hdone\n",
            "  Created wheel for sacremoses: filename=sacremoses-0.0.35-cp36-none-any.whl size=883999 sha256=d093db66f212ef02d110b4b736730da00b7a39a96a655d4b67c1cb6e32c4137f\n",
            "  Stored in directory: /root/.cache/pip/wheels/63/2a/db/63e2909042c634ef551d0d9ac825b2b0b32dede4a6d87ddc94\n",
            "Successfully built sacremoses\n",
            "Installing collected packages: sentencepiece, sacremoses, transformers\n",
            "Successfully installed sacremoses-0.0.35 sentencepiece-0.1.85 transformers-2.2.2\n"
          ],
          "name": "stdout"
        }
      ]
    },
    {
      "cell_type": "code",
      "metadata": {
        "id": "TJZ8jOIjI4ca",
        "colab_type": "code",
        "outputId": "7f7b88b5-ee41-49e3-a8cf-f221c35e7b8f",
        "colab": {
          "base_uri": "https://localhost:8080/",
          "height": 110
        }
      },
      "source": [
        "from torch.utils.data import TensorDataset, DataLoader, RandomSampler, SequentialSampler\n",
        "from keras.preprocessing.sequence import pad_sequences\n",
        "#from sklearn.model_selection import train_test_split\n",
        "#from pytorch_pretrained_bert import BertAdam\n",
        "#from pytorch_pretrained_bert.modeling import BertForPreTraining, BertPreTrainedModel, BertModel, BertConfig, BertForMaskedLM, BertForSequenceClassification\n",
        "from tqdm import tqdm, trange\n",
        "from torch.nn import CrossEntropyLoss\n",
        "import pandas as pd\n",
        "import io\n",
        "import numpy as np\n",
        "import nltk\n",
        "from nltk.corpus import stopwords\n",
        "nltk.download('stopwords')\n",
        "stop=stopwords.words('english')\n",
        "import matplotlib.pyplot as plt\n",
        "% matplotlib inline"
      ],
      "execution_count": 4,
      "outputs": [
        {
          "output_type": "stream",
          "text": [
            "Using TensorFlow backend.\n"
          ],
          "name": "stderr"
        },
        {
          "output_type": "display_data",
          "data": {
            "text/html": [
              "<p style=\"color: red;\">\n",
              "The default version of TensorFlow in Colab will soon switch to TensorFlow 2.x.<br>\n",
              "We recommend you <a href=\"https://www.tensorflow.org/guide/migrate\" target=\"_blank\">upgrade</a> now \n",
              "or ensure your notebook will continue to use TensorFlow 1.x via the <code>%tensorflow_version 1.x</code> magic:\n",
              "<a href=\"https://colab.research.google.com/notebooks/tensorflow_version.ipynb\" target=\"_blank\">more info</a>.</p>\n"
            ],
            "text/plain": [
              "<IPython.core.display.HTML object>"
            ]
          },
          "metadata": {
            "tags": []
          }
        },
        {
          "output_type": "stream",
          "text": [
            "[nltk_data] Downloading package stopwords to /root/nltk_data...\n",
            "[nltk_data]   Unzipping corpora/stopwords.zip.\n"
          ],
          "name": "stdout"
        }
      ]
    },
    {
      "cell_type": "code",
      "metadata": {
        "id": "7mkcVROrCQhC",
        "colab_type": "code",
        "colab": {
          "base_uri": "https://localhost:8080/",
          "height": 288
        },
        "outputId": "19fecdbe-3125-4310-e8fa-b667c0010be4"
      },
      "source": [
        "from transformers import BertTokenizer"
      ],
      "execution_count": 5,
      "outputs": [
        {
          "output_type": "error",
          "ename": "ModuleNotFoundError",
          "evalue": "ignored",
          "traceback": [
            "\u001b[0;31m---------------------------------------------------------------------------\u001b[0m",
            "\u001b[0;31mModuleNotFoundError\u001b[0m                       Traceback (most recent call last)",
            "\u001b[0;32m<ipython-input-5-89505a24ece6>\u001b[0m in \u001b[0;36m<module>\u001b[0;34m()\u001b[0m\n\u001b[0;32m----> 1\u001b[0;31m \u001b[0;32mfrom\u001b[0m \u001b[0mtransformers\u001b[0m \u001b[0;32mimport\u001b[0m \u001b[0mBertTokenizer\u001b[0m\u001b[0;34m\u001b[0m\u001b[0;34m\u001b[0m\u001b[0m\n\u001b[0m",
            "\u001b[0;31mModuleNotFoundError\u001b[0m: No module named 'transformers'",
            "",
            "\u001b[0;31m---------------------------------------------------------------------------\u001b[0;32m\nNOTE: If your import is failing due to a missing package, you can\nmanually install dependencies using either !pip or !apt.\n\nTo view examples of installing some common dependencies, click the\n\"Open Examples\" button below.\n\u001b[0;31m---------------------------------------------------------------------------\u001b[0m\n"
          ]
        }
      ]
    },
    {
      "cell_type": "code",
      "metadata": {
        "id": "cKJFzsuwt_9v",
        "colab_type": "code",
        "outputId": "03c28dd1-5fb4-4d07-cbc4-51c2a648c168",
        "colab": {
          "base_uri": "https://localhost:8080/",
          "height": 118
        }
      },
      "source": [
        "from google.colab import drive\n",
        "drive.mount('/content/drive')"
      ],
      "execution_count": 6,
      "outputs": [
        {
          "output_type": "stream",
          "text": [
            "Go to this URL in a browser: https://accounts.google.com/o/oauth2/auth?client_id=947318989803-6bn6qk8qdgf4n4g3pfee6491hc0brc4i.apps.googleusercontent.com&redirect_uri=urn%3aietf%3awg%3aoauth%3a2.0%3aoob&response_type=code&scope=email%20https%3a%2f%2fwww.googleapis.com%2fauth%2fdocs.test%20https%3a%2f%2fwww.googleapis.com%2fauth%2fdrive%20https%3a%2f%2fwww.googleapis.com%2fauth%2fdrive.photos.readonly%20https%3a%2f%2fwww.googleapis.com%2fauth%2fpeopleapi.readonly\n",
            "\n",
            "Enter your authorization code:\n",
            "··········\n",
            "Mounted at /content/drive\n"
          ],
          "name": "stdout"
        }
      ]
    },
    {
      "cell_type": "code",
      "metadata": {
        "id": "UlSLbYR7aJCx",
        "colab_type": "code",
        "colab": {}
      },
      "source": [
        "def balancedf(df, size):\n",
        "  size=int(size/2)\n",
        "  df['is_duplicate']=pd.to_numeric(df['is_duplicate'], errors='coerce')\n",
        "  df.dropna(inplace=True)\n",
        "  so_pos=df.loc[df['is_duplicate'] == 1]\n",
        "  so_neg=df.loc[df['is_duplicate'] == 0]\n",
        "  so_pos=so_pos.head(size)\n",
        "  so_neg=so_neg.head(size)\n",
        "  #print(\"Positive: \", so_pos.shape)\n",
        "  #print(\"Negative: \", so_neg.shape)\n",
        "  df=pd.concat([so_pos, so_neg])\n",
        "  #df=df.sample(frac=1)\n",
        "  return df"
      ],
      "execution_count": 0,
      "outputs": []
    },
    {
      "cell_type": "code",
      "metadata": {
        "id": "sodFlhpQI82V",
        "colab_type": "code",
        "outputId": "ad44b4ac-8c9b-41c6-f690-ea40863dabf2",
        "colab": {
          "base_uri": "https://localhost:8080/",
          "height": 228
        }
      },
      "source": [
        "quora_df = pd.read_csv(\"drive/My Drive/Colab Notebooks/train.csv\", names=['qid1', 'qid2', 'question1', 'question2', 'is_duplicate'])\n",
        "quora_df=balancedf(quora_df, 4000)#1. \n",
        "#4. Only quora, in domain\n",
        "'''quora_df=balancedf(quora_df, 7000)\n",
        "q_pos=quora_df.loc[quora_df['is_duplicate']==1]\n",
        "q_neg=quora_df.loc[quora_df['is_duplicate']==0]\n",
        "print(\"Positive examples:\", q_pos.shape)\n",
        "print(\"Negative examples:\", q_neg.shape)\n",
        "q_train=pd.concat([q_pos.head(3000), au_neg.head(3000)])\n",
        "q_test=pd.concat([q_pos.tail(500), au_neg.tail(500)])\n",
        "df=q_train\n",
        "test_df=q_test'''\n",
        "\n",
        "\n",
        "\n",
        "\n",
        "so_df=pd.read_csv(\"drive/My Drive/Colab Notebooks/stackoverflow1-title_only.csv\", names=['qid1', 'qid2', 'question1', 'question2', 'is_duplicate'])\n",
        "\n",
        "so_df=balancedf(so_df, 6000)#1. \n",
        "#so_df=balancedf(so_df, 3000)\n",
        "#3 Cross domain, but related genresso_df=balancedf(so_df, 6000)\n",
        "\n",
        "au_df=pd.read_csv(\"drive/My Drive/Colab Notebooks/askubuntu-title_only.csv\", names=['qid1', 'qid2', 'question1', 'question2', 'is_duplicate'])\n",
        "#1,2 \n",
        "au_df=balancedf(au_df, 1000)\n",
        "#3 Cross domain, but related genresau_df=balancedf(au_df, 1000)\n",
        "\n",
        "po_df=pd.read_csv(\"drive/My Drive/Colab Notebooks/politics-title_only.csv\", names=['qid1', 'qid2', 'question1', 'question2', 'is_duplicate'])\n",
        "po_df=balancedf(po_df, 500)\n",
        "\n",
        "mo_df=pd.read_csv(\"drive/My Drive/Colab Notebooks/money-title_only.csv\", names=['qid1', 'qid2', 'question1', 'question2', 'is_duplicate'])\n",
        "mo_df=balancedf(mo_df, 500)\n",
        "\n",
        "#1. All MIX:\n",
        "'''\n",
        "df=pd.concat([au_df,quora_df])\n",
        "df=df.sample(frac=1)\n",
        "test_df=pd.concat([so_df,po_df,mo_df])\n",
        "test_df=test_df.sample(frac=1)\n",
        "print(df.shape)\n",
        "print(test_df.shape)'''\n",
        "\n",
        "#3. Cross domain but related genres\n",
        "df=so_df\n",
        "df=df.sample(frac=1)\n",
        "test_df=au_df\n",
        "test_df=test_df.sample(frac=1)\n",
        "print(df.shape)\n",
        "print(test_df.shape)\n",
        "\n",
        "\n",
        "#2. Joint training but related genres mic: \n",
        "'''au_pos=au_df.loc[au_df['is_duplicate'] == 1]\n",
        "au_neg=au_df.loc[au_df['is_duplicate'] == 0]\n",
        "au_train=pd.concat([au_pos.head(1500), au_neg.head(1500)])\n",
        "au_test=pd.concat([au_pos.tail(500), au_neg.tail(500)])\n",
        "df=pd.concat([au_train,so_df])\n",
        "df=df.sample(frac=1)\n",
        "\n",
        "test_df=pd.concat([au_test])\n",
        "test_df=test_df.sample(frac=1)\n",
        "print(df.shape)\n",
        "print(test_df.shape)\n",
        "'''\n",
        "print(\"Shapes:\")\n",
        "print(df.shape)\n",
        "print(test_df.shape)\n",
        "\n",
        "df['question1']=df['question1'].astype(str)\n",
        "df['question2']=df['question2'].astype(str)\n",
        "df['is_duplicate']=df['is_duplicate'].astype(str)\n",
        "test_df['question1']=test_df['question1'].astype(str)\n",
        "test_df['question2']=test_df['question2'].astype(str)\n",
        "test_df['is_duplicate']=test_df['is_duplicate'].astype(str)\n",
        "dtypeCount =[df.iloc[:,i].apply(type).value_counts() for i in range(df.shape[1])]\n",
        "print(dtypeCount)"
      ],
      "execution_count": 22,
      "outputs": [
        {
          "output_type": "stream",
          "text": [
            "/usr/local/lib/python3.6/dist-packages/IPython/core/interactiveshell.py:2718: DtypeWarning: Columns (0,1,2,5) have mixed types. Specify dtype option on import or set low_memory=False.\n",
            "  interactivity=interactivity, compiler=compiler, result=result)\n"
          ],
          "name": "stderr"
        },
        {
          "output_type": "stream",
          "text": [
            "(6000, 5)\n",
            "(1000, 5)\n",
            "Shapes:\n",
            "(6000, 5)\n",
            "(1000, 5)\n",
            "[<class 'str'>    6000\n",
            "Name: qid1, dtype: int64, <class 'str'>    6000\n",
            "Name: qid2, dtype: int64, <class 'str'>    6000\n",
            "Name: question1, dtype: int64, <class 'str'>    6000\n",
            "Name: question2, dtype: int64, <class 'str'>    6000\n",
            "Name: is_duplicate, dtype: int64]\n"
          ],
          "name": "stdout"
        }
      ]
    },
    {
      "cell_type": "code",
      "metadata": {
        "id": "lPuOdK8QlGA5",
        "colab_type": "code",
        "colab": {}
      },
      "source": [
        "def preprocessdf(df):\n",
        "  numrows,numcols=df.shape\n",
        "  numrows*=2\n",
        "  sumlen=0\n",
        "  vocab=set()\n",
        "  num_duplicates=0\n",
        "  '''df['question1']=df['question1'].str.lower()\n",
        "  df['question1']=df['question1'].apply(lambda x: \" \".join(x for x in x.split() if x not in stop))\n",
        "  df['question1']=df['question1'].str.replace('[^\\w\\s]','')\n",
        "  df['question2']=df['question2'].apply(lambda x: \" \".join(x for x in x.split() if x not in stop))\n",
        "  df['question2']=df['question2'].str.replace('[^\\w\\s]','')\n",
        "  df['question2']=df['question2'].str.lower()'''\n",
        "  for idx, row in df.iterrows():\n",
        "  #print(row)\n",
        "    q1=row[\"question1\"]\n",
        "    if(q1==\"question1\"):\n",
        "      continue\n",
        "    q2=row[\"question2\"]\n",
        "  #print(q1)\n",
        "  #print(q2)\n",
        "    if(int(float(row[\"is_duplicate\"]))==1):\n",
        "      num_duplicates+=1\n",
        "    sumlen+=len(str(q1))\n",
        "    sumlen+=len(str(q2))\n",
        "    if(\"float\" in str(type(q1)) or \"float\" in str(type(q2))):\n",
        "      continue\n",
        "    vocab.update(q1.split())\n",
        "    vocab.update(q2.split())\n",
        "  print(\"Size of vocabulary:\", len(vocab))  \n",
        "  print(\"Average sequence length: \", int(sumlen/numrows)) \n",
        "  print(\"Number of duplicate questions: \", num_duplicates) \n",
        "#print(df[\"question2\"][1]) \n",
        "  return df  "
      ],
      "execution_count": 0,
      "outputs": []
    },
    {
      "cell_type": "code",
      "metadata": {
        "id": "d_gocXkNlg5p",
        "colab_type": "code",
        "outputId": "cf2a2bfb-beed-4cbf-9143-9e16da6cd668",
        "colab": {
          "base_uri": "https://localhost:8080/",
          "height": 82
        }
      },
      "source": [
        "df=preprocessdf(test_df)\n",
        "print(df.shape)"
      ],
      "execution_count": 25,
      "outputs": [
        {
          "output_type": "stream",
          "text": [
            "Size of vocabulary: 2908\n",
            "Average sequence length:  51\n",
            "Number of duplicate questions:  500\n",
            "(1000, 5)\n"
          ],
          "name": "stdout"
        }
      ]
    },
    {
      "cell_type": "code",
      "metadata": {
        "id": "Hrz_wQa-I_Jq",
        "colab_type": "code",
        "outputId": "38ddbf78-38bf-40ee-bac4-ab0ab24ef955",
        "colab": {
          "base_uri": "https://localhost:8080/",
          "height": 50
        }
      },
      "source": [
        "# Create sentence and label lists\n",
        "text_a = df.question1\n",
        "text_b=df.question2\n",
        "is_dup=df.is_duplicate\n",
        "questions=[]\n",
        "# We need to add special tokens at the beginning and end of each sentence for BERT to work properly\n",
        "labels=list()\n",
        "m,n=df.shape\n",
        "print(m)\n",
        "for w in range(0, m):\n",
        "  q1=df.iloc[w,2]\n",
        "  #print(q1)\n",
        "  q2=df.iloc[w,3]\n",
        "  #print(q2)\n",
        "  is_d=int(float(df.iloc[w,4]))\n",
        "  #print(is_d)\n",
        "  if(q1==\"question1\"):\n",
        "    continue\n",
        "  questions.append(\"[CLS] \" + str(q1) + \" [SEP] \" +str(q2)+ \" [SEP]\")\n",
        "  #print(is_d)\n",
        "  labels.append(is_d)\n",
        "#labels = df.is_duplicate.values\n",
        "#labels=list(map(int, labels)) \n",
        "labels=np.asarray(labels)\n",
        "print(len(labels))\n",
        "#print(questions[1])"
      ],
      "execution_count": 29,
      "outputs": [
        {
          "output_type": "stream",
          "text": [
            "5000\n",
            "5000\n"
          ],
          "name": "stdout"
        }
      ]
    },
    {
      "cell_type": "code",
      "metadata": {
        "id": "nb67l2HsJDy_",
        "colab_type": "code",
        "colab": {}
      },
      "source": [
        "MAX_LEN = 80\n"
      ],
      "execution_count": 0,
      "outputs": []
    },
    {
      "cell_type": "code",
      "metadata": {
        "id": "JRwLRqtuoE2j",
        "colab_type": "code",
        "colab": {}
      },
      "source": [
        "path=\"/lm_finetune\""
      ],
      "execution_count": 0,
      "outputs": []
    },
    {
      "cell_type": "code",
      "metadata": {
        "id": "65nOcg0IoFCp",
        "colab_type": "code",
        "colab": {
          "base_uri": "https://localhost:8080/",
          "height": 223
        },
        "outputId": "1425f96c-7f98-465c-b4c8-726e3eda4c74"
      },
      "source": [
        "lm_df=pd.concat([lm_so,lm_mo,lm_po])\n",
        "print(lm_df.shape)\n",
        "q1=lm_df[\"question1\"].values\n",
        "q2=lm_df[\"question2\"].values\n",
        "q= [*q1, *q2]\n",
        "lm_df=pd.DataFrame(q, columns=[\"questions\"])\n",
        "print(lm_df.shape)"
      ],
      "execution_count": 21,
      "outputs": [
        {
          "output_type": "error",
          "ename": "NameError",
          "evalue": "ignored",
          "traceback": [
            "\u001b[0;31m---------------------------------------------------------------------------\u001b[0m",
            "\u001b[0;31mNameError\u001b[0m                                 Traceback (most recent call last)",
            "\u001b[0;32m<ipython-input-21-b2333461a0f4>\u001b[0m in \u001b[0;36m<module>\u001b[0;34m()\u001b[0m\n\u001b[0;32m----> 1\u001b[0;31m \u001b[0mlm_df\u001b[0m\u001b[0;34m=\u001b[0m\u001b[0mpd\u001b[0m\u001b[0;34m.\u001b[0m\u001b[0mconcat\u001b[0m\u001b[0;34m(\u001b[0m\u001b[0;34m[\u001b[0m\u001b[0mlm_so\u001b[0m\u001b[0;34m,\u001b[0m\u001b[0mlm_mo\u001b[0m\u001b[0;34m,\u001b[0m\u001b[0mlm_po\u001b[0m\u001b[0;34m]\u001b[0m\u001b[0;34m)\u001b[0m\u001b[0;34m\u001b[0m\u001b[0;34m\u001b[0m\u001b[0m\n\u001b[0m\u001b[1;32m      2\u001b[0m \u001b[0mprint\u001b[0m\u001b[0;34m(\u001b[0m\u001b[0mlm_df\u001b[0m\u001b[0;34m.\u001b[0m\u001b[0mshape\u001b[0m\u001b[0;34m)\u001b[0m\u001b[0;34m\u001b[0m\u001b[0;34m\u001b[0m\u001b[0m\n\u001b[1;32m      3\u001b[0m \u001b[0mq1\u001b[0m\u001b[0;34m=\u001b[0m\u001b[0mlm_df\u001b[0m\u001b[0;34m[\u001b[0m\u001b[0;34m\"question1\"\u001b[0m\u001b[0;34m]\u001b[0m\u001b[0;34m.\u001b[0m\u001b[0mvalues\u001b[0m\u001b[0;34m\u001b[0m\u001b[0;34m\u001b[0m\u001b[0m\n\u001b[1;32m      4\u001b[0m \u001b[0mq2\u001b[0m\u001b[0;34m=\u001b[0m\u001b[0mlm_df\u001b[0m\u001b[0;34m[\u001b[0m\u001b[0;34m\"question2\"\u001b[0m\u001b[0;34m]\u001b[0m\u001b[0;34m.\u001b[0m\u001b[0mvalues\u001b[0m\u001b[0;34m\u001b[0m\u001b[0;34m\u001b[0m\u001b[0m\n\u001b[1;32m      5\u001b[0m \u001b[0mq\u001b[0m\u001b[0;34m=\u001b[0m \u001b[0;34m[\u001b[0m\u001b[0;34m*\u001b[0m\u001b[0mq1\u001b[0m\u001b[0;34m,\u001b[0m \u001b[0;34m*\u001b[0m\u001b[0mq2\u001b[0m\u001b[0;34m]\u001b[0m\u001b[0;34m\u001b[0m\u001b[0;34m\u001b[0m\u001b[0m\n",
            "\u001b[0;31mNameError\u001b[0m: name 'lm_so' is not defined"
          ]
        }
      ]
    },
    {
      "cell_type": "code",
      "metadata": {
        "id": "VKdFrWzsoFPZ",
        "colab_type": "code",
        "colab": {
          "base_uri": "https://localhost:8080/",
          "height": 158
        },
        "outputId": "8fd47dbd-fee4-487e-f38d-7881617e7084"
      },
      "source": [
        "lm_df.questions = lm_df.questions.str.lower()"
      ],
      "execution_count": 20,
      "outputs": [
        {
          "output_type": "error",
          "ename": "NameError",
          "evalue": "ignored",
          "traceback": [
            "\u001b[0;31m---------------------------------------------------------------------------\u001b[0m",
            "\u001b[0;31mNameError\u001b[0m                                 Traceback (most recent call last)",
            "\u001b[0;32m<ipython-input-20-96f5f67e5b2d>\u001b[0m in \u001b[0;36m<module>\u001b[0;34m()\u001b[0m\n\u001b[0;32m----> 1\u001b[0;31m \u001b[0mlm_df\u001b[0m\u001b[0;34m.\u001b[0m\u001b[0mquestions\u001b[0m \u001b[0;34m=\u001b[0m \u001b[0mlm_df\u001b[0m\u001b[0;34m.\u001b[0m\u001b[0mquestions\u001b[0m\u001b[0;34m.\u001b[0m\u001b[0mstr\u001b[0m\u001b[0;34m.\u001b[0m\u001b[0mlower\u001b[0m\u001b[0;34m(\u001b[0m\u001b[0;34m)\u001b[0m\u001b[0;34m\u001b[0m\u001b[0;34m\u001b[0m\u001b[0m\n\u001b[0m",
            "\u001b[0;31mNameError\u001b[0m: name 'lm_df' is not defined"
          ]
        }
      ]
    },
    {
      "cell_type": "code",
      "metadata": {
        "id": "OWhJFQaLodj7",
        "colab_type": "code",
        "colab": {}
      },
      "source": [
        "import re\n",
        "import warnings\n",
        "warnings.filterwarnings('ignore')\n",
        "\n",
        "changed_text=lm_df.questions.apply(lambda x:x+\"\\n\"+\"\\n\")"
      ],
      "execution_count": 0,
      "outputs": []
    },
    {
      "cell_type": "code",
      "metadata": {
        "id": "4tilt82Zoduo",
        "colab_type": "code",
        "colab": {}
      },
      "source": [
        "open(os.path.join(\"/\",'data_lm.txt'), \"w\").write(''.join(changed_text))"
      ],
      "execution_count": 0,
      "outputs": []
    },
    {
      "cell_type": "code",
      "metadata": {
        "id": "YXB4Jfnqohhz",
        "colab_type": "code",
        "colab": {}
      },
      "source": [
        "import shutil"
      ],
      "execution_count": 0,
      "outputs": []
    },
    {
      "cell_type": "code",
      "metadata": {
        "id": "cjx4IWOmosfV",
        "colab_type": "code",
        "colab": {}
      },
      "source": [
        "src = directory_path+\"data_lm.txt\" ##copying newly created data to the same finetuned folder.\n",
        "dst = os.getcwd()\n",
        "shutil.copy(src, dst)"
      ],
      "execution_count": 0,
      "outputs": []
    },
    {
      "cell_type": "code",
      "metadata": {
        "id": "XAFPYLs7ovxN",
        "colab_type": "code",
        "colab": {}
      },
      "source": [
        "os.listdir(os.getcwd())"
      ],
      "execution_count": 0,
      "outputs": []
    },
    {
      "cell_type": "code",
      "metadata": {
        "id": "KZm1VhcMozDJ",
        "colab_type": "code",
        "colab": {
          "base_uri": "https://localhost:8080/",
          "height": 33
        },
        "outputId": "1bab5765-bc14-4b80-b06c-5cd2a54603bd"
      },
      "source": [
        "from transformers import *\n",
        "!python3 '/content/drive/My Drive/Colab Notebooks/run_lm_finetuning.py' --output_dir='/content/drive/My Drive/Colab Notebooks/lm_finetunev2' --model_type=bert  --model_name_or_path=bert-base-uncased --do_train --train_data_file='/content/drive/My Drive/Colab Notebooks/data_lm.txt' --mlm"
      ],
      "execution_count": 30,
      "outputs": [
        {
          "output_type": "stream",
          "text": [
            "python3: can't open file 'run_lm_finetuning.py': [Errno 2] No such file or directory\n"
          ],
          "name": "stdout"
        }
      ]
    },
    {
      "cell_type": "code",
      "metadata": {
        "id": "jGfKb7Zy2xUO",
        "colab_type": "code",
        "colab": {}
      },
      "source": [
        "modelpath=\"/content/drive/My Drive/Colab Notebooks/lm_finetunev2\""
      ],
      "execution_count": 0,
      "outputs": []
    },
    {
      "cell_type": "code",
      "metadata": {
        "id": "HZoheTzWJBzM",
        "colab_type": "code",
        "outputId": "91c7e3af-14ab-4015-bcb9-de9cdda6adf0",
        "colab": {
          "base_uri": "https://localhost:8080/",
          "height": 33
        }
      },
      "source": [
        "from transformers import BertModel, BertTokenizer\n",
        "tokenizer = BertTokenizer.from_pretrained(modelpath, do_lower_case=True)\n",
        "\n",
        "input_ids = [tokenizer.encode(sent) for sent in questions]\n",
        "print (\"Tokenize the first sentence:\")\n"
      ],
      "execution_count": 32,
      "outputs": [
        {
          "output_type": "stream",
          "text": [
            "Tokenize the first sentence:\n"
          ],
          "name": "stdout"
        }
      ]
    },
    {
      "cell_type": "code",
      "metadata": {
        "id": "E_SN8bm2JJNE",
        "colab_type": "code",
        "outputId": "a5a4d689-e20d-40e3-8f4c-79116e6b7006",
        "colab": {
          "base_uri": "https://localhost:8080/",
          "height": 33
        }
      },
      "source": [
        "#print(tokenized_texts[0])\n",
        "##input_ids = [tokenizer.convert_tokens_to_ids(x) for x in tokenized_texts]\n",
        "#print(input_ids[0])"
      ],
      "execution_count": 0,
      "outputs": [
        {
          "output_type": "stream",
          "text": [
            "[101, 5328, 7221, 3156, 6694, 21766, 28084, 3964, 2634, 102, 2339, 2231, 9225, 21029, 3156, 21766, 28084, 2015, 6694, 21766, 28084, 2015, 9598, 3964, 2634, 102]\n"
          ],
          "name": "stdout"
        }
      ]
    },
    {
      "cell_type": "code",
      "metadata": {
        "id": "w_iCD0uEJNJd",
        "colab_type": "code",
        "outputId": "c39d5f71-81ae-4230-ffe1-bb63b8ff7f86",
        "colab": {
          "base_uri": "https://localhost:8080/",
          "height": 33
        }
      },
      "source": [
        "input_ids = pad_sequences(input_ids, maxlen=MAX_LEN, dtype=\"long\", value=0, truncating=\"post\", padding=\"post\")\n",
        "print(input_ids.shape)"
      ],
      "execution_count": 33,
      "outputs": [
        {
          "output_type": "stream",
          "text": [
            "(5000, 80)\n"
          ],
          "name": "stdout"
        }
      ]
    },
    {
      "cell_type": "code",
      "metadata": {
        "id": "TYQRss27JN3V",
        "colab_type": "code",
        "outputId": "86cfd07c-1660-4c5c-8aa3-fb266c4f03a5",
        "colab": {
          "base_uri": "https://localhost:8080/",
          "height": 167
        }
      },
      "source": [
        "# Create attention masks\n",
        "attention_masks = []\n",
        "\n",
        "# Create a mask of 1s for each token followed by 0s for padding\n",
        "for seq in input_ids:\n",
        "  att_mask = [int(token_id > 0) for token_id in seq]\n",
        "  attention_masks.append(att_mask)\n",
        "  #print(seq_mask)\n",
        "  #print(seq)\n",
        "  #break\n",
        "#print(attention_masks[0]) \n",
        "print(input_ids[0]) \n",
        "print(attention_masks[0])"
      ],
      "execution_count": 34,
      "outputs": [
        {
          "output_type": "stream",
          "text": [
            "[  101   101  2903 28625  6483  1031 19802  1033  2079  2903  7570  7352\n",
            " 16186  2015  1031 19802  1033   102     0     0     0     0     0     0\n",
            "     0     0     0     0     0     0     0     0     0     0     0     0\n",
            "     0     0     0     0     0     0     0     0     0     0     0     0\n",
            "     0     0     0     0     0     0     0     0     0     0     0     0\n",
            "     0     0     0     0     0     0     0     0     0     0     0     0\n",
            "     0     0     0     0     0     0     0     0]\n",
            "[1, 1, 1, 1, 1, 1, 1, 1, 1, 1, 1, 1, 1, 1, 1, 1, 1, 1, 0, 0, 0, 0, 0, 0, 0, 0, 0, 0, 0, 0, 0, 0, 0, 0, 0, 0, 0, 0, 0, 0, 0, 0, 0, 0, 0, 0, 0, 0, 0, 0, 0, 0, 0, 0, 0, 0, 0, 0, 0, 0, 0, 0, 0, 0, 0, 0, 0, 0, 0, 0, 0, 0, 0, 0, 0, 0, 0, 0, 0, 0]\n"
          ],
          "name": "stdout"
        }
      ]
    },
    {
      "cell_type": "code",
      "metadata": {
        "id": "-5cQZCPTJU3L",
        "colab_type": "code",
        "colab": {}
      },
      "source": [
        "# Use train_test_split to split our data into train and validation sets for training\n",
        "from sklearn.model_selection import train_test_split\n",
        "train_inputs, validation_inputs, train_labels, validation_labels = train_test_split(input_ids, labels, \n",
        "                                                            random_state=2018, test_size=0.1)\n",
        "train_masks, validation_masks, _, _ = train_test_split(attention_masks, input_ids,\n",
        "                                             random_state=2018, test_size=0.1)"
      ],
      "execution_count": 0,
      "outputs": []
    },
    {
      "cell_type": "code",
      "metadata": {
        "id": "jvJbL9J-JXUu",
        "colab_type": "code",
        "colab": {}
      },
      "source": [
        "# Convert all of our data into torch tensors, the required datatype for our model\n",
        "train_inputs = torch.tensor(train_inputs)\n",
        "validation_inputs = torch.tensor(validation_inputs)\n",
        "train_labels = torch.tensor(train_labels)\n",
        "validation_labels = torch.tensor(validation_labels)\n",
        "train_masks = torch.tensor(train_masks)\n",
        "validation_masks = torch.tensor(validation_masks)\n"
      ],
      "execution_count": 0,
      "outputs": []
    },
    {
      "cell_type": "code",
      "metadata": {
        "id": "B5zCHaD4JZf5",
        "colab_type": "code",
        "colab": {}
      },
      "source": [
        "# Select a batch size for training. For fine-tuning BERT on a specific task, the authors recommend a batch size of 16 or 32\n",
        "batch_size = 16\n",
        "\n",
        "# Create an iterator of our data with torch DataLoader. This helps save on memory during training because, unlike a for loop, \n",
        "# with an iterator the entire dataset does not need to be loaded into memory\n",
        "\n",
        "train_data = TensorDataset(train_inputs, train_masks, train_labels)\n",
        "train_sampler = RandomSampler(train_data)\n",
        "train_dataloader = DataLoader(train_data, sampler=train_sampler, batch_size=batch_size)\n",
        "\n",
        "validation_data = TensorDataset(validation_inputs, validation_masks, validation_labels)\n",
        "validation_sampler = SequentialSampler(validation_data)\n",
        "validation_dataloader = DataLoader(validation_data, sampler=validation_sampler, batch_size=batch_size)"
      ],
      "execution_count": 0,
      "outputs": []
    },
    {
      "cell_type": "code",
      "metadata": {
        "id": "LebX2rBxJb_M",
        "colab_type": "code",
        "outputId": "03879454-1839-4b16-ea48-b871e04f4954",
        "colab": {
          "base_uri": "https://localhost:8080/",
          "height": 1000
        }
      },
      "source": [
        "from transformers import BertForSequenceClassification, AdamW, BertConfig\n",
        "\n",
        "# Load BertForSequenceClassification, the pretrained BERT model with a single \n",
        "# linear classification layer on top. \n",
        "model = BertForSequenceClassification.from_pretrained(modelpath, num_labels=2)\n",
        "\n",
        "# Tell pytorch to run this model on the GPU.\n",
        "model.cuda()"
      ],
      "execution_count": 38,
      "outputs": [
        {
          "output_type": "execute_result",
          "data": {
            "text/plain": [
              "BertForSequenceClassification(\n",
              "  (bert): BertModel(\n",
              "    (embeddings): BertEmbeddings(\n",
              "      (word_embeddings): Embedding(30522, 768, padding_idx=0)\n",
              "      (position_embeddings): Embedding(512, 768)\n",
              "      (token_type_embeddings): Embedding(2, 768)\n",
              "      (LayerNorm): LayerNorm((768,), eps=1e-12, elementwise_affine=True)\n",
              "      (dropout): Dropout(p=0.1, inplace=False)\n",
              "    )\n",
              "    (encoder): BertEncoder(\n",
              "      (layer): ModuleList(\n",
              "        (0): BertLayer(\n",
              "          (attention): BertAttention(\n",
              "            (self): BertSelfAttention(\n",
              "              (query): Linear(in_features=768, out_features=768, bias=True)\n",
              "              (key): Linear(in_features=768, out_features=768, bias=True)\n",
              "              (value): Linear(in_features=768, out_features=768, bias=True)\n",
              "              (dropout): Dropout(p=0.1, inplace=False)\n",
              "            )\n",
              "            (output): BertSelfOutput(\n",
              "              (dense): Linear(in_features=768, out_features=768, bias=True)\n",
              "              (LayerNorm): LayerNorm((768,), eps=1e-12, elementwise_affine=True)\n",
              "              (dropout): Dropout(p=0.1, inplace=False)\n",
              "            )\n",
              "          )\n",
              "          (intermediate): BertIntermediate(\n",
              "            (dense): Linear(in_features=768, out_features=3072, bias=True)\n",
              "          )\n",
              "          (output): BertOutput(\n",
              "            (dense): Linear(in_features=3072, out_features=768, bias=True)\n",
              "            (LayerNorm): LayerNorm((768,), eps=1e-12, elementwise_affine=True)\n",
              "            (dropout): Dropout(p=0.1, inplace=False)\n",
              "          )\n",
              "        )\n",
              "        (1): BertLayer(\n",
              "          (attention): BertAttention(\n",
              "            (self): BertSelfAttention(\n",
              "              (query): Linear(in_features=768, out_features=768, bias=True)\n",
              "              (key): Linear(in_features=768, out_features=768, bias=True)\n",
              "              (value): Linear(in_features=768, out_features=768, bias=True)\n",
              "              (dropout): Dropout(p=0.1, inplace=False)\n",
              "            )\n",
              "            (output): BertSelfOutput(\n",
              "              (dense): Linear(in_features=768, out_features=768, bias=True)\n",
              "              (LayerNorm): LayerNorm((768,), eps=1e-12, elementwise_affine=True)\n",
              "              (dropout): Dropout(p=0.1, inplace=False)\n",
              "            )\n",
              "          )\n",
              "          (intermediate): BertIntermediate(\n",
              "            (dense): Linear(in_features=768, out_features=3072, bias=True)\n",
              "          )\n",
              "          (output): BertOutput(\n",
              "            (dense): Linear(in_features=3072, out_features=768, bias=True)\n",
              "            (LayerNorm): LayerNorm((768,), eps=1e-12, elementwise_affine=True)\n",
              "            (dropout): Dropout(p=0.1, inplace=False)\n",
              "          )\n",
              "        )\n",
              "        (2): BertLayer(\n",
              "          (attention): BertAttention(\n",
              "            (self): BertSelfAttention(\n",
              "              (query): Linear(in_features=768, out_features=768, bias=True)\n",
              "              (key): Linear(in_features=768, out_features=768, bias=True)\n",
              "              (value): Linear(in_features=768, out_features=768, bias=True)\n",
              "              (dropout): Dropout(p=0.1, inplace=False)\n",
              "            )\n",
              "            (output): BertSelfOutput(\n",
              "              (dense): Linear(in_features=768, out_features=768, bias=True)\n",
              "              (LayerNorm): LayerNorm((768,), eps=1e-12, elementwise_affine=True)\n",
              "              (dropout): Dropout(p=0.1, inplace=False)\n",
              "            )\n",
              "          )\n",
              "          (intermediate): BertIntermediate(\n",
              "            (dense): Linear(in_features=768, out_features=3072, bias=True)\n",
              "          )\n",
              "          (output): BertOutput(\n",
              "            (dense): Linear(in_features=3072, out_features=768, bias=True)\n",
              "            (LayerNorm): LayerNorm((768,), eps=1e-12, elementwise_affine=True)\n",
              "            (dropout): Dropout(p=0.1, inplace=False)\n",
              "          )\n",
              "        )\n",
              "        (3): BertLayer(\n",
              "          (attention): BertAttention(\n",
              "            (self): BertSelfAttention(\n",
              "              (query): Linear(in_features=768, out_features=768, bias=True)\n",
              "              (key): Linear(in_features=768, out_features=768, bias=True)\n",
              "              (value): Linear(in_features=768, out_features=768, bias=True)\n",
              "              (dropout): Dropout(p=0.1, inplace=False)\n",
              "            )\n",
              "            (output): BertSelfOutput(\n",
              "              (dense): Linear(in_features=768, out_features=768, bias=True)\n",
              "              (LayerNorm): LayerNorm((768,), eps=1e-12, elementwise_affine=True)\n",
              "              (dropout): Dropout(p=0.1, inplace=False)\n",
              "            )\n",
              "          )\n",
              "          (intermediate): BertIntermediate(\n",
              "            (dense): Linear(in_features=768, out_features=3072, bias=True)\n",
              "          )\n",
              "          (output): BertOutput(\n",
              "            (dense): Linear(in_features=3072, out_features=768, bias=True)\n",
              "            (LayerNorm): LayerNorm((768,), eps=1e-12, elementwise_affine=True)\n",
              "            (dropout): Dropout(p=0.1, inplace=False)\n",
              "          )\n",
              "        )\n",
              "        (4): BertLayer(\n",
              "          (attention): BertAttention(\n",
              "            (self): BertSelfAttention(\n",
              "              (query): Linear(in_features=768, out_features=768, bias=True)\n",
              "              (key): Linear(in_features=768, out_features=768, bias=True)\n",
              "              (value): Linear(in_features=768, out_features=768, bias=True)\n",
              "              (dropout): Dropout(p=0.1, inplace=False)\n",
              "            )\n",
              "            (output): BertSelfOutput(\n",
              "              (dense): Linear(in_features=768, out_features=768, bias=True)\n",
              "              (LayerNorm): LayerNorm((768,), eps=1e-12, elementwise_affine=True)\n",
              "              (dropout): Dropout(p=0.1, inplace=False)\n",
              "            )\n",
              "          )\n",
              "          (intermediate): BertIntermediate(\n",
              "            (dense): Linear(in_features=768, out_features=3072, bias=True)\n",
              "          )\n",
              "          (output): BertOutput(\n",
              "            (dense): Linear(in_features=3072, out_features=768, bias=True)\n",
              "            (LayerNorm): LayerNorm((768,), eps=1e-12, elementwise_affine=True)\n",
              "            (dropout): Dropout(p=0.1, inplace=False)\n",
              "          )\n",
              "        )\n",
              "        (5): BertLayer(\n",
              "          (attention): BertAttention(\n",
              "            (self): BertSelfAttention(\n",
              "              (query): Linear(in_features=768, out_features=768, bias=True)\n",
              "              (key): Linear(in_features=768, out_features=768, bias=True)\n",
              "              (value): Linear(in_features=768, out_features=768, bias=True)\n",
              "              (dropout): Dropout(p=0.1, inplace=False)\n",
              "            )\n",
              "            (output): BertSelfOutput(\n",
              "              (dense): Linear(in_features=768, out_features=768, bias=True)\n",
              "              (LayerNorm): LayerNorm((768,), eps=1e-12, elementwise_affine=True)\n",
              "              (dropout): Dropout(p=0.1, inplace=False)\n",
              "            )\n",
              "          )\n",
              "          (intermediate): BertIntermediate(\n",
              "            (dense): Linear(in_features=768, out_features=3072, bias=True)\n",
              "          )\n",
              "          (output): BertOutput(\n",
              "            (dense): Linear(in_features=3072, out_features=768, bias=True)\n",
              "            (LayerNorm): LayerNorm((768,), eps=1e-12, elementwise_affine=True)\n",
              "            (dropout): Dropout(p=0.1, inplace=False)\n",
              "          )\n",
              "        )\n",
              "        (6): BertLayer(\n",
              "          (attention): BertAttention(\n",
              "            (self): BertSelfAttention(\n",
              "              (query): Linear(in_features=768, out_features=768, bias=True)\n",
              "              (key): Linear(in_features=768, out_features=768, bias=True)\n",
              "              (value): Linear(in_features=768, out_features=768, bias=True)\n",
              "              (dropout): Dropout(p=0.1, inplace=False)\n",
              "            )\n",
              "            (output): BertSelfOutput(\n",
              "              (dense): Linear(in_features=768, out_features=768, bias=True)\n",
              "              (LayerNorm): LayerNorm((768,), eps=1e-12, elementwise_affine=True)\n",
              "              (dropout): Dropout(p=0.1, inplace=False)\n",
              "            )\n",
              "          )\n",
              "          (intermediate): BertIntermediate(\n",
              "            (dense): Linear(in_features=768, out_features=3072, bias=True)\n",
              "          )\n",
              "          (output): BertOutput(\n",
              "            (dense): Linear(in_features=3072, out_features=768, bias=True)\n",
              "            (LayerNorm): LayerNorm((768,), eps=1e-12, elementwise_affine=True)\n",
              "            (dropout): Dropout(p=0.1, inplace=False)\n",
              "          )\n",
              "        )\n",
              "        (7): BertLayer(\n",
              "          (attention): BertAttention(\n",
              "            (self): BertSelfAttention(\n",
              "              (query): Linear(in_features=768, out_features=768, bias=True)\n",
              "              (key): Linear(in_features=768, out_features=768, bias=True)\n",
              "              (value): Linear(in_features=768, out_features=768, bias=True)\n",
              "              (dropout): Dropout(p=0.1, inplace=False)\n",
              "            )\n",
              "            (output): BertSelfOutput(\n",
              "              (dense): Linear(in_features=768, out_features=768, bias=True)\n",
              "              (LayerNorm): LayerNorm((768,), eps=1e-12, elementwise_affine=True)\n",
              "              (dropout): Dropout(p=0.1, inplace=False)\n",
              "            )\n",
              "          )\n",
              "          (intermediate): BertIntermediate(\n",
              "            (dense): Linear(in_features=768, out_features=3072, bias=True)\n",
              "          )\n",
              "          (output): BertOutput(\n",
              "            (dense): Linear(in_features=3072, out_features=768, bias=True)\n",
              "            (LayerNorm): LayerNorm((768,), eps=1e-12, elementwise_affine=True)\n",
              "            (dropout): Dropout(p=0.1, inplace=False)\n",
              "          )\n",
              "        )\n",
              "        (8): BertLayer(\n",
              "          (attention): BertAttention(\n",
              "            (self): BertSelfAttention(\n",
              "              (query): Linear(in_features=768, out_features=768, bias=True)\n",
              "              (key): Linear(in_features=768, out_features=768, bias=True)\n",
              "              (value): Linear(in_features=768, out_features=768, bias=True)\n",
              "              (dropout): Dropout(p=0.1, inplace=False)\n",
              "            )\n",
              "            (output): BertSelfOutput(\n",
              "              (dense): Linear(in_features=768, out_features=768, bias=True)\n",
              "              (LayerNorm): LayerNorm((768,), eps=1e-12, elementwise_affine=True)\n",
              "              (dropout): Dropout(p=0.1, inplace=False)\n",
              "            )\n",
              "          )\n",
              "          (intermediate): BertIntermediate(\n",
              "            (dense): Linear(in_features=768, out_features=3072, bias=True)\n",
              "          )\n",
              "          (output): BertOutput(\n",
              "            (dense): Linear(in_features=3072, out_features=768, bias=True)\n",
              "            (LayerNorm): LayerNorm((768,), eps=1e-12, elementwise_affine=True)\n",
              "            (dropout): Dropout(p=0.1, inplace=False)\n",
              "          )\n",
              "        )\n",
              "        (9): BertLayer(\n",
              "          (attention): BertAttention(\n",
              "            (self): BertSelfAttention(\n",
              "              (query): Linear(in_features=768, out_features=768, bias=True)\n",
              "              (key): Linear(in_features=768, out_features=768, bias=True)\n",
              "              (value): Linear(in_features=768, out_features=768, bias=True)\n",
              "              (dropout): Dropout(p=0.1, inplace=False)\n",
              "            )\n",
              "            (output): BertSelfOutput(\n",
              "              (dense): Linear(in_features=768, out_features=768, bias=True)\n",
              "              (LayerNorm): LayerNorm((768,), eps=1e-12, elementwise_affine=True)\n",
              "              (dropout): Dropout(p=0.1, inplace=False)\n",
              "            )\n",
              "          )\n",
              "          (intermediate): BertIntermediate(\n",
              "            (dense): Linear(in_features=768, out_features=3072, bias=True)\n",
              "          )\n",
              "          (output): BertOutput(\n",
              "            (dense): Linear(in_features=3072, out_features=768, bias=True)\n",
              "            (LayerNorm): LayerNorm((768,), eps=1e-12, elementwise_affine=True)\n",
              "            (dropout): Dropout(p=0.1, inplace=False)\n",
              "          )\n",
              "        )\n",
              "        (10): BertLayer(\n",
              "          (attention): BertAttention(\n",
              "            (self): BertSelfAttention(\n",
              "              (query): Linear(in_features=768, out_features=768, bias=True)\n",
              "              (key): Linear(in_features=768, out_features=768, bias=True)\n",
              "              (value): Linear(in_features=768, out_features=768, bias=True)\n",
              "              (dropout): Dropout(p=0.1, inplace=False)\n",
              "            )\n",
              "            (output): BertSelfOutput(\n",
              "              (dense): Linear(in_features=768, out_features=768, bias=True)\n",
              "              (LayerNorm): LayerNorm((768,), eps=1e-12, elementwise_affine=True)\n",
              "              (dropout): Dropout(p=0.1, inplace=False)\n",
              "            )\n",
              "          )\n",
              "          (intermediate): BertIntermediate(\n",
              "            (dense): Linear(in_features=768, out_features=3072, bias=True)\n",
              "          )\n",
              "          (output): BertOutput(\n",
              "            (dense): Linear(in_features=3072, out_features=768, bias=True)\n",
              "            (LayerNorm): LayerNorm((768,), eps=1e-12, elementwise_affine=True)\n",
              "            (dropout): Dropout(p=0.1, inplace=False)\n",
              "          )\n",
              "        )\n",
              "        (11): BertLayer(\n",
              "          (attention): BertAttention(\n",
              "            (self): BertSelfAttention(\n",
              "              (query): Linear(in_features=768, out_features=768, bias=True)\n",
              "              (key): Linear(in_features=768, out_features=768, bias=True)\n",
              "              (value): Linear(in_features=768, out_features=768, bias=True)\n",
              "              (dropout): Dropout(p=0.1, inplace=False)\n",
              "            )\n",
              "            (output): BertSelfOutput(\n",
              "              (dense): Linear(in_features=768, out_features=768, bias=True)\n",
              "              (LayerNorm): LayerNorm((768,), eps=1e-12, elementwise_affine=True)\n",
              "              (dropout): Dropout(p=0.1, inplace=False)\n",
              "            )\n",
              "          )\n",
              "          (intermediate): BertIntermediate(\n",
              "            (dense): Linear(in_features=768, out_features=3072, bias=True)\n",
              "          )\n",
              "          (output): BertOutput(\n",
              "            (dense): Linear(in_features=3072, out_features=768, bias=True)\n",
              "            (LayerNorm): LayerNorm((768,), eps=1e-12, elementwise_affine=True)\n",
              "            (dropout): Dropout(p=0.1, inplace=False)\n",
              "          )\n",
              "        )\n",
              "      )\n",
              "    )\n",
              "    (pooler): BertPooler(\n",
              "      (dense): Linear(in_features=768, out_features=768, bias=True)\n",
              "      (activation): Tanh()\n",
              "    )\n",
              "  )\n",
              "  (dropout): Dropout(p=0.1, inplace=False)\n",
              "  (classifier): Linear(in_features=768, out_features=2, bias=True)\n",
              ")"
            ]
          },
          "metadata": {
            "tags": []
          },
          "execution_count": 38
        }
      ]
    },
    {
      "cell_type": "code",
      "metadata": {
        "id": "JwHh8sIKJhl6",
        "colab_type": "code",
        "colab": {}
      },
      "source": [
        "# Note: AdamW is a class from the huggingface library (as opposed to pytorch) \n",
        "# I believe the 'W' stands for 'Weight Decay fix\"\n",
        "optimizer = AdamW(model.parameters(),\n",
        "                  lr = 2e-5, # args.learning_rate - default is 5e-5, our notebook had 2e-5\n",
        "                  eps = 1e-8 # args.adam_epsilon  - default is 1e-8.\n",
        "                )\n"
      ],
      "execution_count": 0,
      "outputs": []
    },
    {
      "cell_type": "code",
      "metadata": {
        "id": "Yfw-eSYdOGCl",
        "colab_type": "code",
        "colab": {}
      },
      "source": [
        "def unfreeze_bert_encoder():\n",
        "  for param in model.parameters():\n",
        "    param.requires_grad = True"
      ],
      "execution_count": 0,
      "outputs": []
    },
    {
      "cell_type": "code",
      "metadata": {
        "id": "048N-B0AJj9f",
        "colab_type": "code",
        "colab": {}
      },
      "source": [
        "from transformers import get_linear_schedule_with_warmup\n",
        "\n",
        "# Number of training epochs (authors recommend between 2 and 4)\n",
        "epochs = 4\n",
        "\n",
        "# Total number of training steps is number of batches * number of epochs.\n",
        "total_steps = len(train_dataloader) * epochs\n",
        "\n",
        "# Create the learning rate scheduler.\n",
        "scheduler = get_linear_schedule_with_warmup(optimizer, \n",
        "                                            num_warmup_steps = 0, # Default value in run_glue.py\n",
        "                                            num_training_steps = total_steps)"
      ],
      "execution_count": 0,
      "outputs": []
    },
    {
      "cell_type": "code",
      "metadata": {
        "id": "q6ppI-kTJmIB",
        "colab_type": "code",
        "colab": {}
      },
      "source": [
        "from sklearn.metrics import accuracy_score\n",
        "from sklearn.metrics import recall_score\n",
        "from sklearn.metrics import precision_score\n",
        "import tensorflow as tf\n",
        "# Function to calculate the accuracy of our predictions vs labels\n",
        "def flat_accuracy(preds, labels):\n",
        "    pred_flat = np.argmax(preds, axis=1).flatten()\n",
        "    print(labels)\n",
        "    print(pred_flat)\n",
        "    labels_flat = labels.flatten()\n",
        "    \n",
        "    return accuracy_score(labels_flat, pred_flat)#tf.metrics.accuracy(labels=tf.argmax(labels_flat, 1),predictions=pred_flat)#accuracy_score(labels_flat, pred_flat)\n",
        "def flat_precision(preds, labels):\n",
        "    pred_flat = np.argmax(preds, axis=1).flatten()\n",
        "    labels_flat = labels.flatten()\n",
        "    p=precision_score(labels_flat, pred_flat)\n",
        "    \n",
        "    return p\n",
        "\n",
        "\n",
        "def flat_recall(preds, labels):\n",
        "    pred_flat = np.argmax(preds, axis=1).flatten()\n",
        "    labels_flat = labels.flatten()\n",
        "    print(labels_flat)\n",
        "    print(pred_flat)\n",
        "    r=recall_score(labels_flat, pred_flat)\n",
        "    \n",
        "    return r        "
      ],
      "execution_count": 0,
      "outputs": []
    },
    {
      "cell_type": "code",
      "metadata": {
        "id": "Rv78pkRItqC3",
        "colab_type": "code",
        "colab": {}
      },
      "source": [
        "import matplotlib.pyplot as plt\n",
        "#train_epochs=list()\n",
        "train_loss=list()\n",
        "#train_accuracy=list()"
      ],
      "execution_count": 0,
      "outputs": []
    },
    {
      "cell_type": "code",
      "metadata": {
        "id": "uqxBN1wIGVCc",
        "colab_type": "code",
        "colab": {}
      },
      "source": [
        "import time\n",
        "import datetime\n",
        "\n",
        "def format_time(elapsed):\n",
        "    '''\n",
        "    Takes a time in seconds and returns a string hh:mm:ss\n",
        "    '''\n",
        "    # Round to the nearest second.\n",
        "    elapsed_rounded = int(round((elapsed)))\n",
        "    \n",
        "    # Format as hh:mm:ss\n",
        "    return str(datetime.timedelta(seconds=elapsed_rounded))\n"
      ],
      "execution_count": 0,
      "outputs": []
    },
    {
      "cell_type": "code",
      "metadata": {
        "id": "YcVSZ9gTJoWK",
        "colab_type": "code",
        "outputId": "91e8f4a7-e2cf-4234-f8f7-3570835ef91d",
        "colab": {
          "base_uri": "https://localhost:8080/",
          "height": 1000
        }
      },
      "source": [
        "import random\n",
        "\n",
        "# Set the seed value all over the place to make this reproducible.\n",
        "seed_val = 42\n",
        "\n",
        "random.seed(seed_val)\n",
        "np.random.seed(seed_val)\n",
        "torch.manual_seed(seed_val)\n",
        "torch.cuda.manual_seed_all(seed_val)\n",
        "\n",
        "# Store the average loss after each epoch so we can plot them.\n",
        "loss_values = []\n",
        "\n",
        "model.zero_grad()\n",
        "unfreeze_bert_encoder()\n",
        "# For each epoch...\n",
        "for epoch_i in range(0, epochs):\n",
        "    \n",
        "    # ========================================\n",
        "    #               Training\n",
        "    # ========================================\n",
        "    \n",
        "    # Perform one full pass over the training set.\n",
        "\n",
        "    print(\"\")\n",
        "    print('======== Epoch {:} / {:} ========'.format(epoch_i + 1, epochs))\n",
        "    print('Training...')\n",
        "\n",
        "    # Measure how long the training epoch takes.\n",
        "    t0 = time.time()\n",
        "\n",
        "    # Reset the total loss for this epoch.\n",
        "    total_loss = 0\n",
        "\n",
        "    # Set our model to training mode (as opposed to evaluation mode)\n",
        "    model.train()\n",
        "        \n",
        "    # This training code is based on the `run_glue.py` script here:\n",
        "    # https://github.com/huggingface/transformers/blob/5bfcd0485ece086ebcbed2d008813037968a9e58/examples/run_glue.py#L128\n",
        "\n",
        "    # For each batch of training data...\n",
        "    for step, batch in enumerate(train_dataloader):\n",
        "\n",
        "        # Progress update every 40 batches.\n",
        "        if step % 40 == 0 and not step == 0:\n",
        "            # Calculate elapsed time in minutes.\n",
        "            elapsed = format_time(time.time() - t0)\n",
        "            \n",
        "            # Report progress.\n",
        "            print('  Batch {:>5,}  of  {:>5,}.    Elapsed: {:}.'.format(step, len(train_dataloader), elapsed))\n",
        "\n",
        "        # Put the model into training mode.    \n",
        "        model.train()\n",
        "\n",
        "        # Unpack this training batch from our dataloader. \n",
        "        #\n",
        "        # As we unpack the batch, we'll also copy each tensor to the GPU using the \n",
        "        # `to` method.\n",
        "        #\n",
        "        # `batch` contains three pytorch tensors:\n",
        "        #   [0]: input ids \n",
        "        #   [1]: attention masks\n",
        "        #   [2]: labels \n",
        "        b_input_ids = batch[0].to(device)\n",
        "        b_input_mask = batch[1].to(device)\n",
        "        b_labels = batch[2].to(device)\n",
        "                \n",
        "        # Forward pass (evaluate the model on this training batch)\n",
        "        # `model` is of type: pytorch_pretrained_bert.modeling.BertForSequenceClassification\n",
        "        outputs = model(b_input_ids, \n",
        "                    token_type_ids=None, \n",
        "                    attention_mask=b_input_mask, \n",
        "                    labels=b_labels)\n",
        "        \n",
        "        loss = outputs[0]\n",
        "\n",
        "        # Accumulate the loss. `loss` is a Tensor containing a single value; \n",
        "        # the `.item()` function just returns the Python value from the tensor.\n",
        "        total_loss += loss.item()\n",
        "\n",
        "        # Perform a backward pass to calculate the gradients.\n",
        "        loss.backward()\n",
        "\n",
        "        # Clip the norm of the gradients to 1.0.\n",
        "        torch.nn.utils.clip_grad_norm_(model.parameters(), 1.0)\n",
        "\n",
        "        # Update parameters and take a step using the computed gradient\n",
        "        optimizer.step()\n",
        "\n",
        "        # Update the learning rate.\n",
        "        scheduler.step()\n",
        "\n",
        "        # Clear out the gradients (by default they accumulate)\n",
        "        model.zero_grad()\n",
        "\n",
        "    # Calculate the average loss over the training data.\n",
        "    avg_train_loss = total_loss / len(train_dataloader)            \n",
        "    \n",
        "    loss_values.append(avg_train_loss)\n",
        "\n",
        "    print(\"\")\n",
        "    print(\"  Average training loss: {0:.2f}\".format(avg_train_loss))\n",
        "    print(\"  Training epcoh took: {:}\".format(format_time(time.time() - t0)))\n",
        "        \n",
        "    # ========================================\n",
        "    #               Validation\n",
        "    # ========================================\n",
        "    # After the completion of each training epoch, measure our performance on\n",
        "    # our validation set.\n",
        "\n",
        "    print(\"\")\n",
        "    print(\"Running Validation...\")\n",
        "\n",
        "    t0 = time.time()\n",
        "\n",
        "    # Put model in evaluation mode to evaluate loss on the validation set\n",
        "    model.eval()\n",
        "\n",
        "    # Tracking variables \n",
        "    eval_loss, eval_accuracy = 0, 0\n",
        "    nb_eval_steps, nb_eval_examples = 0, 0\n",
        "\n",
        "    # Evaluate data for one epoch\n",
        "    for batch in validation_dataloader:\n",
        "        \n",
        "        # Add batch to GPU\n",
        "        batch = tuple(t.to(device) for t in batch)\n",
        "        \n",
        "        # Unpack the inputs from our dataloader\n",
        "        b_input_ids, b_input_mask, b_labels = batch\n",
        "        \n",
        "        # Telling the model not to compute or store gradients, saving memory and speeding up validation\n",
        "        with torch.no_grad():        \n",
        "            # Forward pass, calculate logit predictions\n",
        "            # token_type_ids is for the segment ids, but we only have a single sentence here.\n",
        "            # See https://github.com/huggingface/transformers/blob/5bfcd0485ece086ebcbed2d008813037968a9e58/examples/run_glue.py#L258 \n",
        "            outputs = model(b_input_ids, token_type_ids=None, attention_mask=b_input_mask)\n",
        "        \n",
        "        logits = outputs[0]\n",
        "\n",
        "        # Move logits and labels to CPU\n",
        "        logits = logits.detach().cpu().numpy()\n",
        "        label_ids = b_labels.to('cpu').numpy()\n",
        "        \n",
        "        # Calculate the accuracy for this batch of test sentences.\n",
        "        tmp_eval_accuracy = flat_accuracy(logits, label_ids)\n",
        "        \n",
        "        # Accumulate the total accuracy.\n",
        "        eval_accuracy += tmp_eval_accuracy\n",
        "\n",
        "        # Track the number of batches\n",
        "        nb_eval_steps += 1\n",
        "\n",
        "    # Report the final accuracy for this validation run.\n",
        "    print(\"  Accuracy: {0:.2f}\".format(eval_accuracy/nb_eval_steps))\n",
        "    print(\"  Validation took: {:}\".format(format_time(time.time() - t0)))\n",
        "\n",
        "print(\"\")\n",
        "print(\"Training complete!\")  "
      ],
      "execution_count": 51,
      "outputs": [
        {
          "output_type": "stream",
          "text": [
            "\n",
            "======== Epoch 1 / 4 ========\n",
            "Training...\n",
            "  Batch    40  of    282.    Elapsed: 0:00:08.\n",
            "  Batch    80  of    282.    Elapsed: 0:00:15.\n",
            "  Batch   120  of    282.    Elapsed: 0:00:23.\n",
            "  Batch   160  of    282.    Elapsed: 0:00:30.\n",
            "  Batch   200  of    282.    Elapsed: 0:00:38.\n",
            "  Batch   240  of    282.    Elapsed: 0:00:45.\n",
            "  Batch   280  of    282.    Elapsed: 0:00:53.\n",
            "\n",
            "  Average training loss: 0.53\n",
            "  Training epcoh took: 0:00:53\n",
            "\n",
            "Running Validation...\n",
            "[1 1 1 0 0 1 0 1 0 0 1 0 0 1 1 1]\n",
            "[1 1 1 0 0 1 0 1 0 0 1 0 1 1 1 0]\n",
            "[1 0 1 0 0 1 0 1 0 0 1 1 1 1 1 1]\n",
            "[1 0 1 0 0 1 1 1 0 0 1 1 1 1 1 1]\n",
            "[0 0 1 0 0 0 1 1 1 0 0 0 0 0 1 0]\n",
            "[1 1 1 0 0 0 1 1 0 1 1 0 0 0 1 1]\n",
            "[1 1 1 0 1 1 1 1 0 0 1 1 0 0 0 1]\n",
            "[1 1 0 0 1 1 1 1 0 1 1 1 1 0 0 1]\n",
            "[1 0 0 1 0 0 0 1 0 0 1 1 0 1 1 0]\n",
            "[1 1 1 1 0 0 0 1 1 0 1 1 0 1 0 0]\n",
            "[0 0 1 1 1 1 1 1 0 0 0 0 1 0 1 0]\n",
            "[1 0 1 1 0 1 0 1 0 0 0 1 0 0 1 0]\n",
            "[0 1 0 1 1 0 1 1 1 0 1 0 1 0 0 1]\n",
            "[0 1 0 1 1 0 1 1 1 0 1 1 1 1 0 1]\n",
            "[1 1 0 0 1 0 1 1 1 0 0 1 0 0 0 1]\n",
            "[1 1 0 0 1 0 1 1 1 1 0 1 0 0 1 0]\n",
            "[0 0 1 0 1 0 1 0 1 1 0 0 0 1 1 1]\n",
            "[0 0 1 1 1 1 1 0 1 1 0 0 0 1 1 1]\n",
            "[0 1 0 1 1 1 0 0 1 1 1 0 1 1 0 0]\n",
            "[0 1 0 1 1 0 0 0 1 1 1 1 1 0 0 1]\n",
            "[1 1 0 0 0 1 0 0 0 1 1 0 1 1 0 1]\n",
            "[1 1 0 0 1 1 1 1 0 1 0 1 0 1 0 1]\n",
            "[1 0 0 1 1 1 0 1 1 1 0 0 1 1 0 0]\n",
            "[1 0 0 1 1 1 1 1 1 1 1 1 1 1 0 1]\n",
            "[0 0 1 1 1 1 0 1 1 0 1 1 1 1 1 1]\n",
            "[0 0 1 1 1 0 1 1 1 0 1 1 1 1 0 1]\n",
            "[1 0 1 0 1 1 1 1 1 1 0 0 1 1 0 1]\n",
            "[1 0 1 0 1 1 1 1 1 1 1 0 1 1 0 1]\n",
            "[1 0 1 0 0 1 0 1 0 0 0 1 1 0 0 0]\n",
            "[1 0 0 0 0 1 0 1 0 0 0 1 1 0 0 0]\n",
            "[1 1 0 0 1 0 0 0 1 0 1 1 0 0 1 1]\n",
            "[1 1 1 0 1 0 1 0 1 1 1 1 0 0 1 1]\n",
            "[0 0 0 1 0 1 0 1 1 0 0 0 1 0 1 1]\n",
            "[0 0 0 0 0 1 1 0 1 0 0 1 1 1 1 0]\n",
            "[0 1 1 0 1 0 1 1 0 1 0 0 0 0 0 0]\n",
            "[0 1 1 0 1 0 1 1 0 1 0 0 0 0 0 0]\n",
            "[1 0 0 0 0 1 0 0 1 0 0 0 0 0 0 1]\n",
            "[1 0 0 0 0 1 0 0 1 0 1 0 0 1 0 0]\n",
            "[1 1 0 0 1 1 1 0 0 1 0 1 1 1 1 0]\n",
            "[0 1 0 0 1 1 0 0 0 1 0 1 1 1 1 1]\n",
            "[0 1 0 0 1 1 1 0 1 1 0 1 1 1 0 0]\n",
            "[0 1 0 0 1 0 1 0 0 0 0 0 0 1 0 0]\n",
            "[1 0 0 1 1 0 1 0 0 1 0 0 0 1 1 1]\n",
            "[1 0 0 1 1 0 1 0 1 1 0 0 0 1 1 1]\n",
            "[1 0 1 0 0 0 0 1 1 0 0 1 0 0 1 1]\n",
            "[1 0 1 0 0 1 1 1 1 0 0 1 0 0 1 1]\n",
            "[0 0 0 1 1 1 0 0 1 0 0 0 1 1 0 1]\n",
            "[0 0 0 1 1 1 1 1 0 0 1 0 1 1 0 1]\n",
            "[0 0 0 1 1 0 0 0 1 0 1 0 0 0 0 1]\n",
            "[1 0 0 1 0 1 0 0 0 1 1 1 1 1 0 1]\n",
            "[1 1 0 0 1 1 1 1 1 1 1 1 1 1 0 1]\n",
            "[1 1 1 1 1 1 1 1 1 1 1 1 0 0 1 1]\n",
            "[0 1 1 1 0 1 0 0 1 1 1 1 0 1 1 1]\n",
            "[0 1 1 0 0 1 1 0 1 1 1 1 0 1 1 0]\n",
            "[1 1 0 1 0 0 1 0 1 1 1 1 0 1 0 0]\n",
            "[1 1 0 1 0 0 1 0 1 0 1 1 1 1 0 0]\n",
            "[1 0 1 1 0 0 1 0 0 0 0 0 0 1 0 0]\n",
            "[1 0 1 1 0 1 1 1 0 0 0 1 1 1 0 1]\n",
            "[0 1 0 0 1 0 1 1 1 1 0 1 0 0 1 0]\n",
            "[1 0 1 0 0 0 1 1 0 1 0 1 0 1 1 0]\n",
            "[1 0 1 1 0 1 0 1 1 1 0 1 1 1 0 1]\n",
            "[1 1 1 0 0 1 0 1 0 1 0 1 1 1 0 1]\n",
            "[0 0 0 1]\n",
            "[0 0 0 1]\n",
            "  Accuracy: 0.79\n",
            "  Validation took: 0:00:01\n",
            "\n",
            "======== Epoch 2 / 4 ========\n",
            "Training...\n",
            "  Batch    40  of    282.    Elapsed: 0:00:08.\n",
            "  Batch    80  of    282.    Elapsed: 0:00:15.\n",
            "  Batch   120  of    282.    Elapsed: 0:00:23.\n",
            "  Batch   160  of    282.    Elapsed: 0:00:30.\n",
            "  Batch   200  of    282.    Elapsed: 0:00:38.\n",
            "  Batch   240  of    282.    Elapsed: 0:00:45.\n",
            "  Batch   280  of    282.    Elapsed: 0:00:53.\n",
            "\n",
            "  Average training loss: 0.36\n",
            "  Training epcoh took: 0:00:53\n",
            "\n",
            "Running Validation...\n",
            "[1 1 1 0 0 1 0 1 0 0 1 0 0 1 1 1]\n",
            "[1 1 1 0 0 1 0 1 0 0 1 0 1 1 1 1]\n",
            "[1 0 1 0 0 1 0 1 0 0 1 1 1 1 1 1]\n",
            "[1 0 1 1 0 1 1 1 0 0 1 1 1 1 1 1]\n",
            "[0 0 1 0 0 0 1 1 1 0 0 0 0 0 1 0]\n",
            "[1 1 1 0 0 1 1 1 0 0 1 0 0 0 1 1]\n",
            "[1 1 1 0 1 1 1 1 0 0 1 1 0 0 0 1]\n",
            "[1 1 0 0 1 1 1 1 0 1 1 1 1 0 0 1]\n",
            "[1 0 0 1 0 0 0 1 0 0 1 1 0 1 1 0]\n",
            "[1 1 1 1 0 0 0 1 1 0 1 1 1 1 1 1]\n",
            "[0 0 1 1 1 1 1 1 0 0 0 0 1 0 1 0]\n",
            "[1 0 1 1 1 1 1 1 0 0 0 1 0 0 1 0]\n",
            "[0 1 0 1 1 0 1 1 1 0 1 0 1 0 0 1]\n",
            "[0 1 1 1 1 0 1 1 1 0 1 1 1 1 0 1]\n",
            "[1 1 0 0 1 0 1 1 1 0 0 1 0 0 0 1]\n",
            "[1 1 0 0 1 0 1 1 1 0 0 1 0 0 1 1]\n",
            "[0 0 1 0 1 0 1 0 1 1 0 0 0 1 1 1]\n",
            "[0 0 1 1 1 1 1 0 1 1 0 0 1 1 1 1]\n",
            "[0 1 0 1 1 1 0 0 1 1 1 0 1 1 0 0]\n",
            "[0 1 0 1 1 0 0 0 1 0 1 1 1 1 0 1]\n",
            "[1 1 0 0 0 1 0 0 0 1 1 0 1 1 0 1]\n",
            "[1 1 0 0 1 1 1 1 0 1 1 1 1 1 0 1]\n",
            "[1 0 0 1 1 1 0 1 1 1 0 0 1 1 0 0]\n",
            "[1 0 0 1 1 1 1 1 1 1 1 1 1 1 1 0]\n",
            "[0 0 1 1 1 1 0 1 1 0 1 1 1 1 1 1]\n",
            "[0 0 1 1 1 0 0 1 1 1 1 1 1 1 0 1]\n",
            "[1 0 1 0 1 1 1 1 1 1 0 0 1 1 0 1]\n",
            "[1 1 1 0 1 1 1 1 1 1 1 0 1 1 0 1]\n",
            "[1 0 1 0 0 1 0 1 0 0 0 1 1 0 0 0]\n",
            "[1 0 0 0 0 1 0 1 0 0 0 1 1 1 0 0]\n",
            "[1 1 0 0 1 0 0 0 1 0 1 1 0 0 1 1]\n",
            "[1 1 0 1 1 0 1 0 1 1 1 1 0 0 1 1]\n",
            "[0 0 0 1 0 1 0 1 1 0 0 0 1 0 1 1]\n",
            "[0 1 0 0 0 1 1 1 1 0 0 1 1 1 1 1]\n",
            "[0 1 1 0 1 0 1 1 0 1 0 0 0 0 0 0]\n",
            "[0 1 1 0 1 0 1 1 0 1 0 0 0 0 0 0]\n",
            "[1 0 0 0 0 1 0 0 1 0 0 0 0 0 0 1]\n",
            "[1 0 0 0 0 1 0 0 1 0 1 1 0 1 0 0]\n",
            "[1 1 0 0 1 1 1 0 0 1 0 1 1 1 1 0]\n",
            "[1 1 0 1 1 1 0 0 1 1 0 1 1 1 1 1]\n",
            "[0 1 0 0 1 1 1 0 1 1 0 1 1 1 0 0]\n",
            "[1 1 0 0 1 1 1 0 1 1 0 1 1 1 0 1]\n",
            "[1 0 0 1 1 0 1 0 0 1 0 0 0 1 1 1]\n",
            "[1 0 0 1 1 0 1 0 1 1 0 0 0 1 1 1]\n",
            "[1 0 1 0 0 0 0 1 1 0 0 1 0 0 1 1]\n",
            "[1 0 1 0 0 1 1 1 1 0 0 1 0 1 1 1]\n",
            "[0 0 0 1 1 1 0 0 1 0 0 0 1 1 0 1]\n",
            "[0 0 1 1 1 1 1 1 1 0 1 0 1 1 0 1]\n",
            "[0 0 0 1 1 0 0 0 1 0 1 0 0 0 0 1]\n",
            "[0 0 0 1 0 1 1 0 1 0 1 1 0 1 0 1]\n",
            "[1 1 0 0 1 1 1 1 1 1 1 1 1 1 0 1]\n",
            "[1 1 1 0 1 1 1 1 1 1 1 1 1 1 1 1]\n",
            "[0 1 1 1 0 1 0 0 1 1 1 1 0 1 1 1]\n",
            "[0 1 1 1 0 1 1 0 1 1 1 1 0 1 1 1]\n",
            "[1 1 0 1 0 0 1 0 1 1 1 1 0 1 0 0]\n",
            "[1 1 0 1 0 0 1 0 1 0 1 1 1 1 1 0]\n",
            "[1 0 1 1 0 0 1 0 0 0 0 0 0 1 0 0]\n",
            "[1 1 1 1 0 1 1 1 0 0 1 1 1 1 0 1]\n",
            "[0 1 0 0 1 0 1 1 1 1 0 1 0 0 1 0]\n",
            "[1 1 1 0 1 0 1 1 0 1 0 1 0 1 1 0]\n",
            "[1 0 1 1 0 1 0 1 1 1 0 1 1 1 0 1]\n",
            "[1 1 1 1 0 1 0 1 1 1 0 1 1 1 0 1]\n",
            "[0 0 0 1]\n",
            "[0 0 0 1]\n",
            "  Accuracy: 0.81\n",
            "  Validation took: 0:00:01\n",
            "\n",
            "======== Epoch 3 / 4 ========\n",
            "Training...\n",
            "  Batch    40  of    282.    Elapsed: 0:00:08.\n",
            "  Batch    80  of    282.    Elapsed: 0:00:15.\n",
            "  Batch   120  of    282.    Elapsed: 0:00:23.\n",
            "  Batch   160  of    282.    Elapsed: 0:00:30.\n",
            "  Batch   200  of    282.    Elapsed: 0:00:38.\n",
            "  Batch   240  of    282.    Elapsed: 0:00:45.\n",
            "  Batch   280  of    282.    Elapsed: 0:00:53.\n",
            "\n",
            "  Average training loss: 0.22\n",
            "  Training epcoh took: 0:00:53\n",
            "\n",
            "Running Validation...\n",
            "[1 1 1 0 0 1 0 1 0 0 1 0 0 1 1 1]\n",
            "[1 1 1 0 0 1 0 1 0 0 1 0 1 1 1 0]\n",
            "[1 0 1 0 0 1 0 1 0 0 1 1 1 1 1 1]\n",
            "[1 0 1 0 0 1 1 1 0 0 1 1 1 1 1 1]\n",
            "[0 0 1 0 0 0 1 1 1 0 0 0 0 0 1 0]\n",
            "[1 1 1 0 0 1 1 1 0 1 1 0 0 0 1 1]\n",
            "[1 1 1 0 1 1 1 1 0 0 1 1 0 0 0 1]\n",
            "[1 1 0 0 1 1 1 1 0 1 1 1 1 0 0 1]\n",
            "[1 0 0 1 0 0 0 1 0 0 1 1 0 1 1 0]\n",
            "[1 1 1 1 0 0 1 1 1 0 1 1 1 1 1 1]\n",
            "[0 0 1 1 1 1 1 1 0 0 0 0 1 0 1 0]\n",
            "[1 0 1 1 1 1 1 1 0 0 0 1 1 0 1 0]\n",
            "[0 1 0 1 1 0 1 1 1 0 1 0 1 0 0 1]\n",
            "[0 1 1 1 1 0 1 1 1 0 1 1 1 1 0 1]\n",
            "[1 1 0 0 1 0 1 1 1 0 0 1 0 0 0 1]\n",
            "[1 1 0 0 1 0 1 1 1 0 0 1 0 0 1 1]\n",
            "[0 0 1 0 1 0 1 0 1 1 0 0 0 1 1 1]\n",
            "[0 0 1 1 1 1 1 0 1 1 0 0 0 1 1 1]\n",
            "[0 1 0 1 1 1 0 0 1 1 1 0 1 1 0 0]\n",
            "[0 1 0 1 1 0 0 0 1 0 1 1 1 0 0 1]\n",
            "[1 1 0 0 0 1 0 0 0 1 1 0 1 1 0 1]\n",
            "[1 1 0 0 1 1 1 1 0 1 1 1 1 1 1 1]\n",
            "[1 0 0 1 1 1 0 1 1 1 0 0 1 1 0 0]\n",
            "[1 0 0 1 1 1 1 1 1 1 1 0 1 1 0 0]\n",
            "[0 0 1 1 1 1 0 1 1 0 1 1 1 1 1 1]\n",
            "[0 0 1 1 1 1 1 1 1 0 1 1 1 1 1 1]\n",
            "[1 0 1 0 1 1 1 1 1 1 0 0 1 1 0 1]\n",
            "[1 1 1 0 1 1 1 1 1 1 1 0 1 1 0 1]\n",
            "[1 0 1 0 0 1 0 1 0 0 0 1 1 0 0 0]\n",
            "[1 0 1 0 0 1 0 1 0 0 0 1 1 1 1 0]\n",
            "[1 1 0 0 1 0 0 0 1 0 1 1 0 0 1 1]\n",
            "[1 1 1 1 1 0 1 0 1 1 1 1 0 0 1 1]\n",
            "[0 0 0 1 0 1 0 1 1 0 0 0 1 0 1 1]\n",
            "[0 1 0 0 0 1 1 1 1 0 0 1 1 1 1 1]\n",
            "[0 1 1 0 1 0 1 1 0 1 0 0 0 0 0 0]\n",
            "[0 1 1 0 1 0 1 1 0 1 0 0 0 0 0 0]\n",
            "[1 0 0 0 0 1 0 0 1 0 0 0 0 0 0 1]\n",
            "[1 0 0 0 0 1 0 0 1 0 1 1 0 1 0 0]\n",
            "[1 1 0 0 1 1 1 0 0 1 0 1 1 1 1 0]\n",
            "[1 1 0 1 1 1 0 0 1 0 0 1 1 1 1 1]\n",
            "[0 1 0 0 1 1 1 0 1 1 0 1 1 1 0 0]\n",
            "[1 1 0 0 1 1 1 0 1 1 0 1 1 1 0 1]\n",
            "[1 0 0 1 1 0 1 0 0 1 0 0 0 1 1 1]\n",
            "[1 0 0 1 1 0 1 0 1 1 0 0 0 1 1 1]\n",
            "[1 0 1 0 0 0 0 1 1 0 0 1 0 0 1 1]\n",
            "[1 0 1 0 0 1 1 1 1 0 0 1 0 1 1 1]\n",
            "[0 0 0 1 1 1 0 0 1 0 0 0 1 1 0 1]\n",
            "[0 1 1 1 1 1 1 1 1 0 0 0 1 1 0 1]\n",
            "[0 0 0 1 1 0 0 0 1 0 1 0 0 0 0 1]\n",
            "[0 0 0 1 0 1 1 0 0 0 1 1 0 1 1 1]\n",
            "[1 1 0 0 1 1 1 1 1 1 1 1 1 1 0 1]\n",
            "[1 1 1 1 1 1 1 1 1 1 1 1 0 1 1 1]\n",
            "[0 1 1 1 0 1 0 0 1 1 1 1 0 1 1 1]\n",
            "[0 1 1 1 0 1 1 0 1 1 1 1 0 1 1 1]\n",
            "[1 1 0 1 0 0 1 0 1 1 1 1 0 1 0 0]\n",
            "[1 1 0 1 1 0 1 0 1 0 1 1 1 1 1 0]\n",
            "[1 0 1 1 0 0 1 0 0 0 0 0 0 1 0 0]\n",
            "[1 0 1 1 0 1 1 1 0 0 1 1 1 1 1 1]\n",
            "[0 1 0 0 1 0 1 1 1 1 0 1 0 0 1 0]\n",
            "[1 1 1 0 1 0 1 1 0 1 0 1 0 1 1 0]\n",
            "[1 0 1 1 0 1 0 1 1 1 0 1 1 1 0 1]\n",
            "[1 1 1 0 0 1 0 1 1 1 0 1 1 1 0 1]\n",
            "[0 0 0 1]\n",
            "[0 0 0 1]\n",
            "  Accuracy: 0.80\n",
            "  Validation took: 0:00:01\n",
            "\n",
            "======== Epoch 4 / 4 ========\n",
            "Training...\n",
            "  Batch    40  of    282.    Elapsed: 0:00:08.\n",
            "  Batch    80  of    282.    Elapsed: 0:00:15.\n",
            "  Batch   120  of    282.    Elapsed: 0:00:23.\n",
            "  Batch   160  of    282.    Elapsed: 0:00:30.\n",
            "  Batch   200  of    282.    Elapsed: 0:00:38.\n",
            "  Batch   240  of    282.    Elapsed: 0:00:45.\n",
            "  Batch   280  of    282.    Elapsed: 0:00:53.\n",
            "\n",
            "  Average training loss: 0.15\n",
            "  Training epcoh took: 0:00:53\n",
            "\n",
            "Running Validation...\n",
            "[1 1 1 0 0 1 0 1 0 0 1 0 0 1 1 1]\n",
            "[1 1 1 0 0 1 0 1 0 0 1 0 1 1 1 0]\n",
            "[1 0 1 0 0 1 0 1 0 0 1 1 1 1 1 1]\n",
            "[1 0 1 0 0 1 1 1 0 0 1 1 1 1 1 1]\n",
            "[0 0 1 0 0 0 1 1 1 0 0 0 0 0 1 0]\n",
            "[1 1 1 0 0 1 1 1 0 1 1 0 0 0 1 1]\n",
            "[1 1 1 0 1 1 1 1 0 0 1 1 0 0 0 1]\n",
            "[1 1 0 0 1 1 0 1 0 1 1 1 1 0 0 1]\n",
            "[1 0 0 1 0 0 0 1 0 0 1 1 0 1 1 0]\n",
            "[1 1 1 1 0 0 0 1 1 0 1 1 1 1 1 0]\n",
            "[0 0 1 1 1 1 1 1 0 0 0 0 1 0 1 0]\n",
            "[1 0 1 1 1 1 1 1 0 0 0 1 1 0 1 0]\n",
            "[0 1 0 1 1 0 1 1 1 0 1 0 1 0 0 1]\n",
            "[0 1 1 1 1 0 1 1 1 0 1 1 1 1 0 1]\n",
            "[1 1 0 0 1 0 1 1 1 0 0 1 0 0 0 1]\n",
            "[1 1 0 0 1 0 1 1 1 0 0 1 0 0 1 0]\n",
            "[0 0 1 0 1 0 1 0 1 1 0 0 0 1 1 1]\n",
            "[0 0 1 1 1 1 1 0 1 1 0 0 0 1 1 1]\n",
            "[0 1 0 1 1 1 0 0 1 1 1 0 1 1 0 0]\n",
            "[0 1 0 1 1 0 0 0 1 0 1 1 1 0 0 1]\n",
            "[1 1 0 0 0 1 0 0 0 1 1 0 1 1 0 1]\n",
            "[1 1 0 0 1 1 1 1 0 1 0 1 1 1 0 1]\n",
            "[1 0 0 1 1 1 0 1 1 1 0 0 1 1 0 0]\n",
            "[1 0 0 1 1 1 1 1 1 1 1 0 1 1 0 0]\n",
            "[0 0 1 1 1 1 0 1 1 0 1 1 1 1 1 1]\n",
            "[0 0 1 1 1 0 0 1 1 0 1 1 1 1 1 1]\n",
            "[1 0 1 0 1 1 1 1 1 1 0 0 1 1 0 1]\n",
            "[1 1 1 0 1 1 1 1 1 1 1 0 1 1 0 1]\n",
            "[1 0 1 0 0 1 0 1 0 0 0 1 1 0 0 0]\n",
            "[1 0 1 0 0 1 0 1 0 0 0 1 1 1 0 0]\n",
            "[1 1 0 0 1 0 0 0 1 0 1 1 0 0 1 1]\n",
            "[1 1 1 1 1 0 1 0 1 1 1 1 0 0 1 1]\n",
            "[0 0 0 1 0 1 0 1 1 0 0 0 1 0 1 1]\n",
            "[0 1 0 0 0 1 1 1 1 0 0 1 1 1 1 1]\n",
            "[0 1 1 0 1 0 1 1 0 1 0 0 0 0 0 0]\n",
            "[0 1 1 0 1 0 1 1 0 1 0 0 0 0 0 0]\n",
            "[1 0 0 0 0 1 0 0 1 0 0 0 0 0 0 1]\n",
            "[1 0 0 0 0 1 0 0 1 0 1 0 0 1 0 0]\n",
            "[1 1 0 0 1 1 1 0 0 1 0 1 1 1 1 0]\n",
            "[0 1 0 1 1 1 0 0 1 0 0 1 1 1 1 1]\n",
            "[0 1 0 0 1 1 1 0 1 1 0 1 1 1 0 0]\n",
            "[1 1 0 0 1 1 1 0 0 1 0 1 0 1 0 0]\n",
            "[1 0 0 1 1 0 1 0 0 1 0 0 0 1 1 1]\n",
            "[1 0 0 1 1 0 1 0 1 1 0 0 0 1 1 1]\n",
            "[1 0 1 0 0 0 0 1 1 0 0 1 0 0 1 1]\n",
            "[1 0 1 0 0 1 1 1 1 0 0 1 0 1 1 1]\n",
            "[0 0 0 1 1 1 0 0 1 0 0 0 1 1 0 1]\n",
            "[0 1 1 1 1 1 1 1 1 0 0 0 1 1 0 1]\n",
            "[0 0 0 1 1 0 0 0 1 0 1 0 0 0 0 1]\n",
            "[0 0 0 1 0 1 1 0 0 0 1 1 0 1 0 1]\n",
            "[1 1 0 0 1 1 1 1 1 1 1 1 1 1 0 1]\n",
            "[1 1 1 1 1 1 1 1 1 1 1 1 0 0 1 1]\n",
            "[0 1 1 1 0 1 0 0 1 1 1 1 0 1 1 1]\n",
            "[0 1 1 0 0 1 1 0 1 1 1 1 0 1 1 1]\n",
            "[1 1 0 1 0 0 1 0 1 1 1 1 0 1 0 0]\n",
            "[1 1 0 1 1 0 1 0 1 0 1 1 1 1 1 0]\n",
            "[1 0 1 1 0 0 1 0 0 0 0 0 0 1 0 0]\n",
            "[1 0 1 1 0 1 1 1 0 0 1 1 1 1 0 1]\n",
            "[0 1 0 0 1 0 1 1 1 1 0 1 0 0 1 0]\n",
            "[1 1 1 0 1 0 1 1 0 1 0 1 0 1 1 0]\n",
            "[1 0 1 1 0 1 0 1 1 1 0 1 1 1 0 1]\n",
            "[1 1 1 0 0 1 0 1 1 1 0 1 1 1 0 1]\n",
            "[0 0 0 1]\n",
            "[0 0 0 1]\n",
            "  Accuracy: 0.80\n",
            "  Validation took: 0:00:01\n",
            "\n",
            "Training complete!\n"
          ],
          "name": "stdout"
        }
      ]
    },
    {
      "cell_type": "code",
      "metadata": {
        "id": "ODSWJk7OvfGZ",
        "colab_type": "code",
        "outputId": "d1a14659-574a-4570-8bb9-6ec27081f1ba",
        "colab": {
          "base_uri": "https://localhost:8080/",
          "height": 427
        }
      },
      "source": [
        "import matplotlib.pyplot as plt\n",
        "% matplotlib inline\n",
        "\n",
        "import seaborn as sns\n",
        "\n",
        "# Use plot styling from seaborn.\n",
        "sns.set(style='darkgrid')\n",
        "\n",
        "# Increase the plot size and font size.\n",
        "sns.set(font_scale=1.5)\n",
        "plt.rcParams[\"figure.figsize\"] = (12,6)\n",
        "\n",
        "# Plot the learning curve.\n",
        "plt.plot(loss_values, 'b-o')\n",
        "\n",
        "# Label the plot.\n",
        "plt.title(\"Training loss\")\n",
        "plt.xlabel(\"Batch\")\n",
        "plt.ylabel(\"Loss\")\n",
        "\n",
        "plt.show()"
      ],
      "execution_count": 52,
      "outputs": [
        {
          "output_type": "display_data",
          "data": {
            "image/png": "[encoded data removed]",
            "text/plain": [
              "<Figure size 864x432 with 1 Axes>"
            ]
          },
          "metadata": {
            "tags": []
          }
        }
      ]
    },
    {
      "cell_type": "code",
      "metadata": {
        "id": "F1OL2pKp_fbK",
        "colab_type": "code",
        "colab": {}
      },
      "source": [
        "model_save_name = 'classifier-lm-po-mo-so.pt'\n",
        "path = F\"drive/My Drive/Colab Notebooks/{model_save_name}\" \n",
        "torch.save(model.state_dict(), path)"
      ],
      "execution_count": 0,
      "outputs": []
    },
    {
      "cell_type": "code",
      "metadata": {
        "id": "AvIWUtgwot4Y",
        "colab_type": "code",
        "outputId": "2a52e5ae-ea96-4b83-f8ce-a82d09afd2a8",
        "colab": {
          "base_uri": "https://localhost:8080/",
          "height": 66
        }
      },
      "source": [
        "test_df['question1']=test_df['question1'].astype(str)\n",
        "test_df['question2']=test_df['question2'].astype(str)\n",
        "test_df['is_duplicate']=test_df['is_duplicate'].astype(str)\n",
        "test_df=preprocessdf(test_df)\n",
        "\n",
        "# Create sentence and label lists\n",
        "text_a = test_df.question1\n",
        "text_b=test_df.question2\n",
        "is_dup=test_df.is_duplicate\n",
        "#print(text_a)\n",
        "# We need to add special tokens at the beginning and end of each sentence for BERT to work properly\n",
        "labels=list()\n",
        "questions=list()\n",
        "m,n=test_df.shape\n",
        "for w in range(m):\n",
        "  q1=test_df.iloc[w,2]\n",
        "  #print(q1)\n",
        "  q2=test_df.iloc[w,3]\n",
        "  #print(q2)\n",
        "  is_d=int(float(test_df.iloc[w,4]))\n",
        "  #print(is_d)\n",
        "  if(q1==\"question1\"):\n",
        "    continue\n",
        "  questions.append(\"[CLS] \" + str(q1) + \" [SEP] \" +str(q2)+ \" [SEP]\")\n",
        "  #print(is_d)\n",
        "  labels.append(is_d)\n",
        "#labels = df.is_duplicate.values\n",
        "labels=np.asarray(labels)\n"
      ],
      "execution_count": 57,
      "outputs": [
        {
          "output_type": "stream",
          "text": [
            "Size of vocabulary: 4350\n",
            "Average sequence length:  42\n",
            "Number of duplicate questions:  750\n"
          ],
          "name": "stdout"
        }
      ]
    },
    {
      "cell_type": "code",
      "metadata": {
        "id": "wf7Can-1Eus7",
        "colab_type": "code",
        "outputId": "9832ed2f-40e3-4e78-a204-6df1661abc5d",
        "colab": {
          "base_uri": "https://localhost:8080/",
          "height": 50
        }
      },
      "source": [
        "print(test_df.shape)\n",
        "print(len(questions))"
      ],
      "execution_count": 58,
      "outputs": [
        {
          "output_type": "stream",
          "text": [
            "(1500, 5)\n",
            "1500\n"
          ],
          "name": "stdout"
        }
      ]
    },
    {
      "cell_type": "code",
      "metadata": {
        "id": "bXBYMc0No5r0",
        "colab_type": "code",
        "outputId": "0c67f85a-9071-4bbf-d2ed-54c1fa24210b",
        "colab": {
          "base_uri": "https://localhost:8080/",
          "height": 33
        }
      },
      "source": [
        "tokenizer = BertTokenizer.from_pretrained(modelpath, do_lower_case=True)\n",
        "\n",
        "tokenized_texts = [tokenizer.encode(sent[:MAX_LEN]) for sent in questions]\n",
        "print (\"Tokenize the first sentence:\")\n",
        "#print (tokenized_texts[1])"
      ],
      "execution_count": 59,
      "outputs": [
        {
          "output_type": "stream",
          "text": [
            "Tokenize the first sentence:\n"
          ],
          "name": "stdout"
        }
      ]
    },
    {
      "cell_type": "code",
      "metadata": {
        "id": "pnpqFqYnpm1E",
        "colab_type": "code",
        "colab": {}
      },
      "source": [
        "input_ids = pad_sequences(tokenized_texts, maxlen=MAX_LEN, dtype=\"long\",value=0, truncating=\"post\", padding=\"post\")"
      ],
      "execution_count": 0,
      "outputs": []
    },
    {
      "cell_type": "code",
      "metadata": {
        "id": "sP6M206eqFgB",
        "colab_type": "code",
        "colab": {}
      },
      "source": [
        "# Create attention masks\n",
        "attention_masks = []\n",
        "\n",
        "# Create a mask of 1s for each token followed by 0s for padding\n",
        "for seq in input_ids:\n",
        "  att_mask = [int(token_id > 0) for token_id in seq]\n",
        "  attention_masks.append(att_mask)\n",
        " "
      ],
      "execution_count": 0,
      "outputs": []
    },
    {
      "cell_type": "code",
      "metadata": {
        "id": "RfSXRRfYqLXw",
        "colab_type": "code",
        "outputId": "9370c509-83a4-47ba-bbb2-1436c384a659",
        "colab": {
          "base_uri": "https://localhost:8080/",
          "height": 66
        }
      },
      "source": [
        "# Use train_test_split to split our data into train and validation sets for training\n",
        "\n",
        "prediction_inputs=input_ids\n",
        "prediction_labels=labels\n",
        "prediction_masks=attention_masks\n",
        "print(prediction_inputs.shape)\n",
        "print(prediction_labels.shape)\n",
        "print(len(prediction_masks))\n"
      ],
      "execution_count": 63,
      "outputs": [
        {
          "output_type": "stream",
          "text": [
            "(1500, 80)\n",
            "(1500,)\n",
            "1500\n"
          ],
          "name": "stdout"
        }
      ]
    },
    {
      "cell_type": "code",
      "metadata": {
        "id": "MOEUZRfso-UL",
        "colab_type": "code",
        "colab": {}
      },
      "source": [
        "# Convert all of our data into torch tensors, the required datatype for our model\n",
        "prediction_inputs = torch.tensor(prediction_inputs)\n",
        "prediction_labels = torch.tensor(prediction_labels)\n",
        "prediction_masks = torch.tensor(prediction_masks)"
      ],
      "execution_count": 0,
      "outputs": []
    },
    {
      "cell_type": "code",
      "metadata": {
        "id": "qsPRebtXTfjf",
        "colab_type": "code",
        "colab": {}
      },
      "source": [
        "# Select a batch size for training. For fine-tuning BERT on a specific task, the authors recommend a batch size of 16 or 32\n",
        "batch_size = 8\n",
        "\n",
        "# Create an iterator of our data with torch DataLoader. This helps save on memory during training because, unlike a for loop, \n",
        "# with an iterator the entire dataset does not need to be loaded into memory\n",
        "\n",
        "\n",
        "prediction_data = TensorDataset(prediction_inputs, prediction_masks, prediction_labels)\n",
        "prediction_sampler = SequentialSampler(prediction_data)\n",
        "prediction_dataloader = DataLoader(prediction_data, sampler=prediction_sampler, batch_size=batch_size)"
      ],
      "execution_count": 0,
      "outputs": []
    },
    {
      "cell_type": "code",
      "metadata": {
        "id": "7EmsdXHpR_Qr",
        "colab_type": "code",
        "outputId": "738b6c92-c54a-4485-df41-379107422560",
        "colab": {
          "base_uri": "https://localhost:8080/",
          "height": 50
        }
      },
      "source": [
        "# Prediction on test set\n",
        "\n",
        "print('Predicting labels for {:,} test sentences...'.format(len(prediction_inputs)))\n",
        "\n",
        "# Put model in evaluation mode\n",
        "model.eval()\n",
        "\n",
        "# Tracking variables \n",
        "predictions , true_labels = [], []\n",
        "\n",
        "# Predict \n",
        "for batch in prediction_dataloader:\n",
        "  # Add batch to GPU\n",
        "  batch = tuple(t.to(device) for t in batch)\n",
        "  \n",
        "  # Unpack the inputs from our dataloader\n",
        "  b_input_ids, b_input_mask, b_labels = batch\n",
        "  \n",
        "  # Telling the model not to compute or store gradients, saving memory and \n",
        "  # speeding up prediction\n",
        "  with torch.no_grad():\n",
        "      # Forward pass, calculate logit predictions\n",
        "      outputs = model(b_input_ids, token_type_ids=None, \n",
        "                      attention_mask=b_input_mask)\n",
        "\n",
        "  logits = outputs[0]\n",
        "\n",
        "  # Move logits and labels to CPU\n",
        "  logits = logits.detach().cpu().numpy()\n",
        "  label_ids = b_labels.to('cpu').numpy()\n",
        "  \n",
        "  # Store predictions and true labels\n",
        "  predictions.append(logits)\n",
        "  true_labels.append(label_ids)\n",
        "\n",
        "print('    DONE.')"
      ],
      "execution_count": 66,
      "outputs": [
        {
          "output_type": "stream",
          "text": [
            "Predicting labels for 1,500 test sentences...\n",
            "    DONE.\n"
          ],
          "name": "stdout"
        }
      ]
    },
    {
      "cell_type": "code",
      "metadata": {
        "id": "qti7EByKPkEu",
        "colab_type": "code",
        "outputId": "aee08068-df6d-451e-c5de-874a021b3406",
        "colab": {
          "base_uri": "https://localhost:8080/",
          "height": 66
        }
      },
      "source": [
        "\n",
        "flat_predictions = [item for sublist in predictions for item in sublist]\n",
        "flat_predictions = np.argmax(flat_predictions, axis=1).flatten()\n",
        "\n",
        "# Combine the correct labels for each batch into a single list.\n",
        "flat_true_labels = [item for sublist in true_labels for item in sublist]\n",
        "print(\"Final Accuracy: \",accuracy_score(flat_true_labels, flat_predictions))\n",
        "print(\"Precision: \", precision_score(flat_true_labels, flat_predictions))\n",
        "print(\"Recall: \", recall_score(flat_true_labels, flat_predictions))"
      ],
      "execution_count": 68,
      "outputs": [
        {
          "output_type": "stream",
          "text": [
            "Final Accuracy:  0.54\n",
            "Precision:  0.8191489361702128\n",
            "Recall:  0.10266666666666667\n"
          ],
          "name": "stdout"
        }
      ]
    },
    {
      "cell_type": "code",
      "metadata": {
        "id": "ibK1b_7tS1KY",
        "colab_type": "code",
        "outputId": "21145edb-04d4-41ed-d769-280479cd4e2e",
        "colab": {
          "base_uri": "https://localhost:8080/",
          "height": 472
        }
      },
      "source": [
        "print(flat_predictions)"
      ],
      "execution_count": 0,
      "outputs": [
        {
          "output_type": "stream",
          "text": [
            "[1 1 0 0 0 1 1 1 0 0 0 1 1 0 0 0 1 0 1 1 0 0 1 1 1 0 0 0 0 1 1 1 0 1 0 1 1\n",
            " 0 1 1 0 1 0 0 0 0 1 0 0 0 0 1 1 1 1 1 1 0 1 0 0 0 1 0 1 0 1 0 1 1 0 0 0 1\n",
            " 0 0 0 0 0 1 0 0 0 0 1 1 1 1 0 1 1 0 1 0 0 1 0 1 0 1 0 0 1 1 1 1 0 0 1 0 0\n",
            " 1 0 0 1 1 1 1 1 0 0 0 0 0 0 1 0 1 0 0 0 0 0 1 1 0 0 1 1 1 0 0 0 1 1 0 0 1\n",
            " 0 1 0 1 0 0 0 0 0 0 0 1 1 1 0 0 1 0 1 0 0 1 0 0 0 1 0 0 0 1 1 0 1 1 1 0 0\n",
            " 1 0 0 1 0 0 1 1 1 0 0 1 0 0 1 1 1 0 0 1 1 1 1 1 1 0 1 1 0 1 0 1 0 0 0 0 0\n",
            " 0 1 0 1 0 0 0 1 1 0 0 1 0 0 1 1 0 0 0 0 1 0 0 0 0 1 0 1 1 0 1 1 0 1 1 1 1\n",
            " 1 1 0 1 1 0 0 0 0 1 1 0 0 0 1 1 1 0 0 1 0 0 1 1 1 1 0 0 1 0 1 1 0 0 0 1 1\n",
            " 0 0 0 0 0 1 0 1 0 1 1 1 0 0 1 1 0 0 1 1 0 1 1 1 0 0 1 0 1 0 1 1 0 1 1 0 0\n",
            " 1 0 0 0 0 1 1 1 1 0 0 1 1 1 0 0 0 1 1 0 1 1 0 1 1 1 1 1 0 0 0 0 0 0 0 0 1\n",
            " 0 1 0 1 1 0 0 1 1 0 1 0 0 1 0 0 1 1 1 0 0 1 0 0 0 0 1 0 1 0 0 1 0 1 0 0 1\n",
            " 1 0 1 0 1 1 1 1 0 0 0 0 0 0 1 0 0 0 1 1 1 1 1 0 0 0 0 0 0 1 0 1 0 0 1 0 0\n",
            " 0 0 1 0 1 0 1 1 1 0 1 0 0 1 1 0 0 0 1 1 1 1 1 0 1 1 1 0 1 1 1 1 1 1 1 1 1\n",
            " 1 0 1 0 1 1 1 1 0 0 0 0 0 1 1 1 1 1 1 0 1 1 1 1 0 0 1 0 1 0 0 1 1 0 1 0 1\n",
            " 0 0 0 0 0 1 1 0 0 0 0 0 1 1 1 1 0 0 0 0 1 1 0 0 1 0 1 1 1 1 1 0 1 0 1 0 1\n",
            " 0 1 1 1 1 0 0 1 1 1 1 1 0 0 0 1 0 0 0 1 0 1 1 0 0 0 0 0 1 0 1 0 1 1 0 1 1\n",
            " 1 0 0 1 0 1 1 1 1 0 1 0 1 0 1 1 0 0 1 0 0 0 0 1 1 1 0 1 0 1 1 1 0 1 0 1 0\n",
            " 0 0 1 0 0 1 0 1 1 1 0 0 0 0 1 1 0 1 1 1 0 0 0 0 0 1 0 0 0 1 1 0 1 0 1 1 1\n",
            " 1 1 0 1 0 1 0 1 0 1 0 1 0 0 1 1 0 1 1 1 0 0 0 1 1 1 0 1 0 0 1 0 1 0 1 0 1\n",
            " 1 1 1 0 0 0 0 0 1 0 1 0 1 1 1 1 0 1 1 0 1 0 0 1 0 1 1 0 0 1 0 0 1 0 0 0 0\n",
            " 0 0 1 1 1 0 0 0 1 0 0 1 0 1 1 0 0 0 1 0 1 1 0 0 1 1 1 0 1 0 1 1 1 0 0 0 0\n",
            " 0 0 0 0 1 1 0 1 0 0 0 1 1 1 1 1 1 0 1 1 1 1 1 1 1 1 0 1 1 1 0 0 1 0 0 1 0\n",
            " 0 1 1 0 0 0 0 1 1 0 1 0 1 1 1 1 0 1 1 0 1 1 1 1 1 0 1 0 1 0 1 1 0 1 0 0 0\n",
            " 0 1 1 1 0 0 1 1 1 1 0 0 0 0 1 1 0 0 1 1 1 1 0 1 0 0 1 1 1 1 0 1 0 1 0 1 1\n",
            " 0 1 0 0 0 0 1 0 1 0 0 1 1 0 1 1 1 1 1 0 1 0 1 1 0 0 0 1 1 1 1 0 0 1 0 0 0\n",
            " 0 1 0 1 1 1 1 1 0 1 0 1 1 0 0 1 0 0 1 0 1 0 0 1 0 0 1 0 0 0 1 0 1 0 1 1 0\n",
            " 1 1 1 0 1 0 0 0 1 1 1 0 1 0 0 0 1 1 1 1 0 0 1 0 0 1 1 0 1 0 0 0 0 0 1 0 1\n",
            " 0]\n"
          ],
          "name": "stdout"
        }
      ]
    },
    {
      "cell_type": "code",
      "metadata": {
        "id": "7Pxf47CvS6E4",
        "colab_type": "code",
        "outputId": "94de366c-6968-4393-872a-6120cfe98b4f",
        "colab": {
          "base_uri": "https://localhost:8080/",
          "height": 1000
        }
      },
      "source": [
        "k=0\n",
        "total_incorrect=0\n",
        "for i in range(len(flat_predictions)):\n",
        "  if(int(float(flat_true_labels[i]))!=int(float(test_df.iloc[i,4]))):\n",
        "    print(\"Not correct\")  \n",
        "wrpos=0\n",
        "wrneg=0\n",
        "for i in range(len(flat_predictions)):\n",
        "  pred=int(float(flat_predictions[i]))\n",
        "  real=int(float(flat_true_labels[i]))\n",
        "  if(pred!=real):\n",
        "    total_incorrect+=1\n",
        "    if(flat_true_labels[i]==1):\n",
        "      wrpos+=1\n",
        "    else:\n",
        "      wrneg+=1  \n",
        "    if(k<=11):\n",
        "      print(\"\\n-----------------------------\\n\",test_df.iloc[i,2]+\"\\n\",test_df.iloc[i,3]+\"\\nActual Value: \",test_df.iloc[i,4]+\", \",flat_true_labels[i])\n",
        "    k+=1\n",
        "print(\"Incorrect examples: \",total_incorrect) \n",
        "print(\"Incorrect positive examples: \",wrpos)\n",
        "print(\"incorrect negative examples: \",wrneg)\n"
      ],
      "execution_count": 69,
      "outputs": [
        {
          "output_type": "stream",
          "text": [
            "\n",
            "-----------------------------\n",
            " kinds exchangetraded funds etfs specifically avoided\n",
            " diversifying going long short simultaneously\n",
            "Actual Value:  1.0,  1\n",
            "\n",
            "-----------------------------\n",
            " two highinterest loans pay one time split money\n",
            " would anyone want pay debts way highest interest first\n",
            "Actual Value:  1.0,  1\n",
            "\n",
            "-----------------------------\n",
            " start savinginvesting retirement\n",
            " best way start investing young person starting career\n",
            "Actual Value:  1.0,  1\n",
            "\n",
            "-----------------------------\n",
            " happens cosign loan borrower debtor dies\n",
            " cosigning dying loan cosigner dies estate cosigner liable\n",
            "Actual Value:  1.0,  1\n",
            "\n",
            "-----------------------------\n",
            " power monarchs\n",
            " british kings queens veto laws\n",
            "Actual Value:  1.0,  1\n",
            "\n",
            "-----------------------------\n",
            " us corporations people\n",
            " benefitsdrawbacks weighted vote based upon federal taxes paid\n",
            "Actual Value:  1.0,  1\n",
            "\n",
            "-----------------------------\n",
            " python unicode windows console\n",
            " windows cmd encoding change causes python crash\n",
            "Actual Value:  1.0,  1\n",
            "\n",
            "-----------------------------\n",
            " implementing captcha 50 article\n",
            " practical nonimage based captcha approaches\n",
            "Actual Value:  1.0,  1\n",
            "\n",
            "-----------------------------\n",
            " worker cooperatives socialist capitalist category\n",
            " good examples countries incorrectly selfidentifying socialist\n",
            "Actual Value:  1.0,  1\n",
            "\n",
            "-----------------------------\n",
            " choosing static code analysis tool\n",
            " best commandline tool clean code\n",
            "Actual Value:  1.0,  1\n",
            "\n",
            "-----------------------------\n",
            " important differences mutual funds exchange traded funds etfs\n",
            " etf perform differently holdings\n",
            "Actual Value:  1.0,  1\n",
            "\n",
            "-----------------------------\n",
            " credit monitoring services worth monthly fee\n",
            " freeze credit\n",
            "Actual Value:  1.0,  1\n",
            "Incorrect examples:  690\n",
            "Incorrect positive examples:  673\n",
            "incorrect negative examples:  17\n"
          ],
          "name": "stdout"
        }
      ]
    },
    {
      "cell_type": "code",
      "metadata": {
        "id": "D-h4UBzKiam5",
        "colab_type": "code",
        "outputId": "cfde3e7b-15d0-40ac-e5a3-7dfd134a23d6",
        "colab": {
          "base_uri": "https://localhost:8080/",
          "height": 223
        }
      },
      "source": [
        "k=0\n",
        "for i in range(len(flat_predictions)):\n",
        "  if(int(flat_true_labels[i])!=int(test_df.iloc[i,4])):\n",
        "    print(\"Not correct\")  \n",
        "wrpos=0\n",
        "wrneg=0\n",
        "for i in range(len(flat_predictions)):\n",
        "  pred=int(float(flat_predictions[i]))\n",
        "  real=int(float(flat_true_labels[i]))\n",
        "  if(pred!=real):\n",
        "    if(flat_true_labels[i]==1):\n",
        "      wrpos+=1\n",
        "    else:\n",
        "      wrneg+=1  \n",
        "    if(k<=11):\n",
        "      print(\"\\n-----------------------------\\n\",test_df.iloc[i,2]+\"\\n\",test_df.iloc[i,3]+\"\\nActual Value: \",test_df.iloc[i,4]+\", \",flat_true_labels[i])\n",
        "    k+=1\n",
        "print(\"Incorrect examples: \",k) \n",
        "print(\"Incorrect positive examples: \",wrpos)\n",
        "print(\"incorrect negative examples: \",wrneg)"
      ],
      "execution_count": 0,
      "outputs": [
        {
          "output_type": "error",
          "ename": "ValueError",
          "evalue": "ignored",
          "traceback": [
            "\u001b[0;31m---------------------------------------------------------------------------\u001b[0m",
            "\u001b[0;31mValueError\u001b[0m                                Traceback (most recent call last)",
            "\u001b[0;32m<ipython-input-131-dd6314647774>\u001b[0m in \u001b[0;36m<module>\u001b[0;34m()\u001b[0m\n\u001b[1;32m      1\u001b[0m \u001b[0mk\u001b[0m\u001b[0;34m=\u001b[0m\u001b[0;36m0\u001b[0m\u001b[0;34m\u001b[0m\u001b[0;34m\u001b[0m\u001b[0m\n\u001b[1;32m      2\u001b[0m \u001b[0;32mfor\u001b[0m \u001b[0mi\u001b[0m \u001b[0;32min\u001b[0m \u001b[0mrange\u001b[0m\u001b[0;34m(\u001b[0m\u001b[0mlen\u001b[0m\u001b[0;34m(\u001b[0m\u001b[0mflat_predictions\u001b[0m\u001b[0;34m)\u001b[0m\u001b[0;34m)\u001b[0m\u001b[0;34m:\u001b[0m\u001b[0;34m\u001b[0m\u001b[0;34m\u001b[0m\u001b[0m\n\u001b[0;32m----> 3\u001b[0;31m   \u001b[0;32mif\u001b[0m\u001b[0;34m(\u001b[0m\u001b[0mint\u001b[0m\u001b[0;34m(\u001b[0m\u001b[0mflat_true_labels\u001b[0m\u001b[0;34m[\u001b[0m\u001b[0mi\u001b[0m\u001b[0;34m]\u001b[0m\u001b[0;34m)\u001b[0m\u001b[0;34m!=\u001b[0m\u001b[0mint\u001b[0m\u001b[0;34m(\u001b[0m\u001b[0mtest_df\u001b[0m\u001b[0;34m.\u001b[0m\u001b[0miloc\u001b[0m\u001b[0;34m[\u001b[0m\u001b[0mi\u001b[0m\u001b[0;34m,\u001b[0m\u001b[0;36m4\u001b[0m\u001b[0;34m]\u001b[0m\u001b[0;34m)\u001b[0m\u001b[0;34m)\u001b[0m\u001b[0;34m:\u001b[0m\u001b[0;34m\u001b[0m\u001b[0;34m\u001b[0m\u001b[0m\n\u001b[0m\u001b[1;32m      4\u001b[0m     \u001b[0mprint\u001b[0m\u001b[0;34m(\u001b[0m\u001b[0;34m\"Not correct\"\u001b[0m\u001b[0;34m)\u001b[0m\u001b[0;34m\u001b[0m\u001b[0;34m\u001b[0m\u001b[0m\n\u001b[1;32m      5\u001b[0m \u001b[0mwrpos\u001b[0m\u001b[0;34m=\u001b[0m\u001b[0;36m0\u001b[0m\u001b[0;34m\u001b[0m\u001b[0;34m\u001b[0m\u001b[0m\n",
            "\u001b[0;31mValueError\u001b[0m: invalid literal for int() with base 10: '0.0'"
          ]
        }
      ]
    }
  ]
}