{
  "nbformat": 4,
  "nbformat_minor": 0,
  "metadata": {
    "colab": {
      "name": "Text Summarization.ipynb",
      "provenance": []
    },
    "kernelspec": {
      "name": "python3",
      "display_name": "Python 3"
    }
  },
  "cells": [
    {
      "cell_type": "code",
      "metadata": {
        "id": "9xWPAPG2uQLa",
        "colab_type": "code",
        "outputId": "3044e326-c542-4104-cf86-405f78ef59c0",
        "colab": {
          "base_uri": "https://localhost:8080/",
          "height": 51
        }
      },
      "source": [
        "import nltk\n",
        "nltk.download('stopwords')\n",
        "  \n",
        "from nltk.corpus import stopwords\n",
        "from nltk.cluster.util import cosine_distance\n",
        "import numpy as np\n",
        "import networkx as nx"
      ],
      "execution_count": 0,
      "outputs": [
        {
          "output_type": "stream",
          "text": [
            "[nltk_data] Downloading package stopwords to /root/nltk_data...\n",
            "[nltk_data]   Package stopwords is already up-to-date!\n"
          ],
          "name": "stdout"
        }
      ]
    },
    {
      "cell_type": "code",
      "metadata": {
        "id": "ao9Ep-FnubrY",
        "colab_type": "code",
        "colab": {}
      },
      "source": [
        "def read_article(filedata):\n",
        "    # file = open(file_name, \"r\")\n",
        "    # filedata = file.readlines()\n",
        "    article = filedata.split(\".\")\n",
        "    sentences = []\n",
        "    for sentence in article:\n",
        "        # print(sentence)\n",
        "        sentences.append(sentence.replace(\"[^a-zA-Z]\", \" \").split(\" \"))\n",
        "    sentences.pop() \n",
        "    \n",
        "    return sentences\n",
        "\n",
        "def sentence_similarity(sent1, sent2, stopwords=None):\n",
        "    if stopwords is None:\n",
        "        stopwords = []\n",
        " \n",
        "    sent1 = [w.lower() for w in sent1]\n",
        "    sent2 = [w.lower() for w in sent2]\n",
        " \n",
        "    all_words = list(set(sent1 + sent2))\n",
        " \n",
        "    vector1 = [0] * len(all_words)\n",
        "    vector2 = [0] * len(all_words)\n",
        " \n",
        "    # build the vector for the first sentence\n",
        "    for w in sent1:\n",
        "        if w in stopwords:\n",
        "            continue\n",
        "        vector1[all_words.index(w)] += 1\n",
        " \n",
        "    # build the vector for the second sentence\n",
        "    for w in sent2:\n",
        "        if w in stopwords:\n",
        "            continue\n",
        "        vector2[all_words.index(w)] += 1\n",
        " \n",
        "    return 1 - cosine_distance(vector1, vector2)\n",
        " \n",
        "def build_similarity_matrix(sentences, stop_words):\n",
        "    # Create an empty similarity matrix\n",
        "    similarity_matrix = np.zeros((len(sentences), len(sentences)))\n",
        " \n",
        "    for idx1 in range(len(sentences)):\n",
        "        for idx2 in range(len(sentences)):\n",
        "            if idx1 == idx2: #ignore if both are same sentences\n",
        "                continue \n",
        "            similarity_matrix[idx1][idx2] = sentence_similarity(sentences[idx1], sentences[idx2], stop_words)\n",
        "\n",
        "    return similarity_matrix\n",
        "\n",
        "\n",
        "def generate_summary(file_name):\n",
        "    stop_words = stopwords.words('english')\n",
        "    summarize_text = []\n",
        "    temp_text = []\n",
        "    # Step 1 - Read text anc split it\n",
        "    sentences =  read_article(file_name)\n",
        "\n",
        "    # Step 2 - Generate Similary Martix across sentences\n",
        "    sentence_similarity_martix = build_similarity_matrix(sentences, stop_words)\n",
        "\n",
        "    # Step 3 - Rank sentences in similarity martix\n",
        "    sentence_similarity_graph = nx.from_numpy_array(sentence_similarity_martix)\n",
        "    scores = nx.pagerank_numpy(sentence_similarity_graph)\n",
        "\n",
        "    # Step 4 - Sort the rank and pick top sentences\n",
        "    ranked_sentence = sorted(((scores[i],s) for i,s in enumerate(sentences)), reverse=True) \n",
        "    # print(\"Indexes of top ranked_sentence order are \", ranked_sentence)    \n",
        "    finalText = \"\"\n",
        "    for i in range(0,len(ranked_sentence)):\n",
        "      temp_text.append(\" \".join(ranked_sentence[i][1]))\n",
        "      # summarize_text.append(\" \".join(ranked_sentence[i][1]))\n",
        "      if (len(\". \".join(temp_text)) < 127):\n",
        "          summarize_text.append(\" \".join(ranked_sentence[i][1]))\n",
        "          continue;\n",
        "      else:\n",
        "          break;\n",
        "\n",
        "    # Step 5 - Offcourse, output the summarize texr\n",
        "    finalSummarizeText = \". \".join(summarize_text)\n",
        "    # print(\"Summarize Text: \\n\", finalSummarizeText)\n",
        "    # print(\"length of summarized text: \", len(finalSummarizeText))\n",
        "    return finalSummarizeText\n"
      ],
      "execution_count": 0,
      "outputs": []
    },
    {
      "cell_type": "code",
      "metadata": {
        "id": "hi7bJBjuuxyl",
        "colab_type": "code",
        "colab": {}
      },
      "source": [
        "import pandas as pd\n",
        "df2 = pd.read_csv('drive/My Drive/Colab Notebooks/se-3.csv')\n"
      ],
      "execution_count": 0,
      "outputs": []
    },
    {
      "cell_type": "code",
      "metadata": {
        "id": "IaQ3j6N3u0zG",
        "colab_type": "code",
        "outputId": "5c396b7a-24f7-4fe3-be9b-d2831dae7095",
        "colab": {
          "base_uri": "https://localhost:8080/",
          "height": 54
        }
      },
      "source": [
        "from google.colab import drive\n",
        "drive.mount('/content/drive')"
      ],
      "execution_count": 0,
      "outputs": [
        {
          "output_type": "stream",
          "text": [
            "Drive already mounted at /content/drive; to attempt to forcibly remount, call drive.mount(\"/content/drive\", force_remount=True).\n"
          ],
          "name": "stdout"
        }
      ]
    },
    {
      "cell_type": "code",
      "metadata": {
        "id": "-I32vcG-ukdq",
        "colab_type": "code",
        "colab": {}
      },
      "source": [
        "set1 = df2[:500]\n",
        "set2 = df2[-500:]\n",
        "set1 = set1.append(set2, ignore_index = True) "
      ],
      "execution_count": 0,
      "outputs": []
    },
    {
      "cell_type": "code",
      "metadata": {
        "id": "cOi_rO1Hu1XQ",
        "colab_type": "code",
        "colab": {}
      },
      "source": [
        "import re\n",
        "\n",
        "set1['question1_processed'] = set1['question1'].map(lambda x: re.sub('[,]|comments|answers|questions|question|answer|tags|comment|tag|post|community|ell', '', str(x)))\n",
        "set1['question1_processed'] = set1['question1_processed'].map(lambda x: re.sub('[\\!\\?]', '.', str(x)))\n",
        "set1['question2_processed'] = set1['question2'].map(lambda x: re.sub('[,]|comments|answers|questions|question|answer|tags|comment|tag|post|community|ell', '', str(x)))\n",
        "set1['question2_processed'] = set1['question2_processed'].map(lambda x: re.sub('[\\!\\?]', '.', str(x)))\n",
        "set1['question1_processed'] = set1['question1_processed'].map(lambda x: x.lower())\n",
        "set1['question2_processed'] = set1['question2_processed'].map(lambda x: x.lower())"
      ],
      "execution_count": 0,
      "outputs": []
    },
    {
      "cell_type": "code",
      "metadata": {
        "id": "Sv5_ixD_v221",
        "colab_type": "code",
        "outputId": "d164f77b-7272-40f5-b339-6519dce29214",
        "colab": {
          "base_uri": "https://localhost:8080/",
          "height": 530
        }
      },
      "source": [
        "# index = 5238\n",
        "for i in range(0, 1000):\n",
        "  if i != 0 and i % 100 == 0:\n",
        "     print(\"{:,} sentences embedded.\".format(i), flush=True)\n",
        "  # set1['id'][i] = index\n",
        "  # index = index+1\n",
        "  set1['question1'][i] = set1['question1_processed'][i] = set1['question1_processed'][i].replace(\"\\r\",\"\").replace(\"\\n\",\"\")\n",
        "  set1['question2'][i] = set1['question2_processed'][i] = set1['question2_processed'][i].replace(\"\\r\",\"\").replace(\"\\n\",\"\")\n",
        "  # print(set1['question1'][i])\n",
        "  try:\n",
        "  # print(\"Sentence: \", df2['question1_processed'][i])\n",
        "    if len(set1['question1_processed'][i]) > 127:\n",
        "        summary = generate_summary(set1['question1_processed'][i])\n",
        "        # print(\"Summary1: \", summary);\n",
        "        if not summary:\n",
        "            summary = set1['question1_processed'][i]\n",
        "            # print(\"Summary2: \", summary);\n",
        "    else:\n",
        "        summary = set1['question1_processed'][i]\n",
        "        # print(\"Summary3: \", summary);\n",
        "  \n",
        "    set1['question1'][i] = summary\n",
        "\n",
        "    if len(set1['question2_processed'][i]) > 127:\n",
        "        summary = generate_summary(set1['question2_processed'][i])\n",
        "        # print(\"Summary1: \", summary);\n",
        "        if not summary:\n",
        "            summary = set1['question2_processed'][i]\n",
        "            # print(\"Summary2: \", summary);\n",
        "    else:\n",
        "        summary = set1['question2_processed'][i]\n",
        "        # print(\"Summary3: \", summary);\n",
        "    \n",
        "    set1['question2'][i] = summary\n",
        "  except:\n",
        "    continue;\n",
        "\n",
        "# print(set1)\n",
        "# set1.set_index('id', inplace=True)\n",
        "# print (set1)\n",
        "# with open('drive/My Drive/askUbuntuFinal.csv', 'a') as f:\n",
        "#     set1.to_csv(f)"
      ],
      "execution_count": 0,
      "outputs": [
        {
          "output_type": "stream",
          "text": [
            "/usr/local/lib/python3.6/dist-packages/ipykernel_launcher.py:6: SettingWithCopyWarning: \n",
            "A value is trying to be set on a copy of a slice from a DataFrame\n",
            "\n",
            "See the caveats in the documentation: http://pandas.pydata.org/pandas-docs/stable/user_guide/indexing.html#returning-a-view-versus-a-copy\n",
            "  \n",
            "/usr/local/lib/python3.6/dist-packages/ipykernel_launcher.py:7: SettingWithCopyWarning: \n",
            "A value is trying to be set on a copy of a slice from a DataFrame\n",
            "\n",
            "See the caveats in the documentation: http://pandas.pydata.org/pandas-docs/stable/user_guide/indexing.html#returning-a-view-versus-a-copy\n",
            "  import sys\n",
            "/usr/local/lib/python3.6/dist-packages/ipykernel_launcher.py:21: SettingWithCopyWarning: \n",
            "A value is trying to be set on a copy of a slice from a DataFrame\n",
            "\n",
            "See the caveats in the documentation: http://pandas.pydata.org/pandas-docs/stable/user_guide/indexing.html#returning-a-view-versus-a-copy\n",
            "/usr/local/lib/python3.6/dist-packages/ipykernel_launcher.py:33: SettingWithCopyWarning: \n",
            "A value is trying to be set on a copy of a slice from a DataFrame\n",
            "\n",
            "See the caveats in the documentation: http://pandas.pydata.org/pandas-docs/stable/user_guide/indexing.html#returning-a-view-versus-a-copy\n"
          ],
          "name": "stderr"
        },
        {
          "output_type": "stream",
          "text": [
            "100 sentences embedded.\n",
            "200 sentences embedded.\n"
          ],
          "name": "stdout"
        },
        {
          "output_type": "stream",
          "text": [
            "/usr/local/lib/python3.6/dist-packages/nltk/cluster/util.py:133: RuntimeWarning: invalid value encountered in true_divide\n",
            "  sqrt(numpy.dot(u, u)) * sqrt(numpy.dot(v, v))))\n"
          ],
          "name": "stderr"
        },
        {
          "output_type": "stream",
          "text": [
            "300 sentences embedded.\n",
            "400 sentences embedded.\n",
            "500 sentences embedded.\n",
            "600 sentences embedded.\n",
            "700 sentences embedded.\n",
            "800 sentences embedded.\n",
            "900 sentences embedded.\n"
          ],
          "name": "stdout"
        }
      ]
    },
    {
      "cell_type": "code",
      "metadata": {
        "id": "PIvz623AidkO",
        "colab_type": "code",
        "colab": {}
      },
      "source": [
        "# set1.set_index('id', inplace=True)\n",
        "from sklearn.utils import shuffle\n",
        "set1 = shuffle(set1)\n",
        "# with open('drive/My Drive/politicsFinal.csv', 'a') as f:\n",
        "#     set1.to_csv(f)"
      ],
      "execution_count": 0,
      "outputs": []
    },
    {
      "cell_type": "code",
      "metadata": {
        "id": "1mckrWhNPdPz",
        "colab_type": "code",
        "outputId": "55002904-7217-4d3f-be5b-91dbd4681b47",
        "colab": {
          "base_uri": "https://localhost:8080/",
          "height": 255
        }
      },
      "source": [
        "print(set1)\n",
        "with open('drive/My Drive/stackOverflowP.csv', 'w') as f:\n",
        "    set1.to_csv(f)"
      ],
      "execution_count": 0,
      "outputs": [
        {
          "output_type": "stream",
          "text": [
            "     Unnamed: 0  ...                                question2_processed\n",
            "72           72  ...  can i automatically increment the file build v...\n",
            "174         174  ...  how can i profile c++ code running on linux.i ...\n",
            "676       41434  ...  asp.net mvc example of editing multiple child ...\n",
            "618       41376  ...  what's the best way to let a user pick a subdi...\n",
            "873       41631  ...  alternative to itoa() for converting integer t...\n",
            "..          ...  ...                                                ...\n",
            "12           12  ...  storing images in db - yea or nay.so i'm using...\n",
            "620       41378  ...  c++ wrapper with same name.how can i do a wrap...\n",
            "246         246  ...  how can i modify .xfdl files. (update #1)the ....\n",
            "470         470  ...  what are differences between assemblyversion a...\n",
            "344         344  ...  what are 'closures' in .net.what is a closure....\n",
            "\n",
            "[1000 rows x 9 columns]\n"
          ],
          "name": "stdout"
        }
      ]
    },
    {
      "cell_type": "code",
      "metadata": {
        "id": "OYxFEfE8SfY3",
        "colab_type": "code",
        "outputId": "cd7270a0-15c2-4e70-8639-98da20de5f70",
        "colab": {
          "base_uri": "https://localhost:8080/",
          "height": 34
        }
      },
      "source": [
        "set1[\"question1\"][6]"
      ],
      "execution_count": 0,
      "outputs": [
        {
          "output_type": "execute_result",
          "data": {
            "text/plain": [
              "'  my  is:what is the best way to deal with storing images in postgres'"
            ]
          },
          "metadata": {
            "tags": []
          },
          "execution_count": 78
        }
      ]
    },
    {
      "cell_type": "code",
      "metadata": {
        "id": "5pAQR8J5Bv0X",
        "colab_type": "code",
        "outputId": "61541b6f-e961-4add-ab39-0e4f40d73ba0",
        "colab": {
          "base_uri": "https://localhost:8080/",
          "height": 207
        }
      },
      "source": [
        "for i in range(0,10):\n",
        "  print(\"i\", set1[\"question1\"][i])"
      ],
      "execution_count": 0,
      "outputs": [
        {
          "output_type": "stream",
          "text": [
            "i calculate relative time in c#given a specific datetime value how do i display relative time like:2 hours ago3 days agoa month ago\n",
            "i  so. . .  should constants be capitalized.  or is that an archaic practice. should i capitalize my constants\n",
            "i jeff finished his  talking about this but i don't catch the idea. so why do you think this is a bad coding style\n",
            "i determine a user's timezoneis there a standard way for a web server to be able to determine a user's timezone within a web page. perhaps from an http header or part of the user-agent string.\n",
            "i binary data in mysqlhow do i store binary data in mysql.\n",
            "i generally how bad of a performance hit is storing a file in a database (specifically mssql) as opposed to the file system\n",
            "i   my  is:what is the best way to deal with storing images in postgres\n",
            "i   it is intended to manage a few megabytes of information but also manage scanned images in full resolution\n",
            "i  this  is specifically about the pros/cons of using a db or fs for a small number of images\n",
            "i  (this is another  how to resize the images on the server side before storing\n"
          ],
          "name": "stdout"
        }
      ]
    },
    {
      "cell_type": "code",
      "metadata": {
        "id": "GH0GHDH6eJfD",
        "colab_type": "code",
        "colab": {}
      },
      "source": [
        ""
      ],
      "execution_count": 0,
      "outputs": []
    }
  ]
}